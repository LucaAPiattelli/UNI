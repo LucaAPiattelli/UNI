{
  "nbformat": 4,
  "nbformat_minor": 0,
  "metadata": {
    "colab": {
      "name": "R_02_UNI_preparacion_datos.ipynb",
      "provenance": [],
      "collapsed_sections": [
        "WpD96PIw1f7Q",
        "LYE0Jpx61jvF",
        "yZ0UhKcV002A",
        "FCIxLniPiXqY",
        "yw-RVUAGj-sw",
        "xsoWBh9UkVsS",
        "WU2f5PfSk8MQ",
        "wUsSulLimMnU",
        "NdhdpT2dlMkW",
        "yWDMgTxdlJJz",
        "vce8S-5QnhMF",
        "uTU15o7Qn9zH",
        "jD9O1gNNp23W",
        "Y6G4EpSBquBE"
      ],
      "include_colab_link": true
    },
    "kernelspec": {
      "name": "ir",
      "display_name": "R"
    },
    "language_info": {
      "name": "R"
    }
  },
  "cells": [
    {
      "cell_type": "markdown",
      "metadata": {
        "id": "view-in-github",
        "colab_type": "text"
      },
      "source": [
        "<a href=\"https://colab.research.google.com/github/LucaAPiattelli/UNI/blob/main/R_02_UNI_preparacion_datos.ipynb\" target=\"_parent\"><img src=\"https://colab.research.google.com/assets/colab-badge.svg\" alt=\"Open In Colab\"/></a>"
      ]
    },
    {
      "cell_type": "markdown",
      "metadata": {
        "id": "1UZhGouTO77d"
      },
      "source": [
        "<center>\n",
        "\n",
        "![Captura de Pantalla 2021-08-16 a la(s) 23.25.35.png](data:image/png;base64,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)\n",
        "\n",
        "</center>"
      ]
    },
    {
      "cell_type": "markdown",
      "metadata": {
        "id": "nq8i_jzLO_on"
      },
      "source": [
        "<center>\n",
        "<font color=\"#091f60\">\n",
        "<h1><b>\n",
        "Dirección de Estudios de Posgrado y Educación Continua\n",
        "<h2><b>\n",
        "Analítica Avanzada con Power BI, R y Python\n",
        "</font>\n",
        "</center>"
      ]
    },
    {
      "cell_type": "markdown",
      "metadata": {
        "id": "0b1vdfUAPB01"
      },
      "source": [
        "[UNI-DEPEC](https://posgrado.uni.edu.ni)"
      ]
    },
    {
      "cell_type": "markdown",
      "metadata": {
        "id": "shgY0VK5PEGI"
      },
      "source": [
        "<font color=\"#091f60\">\n",
        "<h1><b>\n",
        "Preparación de datos\n",
        "\n",
        "</font>"
      ]
    },
    {
      "cell_type": "markdown",
      "metadata": {
        "id": "zBmdCF6Zzcda"
      },
      "source": [
        "# Tidyverse"
      ]
    },
    {
      "cell_type": "markdown",
      "metadata": {
        "id": "FETg3kcpeB-1"
      },
      "source": [
        "![texto del vínculo](https://elixir-luxembourg.org/assets/events_photos/2021_05_06_R_Tidyverse.png)"
      ]
    },
    {
      "cell_type": "markdown",
      "metadata": {
        "id": "afZ32sUbe4JQ"
      },
      "source": [
        "Tidyverse es una librería que nos permite hacer gran parte de las tareas previas a la aplicación de un modelo de machine learning, como, conectarnos a los datos, limpiarlos, gráficarlos, transformarlos, entre otras tareas"
      ]
    },
    {
      "cell_type": "code",
      "metadata": {
        "id": "VVy8RnUj0k-R",
        "colab": {
          "base_uri": "https://localhost:8080/"
        },
        "outputId": "f926b02b-a665-456a-a5f7-94a543e3bb10"
      },
      "source": [
        "library(tidyverse)"
      ],
      "execution_count": null,
      "outputs": [
        {
          "output_type": "stream",
          "text": [
            "Warning message in system(\"timedatectl\", intern = TRUE):\n",
            "“running command 'timedatectl' had status 1”\n",
            "── \u001b[1mAttaching packages\u001b[22m ─────────────────────────────────────── tidyverse 1.3.1 ──\n",
            "\n",
            "\u001b[32m✔\u001b[39m \u001b[34mggplot2\u001b[39m 3.3.5     \u001b[32m✔\u001b[39m \u001b[34mpurrr  \u001b[39m 0.3.4\n",
            "\u001b[32m✔\u001b[39m \u001b[34mtibble \u001b[39m 3.1.3     \u001b[32m✔\u001b[39m \u001b[34mdplyr  \u001b[39m 1.0.7\n",
            "\u001b[32m✔\u001b[39m \u001b[34mtidyr  \u001b[39m 1.1.3     \u001b[32m✔\u001b[39m \u001b[34mstringr\u001b[39m 1.4.0\n",
            "\u001b[32m✔\u001b[39m \u001b[34mreadr  \u001b[39m 2.0.1     \u001b[32m✔\u001b[39m \u001b[34mforcats\u001b[39m 0.5.1\n",
            "\n",
            "── \u001b[1mConflicts\u001b[22m ────────────────────────────────────────── tidyverse_conflicts() ──\n",
            "\u001b[31m✖\u001b[39m \u001b[34mdplyr\u001b[39m::\u001b[32mfilter()\u001b[39m masks \u001b[34mstats\u001b[39m::filter()\n",
            "\u001b[31m✖\u001b[39m \u001b[34mdplyr\u001b[39m::\u001b[32mlag()\u001b[39m    masks \u001b[34mstats\u001b[39m::lag()\n",
            "\n"
          ],
          "name": "stderr"
        }
      ]
    },
    {
      "cell_type": "markdown",
      "metadata": {
        "id": "HJCz31NP1bIQ"
      },
      "source": [
        "## Funciones propias de R"
      ]
    },
    {
      "cell_type": "markdown",
      "metadata": {
        "id": "sFpNeL8z1KDu"
      },
      "source": [
        "### Tipos de datos en R"
      ]
    },
    {
      "cell_type": "markdown",
      "metadata": {
        "id": "OnQfhTX5a62r"
      },
      "source": [
        "Los principales tipos de datos son:\n",
        "\n",
        "* character: cadena de caracteres de texto\n",
        "* numeric: números decimales\n",
        "* integer: número entero\n",
        "* logical: valores booleanos\n",
        "* factor: datos categóricos (finitos)\n"
      ]
    },
    {
      "cell_type": "code",
      "metadata": {
        "id": "bfSWgg4S1LwQ",
        "colab": {
          "base_uri": "https://localhost:8080/"
        },
        "outputId": "0dfb5438-2dde-460c-c0c9-d5c5585d2014"
      },
      "source": [
        "a <- \"Quiero aprender más!\"\n",
        "a\n",
        "class(a)"
      ],
      "execution_count": null,
      "outputs": [
        {
          "output_type": "display_data",
          "data": {
            "text/plain": [
              "[1] \"Quiero aprender más!\""
            ],
            "text/latex": "'Quiero aprender más!'",
            "text/markdown": "'Quiero aprender más!'",
            "text/html": [
              "'Quiero aprender más!'"
            ]
          },
          "metadata": {}
        },
        {
          "output_type": "display_data",
          "data": {
            "text/plain": [
              "[1] \"character\""
            ],
            "text/latex": "'character'",
            "text/markdown": "'character'",
            "text/html": [
              "'character'"
            ]
          },
          "metadata": {}
        }
      ]
    },
    {
      "cell_type": "code",
      "metadata": {
        "colab": {
          "base_uri": "https://localhost:8080/"
        },
        "id": "t8mHwLG9benW",
        "outputId": "edce5bb9-e538-4ba4-f7cb-76867d18fe01"
      },
      "source": [
        "a <- 23\n",
        "a\n",
        "class(a)"
      ],
      "execution_count": null,
      "outputs": [
        {
          "output_type": "display_data",
          "data": {
            "text/plain": [
              "[1] 23"
            ],
            "text/latex": "23",
            "text/markdown": "23",
            "text/html": [
              "23"
            ]
          },
          "metadata": {}
        },
        {
          "output_type": "display_data",
          "data": {
            "text/plain": [
              "[1] \"numeric\""
            ],
            "text/latex": "'numeric'",
            "text/markdown": "'numeric'",
            "text/html": [
              "'numeric'"
            ]
          },
          "metadata": {}
        }
      ]
    },
    {
      "cell_type": "code",
      "metadata": {
        "colab": {
          "base_uri": "https://localhost:8080/"
        },
        "id": "ZQEC6AcGbf50",
        "outputId": "4328ef26-fcd1-46fc-ce1f-f9b0d5faab74"
      },
      "source": [
        "a <- 23.23\n",
        "a\n",
        "class(a)"
      ],
      "execution_count": null,
      "outputs": [
        {
          "output_type": "display_data",
          "data": {
            "text/plain": [
              "[1] 23.23"
            ],
            "text/latex": "23.23",
            "text/markdown": "23.23",
            "text/html": [
              "23.23"
            ]
          },
          "metadata": {}
        },
        {
          "output_type": "display_data",
          "data": {
            "text/plain": [
              "[1] \"numeric\""
            ],
            "text/latex": "'numeric'",
            "text/markdown": "'numeric'",
            "text/html": [
              "'numeric'"
            ]
          },
          "metadata": {}
        }
      ]
    },
    {
      "cell_type": "code",
      "metadata": {
        "colab": {
          "base_uri": "https://localhost:8080/"
        },
        "id": "uI5s0N1Cb11l",
        "outputId": "87434005-3cf9-4d00-a9f8-b0ad38880bf3"
      },
      "source": [
        "a <- as.integer(23.23)\n",
        "a\n",
        "class(a)"
      ],
      "execution_count": null,
      "outputs": [
        {
          "output_type": "display_data",
          "data": {
            "text/plain": [
              "[1] 23"
            ],
            "text/latex": "23",
            "text/markdown": "23",
            "text/html": [
              "23"
            ]
          },
          "metadata": {}
        },
        {
          "output_type": "display_data",
          "data": {
            "text/plain": [
              "[1] \"integer\""
            ],
            "text/latex": "'integer'",
            "text/markdown": "'integer'",
            "text/html": [
              "'integer'"
            ]
          },
          "metadata": {}
        }
      ]
    },
    {
      "cell_type": "code",
      "metadata": {
        "colab": {
          "base_uri": "https://localhost:8080/"
        },
        "id": "4YC132nab75Z",
        "outputId": "bb9ede05-88f2-4d5d-804e-c26a37d9e809"
      },
      "source": [
        "a <- TRUE\n",
        "a\n",
        "class(a)"
      ],
      "execution_count": null,
      "outputs": [
        {
          "output_type": "display_data",
          "data": {
            "text/plain": [
              "[1] TRUE"
            ],
            "text/latex": "TRUE",
            "text/markdown": "TRUE",
            "text/html": [
              "TRUE"
            ]
          },
          "metadata": {}
        },
        {
          "output_type": "display_data",
          "data": {
            "text/plain": [
              "[1] \"logical\""
            ],
            "text/latex": "'logical'",
            "text/markdown": "'logical'",
            "text/html": [
              "'logical'"
            ]
          },
          "metadata": {}
        }
      ]
    },
    {
      "cell_type": "code",
      "metadata": {
        "colab": {
          "base_uri": "https://localhost:8080/"
        },
        "id": "UZR7jqvucH3b",
        "outputId": "e4bb88b0-ea3f-43b2-f220-12406f789cd0"
      },
      "source": [
        "a <- factor(c(\"good\", \"bad\", \"ugly\",\"good\", \"bad\", \"ugly\"))\n",
        "print(a)\n",
        "class(a)"
      ],
      "execution_count": null,
      "outputs": [
        {
          "output_type": "stream",
          "text": [
            "[1] good bad  ugly good bad  ugly\n",
            "Levels: bad good ugly\n"
          ],
          "name": "stdout"
        },
        {
          "output_type": "display_data",
          "data": {
            "text/plain": [
              "[1] \"factor\""
            ],
            "text/latex": "'factor'",
            "text/markdown": "'factor'",
            "text/html": [
              "'factor'"
            ]
          },
          "metadata": {}
        }
      ]
    },
    {
      "cell_type": "markdown",
      "metadata": {
        "id": "WpD96PIw1f7Q"
      },
      "source": [
        "### Funciones as. "
      ]
    },
    {
      "cell_type": "markdown",
      "metadata": {
        "id": "SgkHobfHcmRc"
      },
      "source": [
        "La función as fuerza a un objeto a pertenecer a una clase\n",
        "\n",
        "* as.numeric(objeto)\n",
        "* as.integer()\n",
        "* as.character()\n",
        "* as.logical()\n",
        "* as.factor()"
      ]
    },
    {
      "cell_type": "code",
      "metadata": {
        "id": "mKAMSWF1cYYh"
      },
      "source": [
        "a <- 23.3"
      ],
      "execution_count": null,
      "outputs": []
    },
    {
      "cell_type": "code",
      "metadata": {
        "colab": {
          "base_uri": "https://localhost:8080/"
        },
        "id": "E4YB13r_dnCD",
        "outputId": "9f98e872-4fd7-4a2c-8676-3438ede05eb3"
      },
      "source": [
        "class(a)"
      ],
      "execution_count": null,
      "outputs": [
        {
          "output_type": "display_data",
          "data": {
            "text/plain": [
              "[1] \"numeric\""
            ],
            "text/latex": "'numeric'",
            "text/markdown": "'numeric'",
            "text/html": [
              "'numeric'"
            ]
          },
          "metadata": {}
        }
      ]
    },
    {
      "cell_type": "code",
      "metadata": {
        "id": "e6wyUE47doio"
      },
      "source": [
        "a <- as.character(a)"
      ],
      "execution_count": null,
      "outputs": []
    },
    {
      "cell_type": "code",
      "metadata": {
        "colab": {
          "base_uri": "https://localhost:8080/"
        },
        "id": "J-2xr_OrdsaA",
        "outputId": "ac56924b-4c77-4e26-878e-23040082d113"
      },
      "source": [
        "class(a)"
      ],
      "execution_count": null,
      "outputs": [
        {
          "output_type": "display_data",
          "data": {
            "text/plain": [
              "[1] \"character\""
            ],
            "text/latex": "'character'",
            "text/markdown": "'character'",
            "text/html": [
              "'character'"
            ]
          },
          "metadata": {}
        }
      ]
    },
    {
      "cell_type": "markdown",
      "metadata": {
        "id": "LYE0Jpx61jvF"
      },
      "source": [
        "### Funciones is."
      ]
    },
    {
      "cell_type": "markdown",
      "metadata": {
        "id": "4L6OoBcOcpmx"
      },
      "source": [
        "Nos dice si un objeto pertenece o no a una clase\n",
        "\n",
        "* is.numeric(objeto)\n",
        "* is.integer()\n",
        "* is.character()\n",
        "* is.logical()\n",
        "* is.factor()\n",
        "* is.na()"
      ]
    },
    {
      "cell_type": "code",
      "metadata": {
        "id": "hNglsY1fcsca"
      },
      "source": [
        "a <- 23"
      ],
      "execution_count": null,
      "outputs": []
    },
    {
      "cell_type": "code",
      "metadata": {
        "colab": {
          "base_uri": "https://localhost:8080/"
        },
        "id": "dRpzeP68d4kr",
        "outputId": "fa4bcf35-aa2c-4d5b-a57a-af77d949206f"
      },
      "source": [
        "is.character(a)"
      ],
      "execution_count": null,
      "outputs": [
        {
          "output_type": "display_data",
          "data": {
            "text/plain": [
              "[1] FALSE"
            ],
            "text/latex": "FALSE",
            "text/markdown": "FALSE",
            "text/html": [
              "FALSE"
            ]
          },
          "metadata": {}
        }
      ]
    },
    {
      "cell_type": "code",
      "metadata": {
        "colab": {
          "base_uri": "https://localhost:8080/"
        },
        "id": "xfU8FXuwd4ic",
        "outputId": "6d526af4-ac90-4f83-89aa-7e7eb9a33390"
      },
      "source": [
        "is.numeric(a)"
      ],
      "execution_count": null,
      "outputs": [
        {
          "output_type": "display_data",
          "data": {
            "text/plain": [
              "[1] TRUE"
            ],
            "text/latex": "TRUE",
            "text/markdown": "TRUE",
            "text/html": [
              "TRUE"
            ]
          },
          "metadata": {}
        }
      ]
    },
    {
      "cell_type": "code",
      "metadata": {
        "colab": {
          "base_uri": "https://localhost:8080/"
        },
        "id": "NzBOWQAVd8br",
        "outputId": "e5aa09de-d090-47b9-e63f-58944f04df29"
      },
      "source": [
        "is.integer(a)"
      ],
      "execution_count": null,
      "outputs": [
        {
          "output_type": "display_data",
          "data": {
            "text/plain": [
              "[1] FALSE"
            ],
            "text/latex": "FALSE",
            "text/markdown": "FALSE",
            "text/html": [
              "FALSE"
            ]
          },
          "metadata": {}
        }
      ]
    },
    {
      "cell_type": "markdown",
      "metadata": {
        "id": "Ivdh03W60O8f"
      },
      "source": [
        "## readr"
      ]
    },
    {
      "cell_type": "markdown",
      "metadata": {
        "id": "uzo-tQ-Z0zLU"
      },
      "source": [
        "### Importar datos"
      ]
    },
    {
      "cell_type": "markdown",
      "metadata": {
        "id": "pOlUZ7KoY7QF"
      },
      "source": [
        "[Se pueden leer múltiples formatos de archivos](https://readr.tidyverse.org/reference/index.html)\n",
        "\n",
        "Los parámetros que se pueden utilizar en esta función son:\n",
        "* delim = tipo de separador, por ejemplo \",\"\n",
        "* skip = Cantidad de filas superiores a omitir\n",
        "* col_select = lista con las columnas que queremos\n",
        "* col_types = tipo de datos de las columnas \n",
        "\n",
        "[Otros parámetros](https://readr.tidyverse.org/reference/read_delim.html)"
      ]
    },
    {
      "cell_type": "code",
      "metadata": {
        "id": "-hirtkC00klg"
      },
      "source": [
        "archivo = \"https://raw.githubusercontent.com/LucaAPiattelli/UNI/main/Datasets/Regresion/saratogahouses.csv\""
      ],
      "execution_count": null,
      "outputs": []
    },
    {
      "cell_type": "code",
      "metadata": {
        "colab": {
          "base_uri": "https://localhost:8080/"
        },
        "id": "D0xbhEVPZ9YJ",
        "outputId": "7601657d-44a1-449b-cb12-c53fbfd9e3e8"
      },
      "source": [
        "data <- read_csv(archivo)"
      ],
      "execution_count": null,
      "outputs": [
        {
          "output_type": "stream",
          "text": [
            "\u001b[1m\u001b[1mRows: \u001b[1m\u001b[22m\u001b[34m\u001b[34m1728\u001b[34m\u001b[39m \u001b[1m\u001b[1mColumns: \u001b[1m\u001b[22m\u001b[34m\u001b[34m16\u001b[34m\u001b[39m\n",
            "\n",
            "\u001b[36m──\u001b[39m \u001b[1m\u001b[1mColumn specification\u001b[1m\u001b[22m \u001b[36m────────────────────────────────────────────────────────\u001b[39m\n",
            "\u001b[1mDelimiter:\u001b[22m \",\"\n",
            "\u001b[31mchr\u001b[39m (7): lotSize, heating, fuel, sewer, waterfront, newConstruction, centralAir\n",
            "\u001b[32mdbl\u001b[39m (9): price, age, landValue, livingArea, pctCollege, bedrooms, fireplaces...\n",
            "\n",
            "\n",
            "\u001b[36mℹ\u001b[39m Use \u001b[30m\u001b[47m\u001b[30m\u001b[47m`spec()`\u001b[47m\u001b[30m\u001b[49m\u001b[39m to retrieve the full column specification for this data.\n",
            "\u001b[36mℹ\u001b[39m Specify the column types or set \u001b[30m\u001b[47m\u001b[30m\u001b[47m`show_col_types = FALSE`\u001b[47m\u001b[30m\u001b[49m\u001b[39m to quiet this message.\n",
            "\n"
          ],
          "name": "stderr"
        }
      ]
    },
    {
      "cell_type": "code",
      "metadata": {
        "colab": {
          "base_uri": "https://localhost:8080/"
        },
        "id": "zRk7qWZTaA5d",
        "outputId": "a4097773-4f67-4870-d2c4-5e8046021304"
      },
      "source": [
        "head(data)"
      ],
      "execution_count": null,
      "outputs": [
        {
          "output_type": "display_data",
          "data": {
            "text/plain": [
              "  price  lotSize age landValue livingArea pctCollege bedrooms fireplaces\n",
              "1 132500 0.09     42 50000      906       35         2        1         \n",
              "2 181115 0.92      0 22300     1953       51         3        0         \n",
              "3 109000 0.19    133  7300     1944       51         4        1         \n",
              "4 155000 0.41     13 18700     1944       51         3        1         \n",
              "5  86060 0.11      0 15000      840       51         2        0         \n",
              "6 120000 0.68     31 14000     1152       22         4        1         \n",
              "  bathrooms rooms heating         fuel     sewer             waterfront\n",
              "1 1.0       5     electric        electric septic            No        \n",
              "2 2.5       6     hot water/steam gas      septic            No        \n",
              "3 1.0       8     hot water/steam gas      public/commercial No        \n",
              "4 1.5       5     hot air         gas      septic            No        \n",
              "5 1.0       3     hot air         gas      public/commercial No        \n",
              "6 1.0       8     hot air         gas      septic            No        \n",
              "  newConstruction centralAir\n",
              "1 No              No        \n",
              "2 No              No        \n",
              "3 No              No        \n",
              "4 No              No        \n",
              "5 Yes             Yes       \n",
              "6 No              No        "
            ],
            "text/latex": "A tibble: 6 × 16\n\\begin{tabular}{llllllllllllllll}\n price & lotSize & age & landValue & livingArea & pctCollege & bedrooms & fireplaces & bathrooms & rooms & heating & fuel & sewer & waterfront & newConstruction & centralAir\\\\\n <dbl> & <chr> & <dbl> & <dbl> & <dbl> & <dbl> & <dbl> & <dbl> & <dbl> & <dbl> & <chr> & <chr> & <chr> & <chr> & <chr> & <chr>\\\\\n\\hline\n\t 132500 & 0.09 &  42 & 50000 &  906 & 35 & 2 & 1 & 1.0 & 5 & electric        & electric & septic            & No & No  & No \\\\\n\t 181115 & 0.92 &   0 & 22300 & 1953 & 51 & 3 & 0 & 2.5 & 6 & hot water/steam & gas      & septic            & No & No  & No \\\\\n\t 109000 & 0.19 & 133 &  7300 & 1944 & 51 & 4 & 1 & 1.0 & 8 & hot water/steam & gas      & public/commercial & No & No  & No \\\\\n\t 155000 & 0.41 &  13 & 18700 & 1944 & 51 & 3 & 1 & 1.5 & 5 & hot air         & gas      & septic            & No & No  & No \\\\\n\t  86060 & 0.11 &   0 & 15000 &  840 & 51 & 2 & 0 & 1.0 & 3 & hot air         & gas      & public/commercial & No & Yes & Yes\\\\\n\t 120000 & 0.68 &  31 & 14000 & 1152 & 22 & 4 & 1 & 1.0 & 8 & hot air         & gas      & septic            & No & No  & No \\\\\n\\end{tabular}\n",
            "text/markdown": "\nA tibble: 6 × 16\n\n| price &lt;dbl&gt; | lotSize &lt;chr&gt; | age &lt;dbl&gt; | landValue &lt;dbl&gt; | livingArea &lt;dbl&gt; | pctCollege &lt;dbl&gt; | bedrooms &lt;dbl&gt; | fireplaces &lt;dbl&gt; | bathrooms &lt;dbl&gt; | rooms &lt;dbl&gt; | heating &lt;chr&gt; | fuel &lt;chr&gt; | sewer &lt;chr&gt; | waterfront &lt;chr&gt; | newConstruction &lt;chr&gt; | centralAir &lt;chr&gt; |\n|---|---|---|---|---|---|---|---|---|---|---|---|---|---|---|---|\n| 132500 | 0.09 |  42 | 50000 |  906 | 35 | 2 | 1 | 1.0 | 5 | electric        | electric | septic            | No | No  | No  |\n| 181115 | 0.92 |   0 | 22300 | 1953 | 51 | 3 | 0 | 2.5 | 6 | hot water/steam | gas      | septic            | No | No  | No  |\n| 109000 | 0.19 | 133 |  7300 | 1944 | 51 | 4 | 1 | 1.0 | 8 | hot water/steam | gas      | public/commercial | No | No  | No  |\n| 155000 | 0.41 |  13 | 18700 | 1944 | 51 | 3 | 1 | 1.5 | 5 | hot air         | gas      | septic            | No | No  | No  |\n|  86060 | 0.11 |   0 | 15000 |  840 | 51 | 2 | 0 | 1.0 | 3 | hot air         | gas      | public/commercial | No | Yes | Yes |\n| 120000 | 0.68 |  31 | 14000 | 1152 | 22 | 4 | 1 | 1.0 | 8 | hot air         | gas      | septic            | No | No  | No  |\n\n",
            "text/html": [
              "<table class=\"dataframe\">\n",
              "<caption>A tibble: 6 × 16</caption>\n",
              "<thead>\n",
              "\t<tr><th scope=col>price</th><th scope=col>lotSize</th><th scope=col>age</th><th scope=col>landValue</th><th scope=col>livingArea</th><th scope=col>pctCollege</th><th scope=col>bedrooms</th><th scope=col>fireplaces</th><th scope=col>bathrooms</th><th scope=col>rooms</th><th scope=col>heating</th><th scope=col>fuel</th><th scope=col>sewer</th><th scope=col>waterfront</th><th scope=col>newConstruction</th><th scope=col>centralAir</th></tr>\n",
              "\t<tr><th scope=col>&lt;dbl&gt;</th><th scope=col>&lt;chr&gt;</th><th scope=col>&lt;dbl&gt;</th><th scope=col>&lt;dbl&gt;</th><th scope=col>&lt;dbl&gt;</th><th scope=col>&lt;dbl&gt;</th><th scope=col>&lt;dbl&gt;</th><th scope=col>&lt;dbl&gt;</th><th scope=col>&lt;dbl&gt;</th><th scope=col>&lt;dbl&gt;</th><th scope=col>&lt;chr&gt;</th><th scope=col>&lt;chr&gt;</th><th scope=col>&lt;chr&gt;</th><th scope=col>&lt;chr&gt;</th><th scope=col>&lt;chr&gt;</th><th scope=col>&lt;chr&gt;</th></tr>\n",
              "</thead>\n",
              "<tbody>\n",
              "\t<tr><td>132500</td><td>0.09</td><td> 42</td><td>50000</td><td> 906</td><td>35</td><td>2</td><td>1</td><td>1.0</td><td>5</td><td>electric       </td><td>electric</td><td>septic           </td><td>No</td><td>No </td><td>No </td></tr>\n",
              "\t<tr><td>181115</td><td>0.92</td><td>  0</td><td>22300</td><td>1953</td><td>51</td><td>3</td><td>0</td><td>2.5</td><td>6</td><td>hot water/steam</td><td>gas     </td><td>septic           </td><td>No</td><td>No </td><td>No </td></tr>\n",
              "\t<tr><td>109000</td><td>0.19</td><td>133</td><td> 7300</td><td>1944</td><td>51</td><td>4</td><td>1</td><td>1.0</td><td>8</td><td>hot water/steam</td><td>gas     </td><td>public/commercial</td><td>No</td><td>No </td><td>No </td></tr>\n",
              "\t<tr><td>155000</td><td>0.41</td><td> 13</td><td>18700</td><td>1944</td><td>51</td><td>3</td><td>1</td><td>1.5</td><td>5</td><td>hot air        </td><td>gas     </td><td>septic           </td><td>No</td><td>No </td><td>No </td></tr>\n",
              "\t<tr><td> 86060</td><td>0.11</td><td>  0</td><td>15000</td><td> 840</td><td>51</td><td>2</td><td>0</td><td>1.0</td><td>3</td><td>hot air        </td><td>gas     </td><td>public/commercial</td><td>No</td><td>Yes</td><td>Yes</td></tr>\n",
              "\t<tr><td>120000</td><td>0.68</td><td> 31</td><td>14000</td><td>1152</td><td>22</td><td>4</td><td>1</td><td>1.0</td><td>8</td><td>hot air        </td><td>gas     </td><td>septic           </td><td>No</td><td>No </td><td>No </td></tr>\n",
              "</tbody>\n",
              "</table>\n"
            ]
          },
          "metadata": {}
        }
      ]
    },
    {
      "cell_type": "code",
      "metadata": {
        "id": "eg93KS8daFk-"
      },
      "source": [
        "a = data$price"
      ],
      "execution_count": null,
      "outputs": []
    },
    {
      "cell_type": "code",
      "metadata": {
        "colab": {
          "base_uri": "https://localhost:8080/"
        },
        "id": "6Sk94LmsaJxP",
        "outputId": "96948505-3cd8-454a-a688-4c36d42ce7e5"
      },
      "source": [
        "a"
      ],
      "execution_count": null,
      "outputs": [
        {
          "output_type": "display_data",
          "data": {
            "text/plain": [
              "   [1] 132500 181115 109000 155000  86060 120000 153000 170000  90000 122900\n",
              "  [11] 325000 120000  85860  97000 127000  89900 155000 253750  60000  87500\n",
              "  [21] 112000 104900 148635 150000  90400 248800 135000 145000 457000 140000\n",
              "  [31] 130000 187000 229000 227000 179900 169900 209900 169900 293000 245900\n",
              "  [41] 157000 195000 150000 234900 279550 246500 124000 138000 290000 108000\n",
              "  [51] 134900  64500 142000 125000  88000 135000  90000  90100 126900 175000\n",
              "  [61] 158000  92000  82800 140000 171000 200640 139000 225000 182000 208767\n",
              "  [71] 186000  93000 257386 161000  92000 211002 115000 113000 216300 145000\n",
              "  [81] 114000 139050 104000 169900 177900 133000 185000 115000 100000 117000\n",
              "  [91] 150000 187500 107000 126900 147000  62000 101000 143500 113400  76320\n",
              " [101] 110000  88000 108000 114900 146000 225000 138000 218070  25000 112000\n",
              " [111] 112500  97000 121000  65720 225000 192000 158500 247000 193777 136500\n",
              " [121]  75000  45000 243000  90000 158000 174000 150000 159650 139062  84950\n",
              " [131] 102000 175000  78500 232478  93805 119900 146000 125000 135000 157500\n",
              " [141] 135000 142900 259900  85000 180377 163500 106500 115000 115000 135000\n",
              " [151] 198900 139000 206000 120000 205980 275000 139000  89900 139900 172750\n",
              " [161] 136000 270000 174000 379000 382500 144900 349900 133000 115000 211950\n",
              " [171] 227812 164400 340000 139900 279900 225000 144500 362710 247000 120000\n",
              " [181] 136000 228500 162800 230000 115800 175000 263008 146000 204900 265000\n",
              " [191] 167500 205000 170000 176000 132000 115500 150000 120000 125000 150000\n",
              " [201] 362360 133500  91000 104000 148000 182000 152500  97000 113000 172000\n",
              " [211] 179900  84000 117900 177000 107500  92500 102900 134800 150000 165000\n",
              " [221] 120000 177500 300000 123500 141000 105400 100600 108900 105500 109900\n",
              " [231] 172700 166500 105000 490000 120000 107500 116600  65000 118000 115900\n",
              " [241] 100000 171000 188000 140000 124500 107200 107500 180000 214325 128850\n",
              " [251] 208700 139900 350000 108000 115500 135000 135000 107400 233000 105000\n",
              " [261] 335000 139000 209500 101000  77500 150500 167000 114000 160000  85000\n",
              " [271] 143000 126000 140000 140000 205000  79900 139000 190000 151500  97500\n",
              " [281] 194500 195160 152500 159500 185000 240000 187900 262000 212500 220000\n",
              " [291] 245000 120000 102500 136000 212500 205900 259900 191500 272500 191500\n",
              " [301] 158000 195000 187500 160000 137500 109900  85000 184350 134500 154900\n",
              " [311] 255000 238600 106000 625000 195000 168500  87000 215000 197500 215000\n",
              " [321] 118000 187900 275000 249900 270000 157900 120000 126400 220000 180000\n",
              " [331] 203600 249900 193000 215000 201000  65000 195000 215900  92000 155000\n",
              " [341] 123500 110400 198900 150000 104000 245000 180000 154300 170000 219000\n",
              " [351] 295000 181500 260000 239900 135500 191500 225000  98500 110500 290000\n",
              " [361] 184400 178500 415000 244900 150000 168000 159000 127000 175000 255250\n",
              " [371] 175000 235000 324000 173000 116900 105900 112000 235000 235000 130000\n",
              " [381] 235000 191900 284900 335000 140000 191000 153000 196000 248000 240000\n",
              " [391] 132000 199000 217000 167000 245000 358000 412500 208000 270000 100000\n",
              " [401] 130000 182500 139000 104000 221000 260000 182500 196000 132000 224900\n",
              " [411] 199900 165835 189000  89900 235000 166000 153100 162000 224000 222400\n",
              " [421] 199000 166000 149900 152000 162500 274900 100000 215000 124000 125000\n",
              " [431] 138000 225000 180000 189900 435000 120000 163000 131000 126500 122500\n",
              " [441] 425000 225000 209000 189100 285000 266600  80000 225000 159000 119900\n",
              " [451] 130900 194670  72000 144700 139500 319000 348000 189900  20000  60000\n",
              " [461] 179500 133300 153000 111900 187000 158500 153000 190000 242000 234500\n",
              " [471] 225000 165000 129900 315000 129900 257000 324000 520000 150414 290000\n",
              " [481] 112000 185000 295000 290000  79900 256000 245000 140000 272000 164000\n",
              " [491] 182500 219900 325000 352000 315000 154000 199000 202000 292000 116600\n",
              " [501] 155000 215000 373490 259142 293565 285558 273960 185000 190000 171000\n",
              " [511] 208000 168000 165000 138500 179900 180000 112000 152000 100000 154000\n",
              " [521] 133000 285000 138000 303000 250000 167500 190000 182500 107000 195000\n",
              " [531] 169000 156000 120000 170000 249835 188095 176450 322277 149000  95000\n",
              " [541] 198500 185000 168900 220000 129900 167000 330000 336000 512971 229000\n",
              " [551] 145000 103000 210000 559000 218000 262138 125000 130000 157500 193000\n",
              " [561] 275000 240000 200136 395000 366703 103150 310000 142900 359770 126000\n",
              " [571] 760000 282500 132000 325000 207000 155000 330000 101760 496000 185000\n",
              " [581] 125000 286000 269000 303374 371165 287600 131000 187000 169000 133500\n",
              " [591] 620000 549254 280000 135000 195388 337020 330850 248495 120000 240000\n",
              " [601] 235000 500075 240000 270000 225000 280000 225000 248220 275000 137000\n",
              " [611] 150000 649000 195000 373200 169450 144200 189900 166000 160000 327355\n",
              " [621] 247000 318000 341000 288650 157000 449000 142000 389000 476000 249230\n",
              " [631] 139900 301900 425000 121000 150000 138000 199900 145000 465000 158000\n",
              " [641] 375000 147783 339000 267000 290000 271295 278140 138000 367500 428500\n",
              " [651] 140000 140000 145000 280000 190400 267000 164900 280000 225000 148000\n",
              " [661] 165000 340455 133000 115540 240000 600000  71500 189900 325000 280000\n",
              " [671] 255000 300000 106000 139000 165000 169000 159400 300000 161000 230500\n",
              " [681] 220000 177900 350000 335000 597185 173000 518000 212000 149900 140958\n",
              " [691]  95000 161600 351400 155000 198500 276000 167000 227000 405100 395000\n",
              " [701] 360000 775000 285000 300000 214000 229000 330000 146000 381500 430000\n",
              " [711] 650000 194500 279000 183000 195000 470000 167000 309278 217500 200000\n",
              " [721] 199995 179000 329000 374900 165000 647000 315000 208000 405000 535000\n",
              " [731] 184020  95000  87550 131000 127000 104695 120000 278500  75500 121900\n",
              " [741] 208000 151000 138000 229000 130000  89900 145000  86000  95000 195000\n",
              " [751] 107325 131000 166900 127000 119000  92509 174000 180000 155000 146500\n",
              " [761] 162500 210000 165000 123000 150000 128900  88100 175000 120975 147543\n",
              " [771] 118000 199000  79900 279000  90000  91900 153000 170000 145200 296000\n",
              " [781] 150000  86000 118000 155000 222500 250000 365000 120000 193000  85568\n",
              " [791]  82000 225000 240000 234900 112000 261000 400000 310000 182000 187500\n",
              " [801] 405000 420000 359000 120000 171500 159900 186500 260000 115000 191000\n",
              " [811] 355465 339900  90000 245000 320900 159000 174900 293500 210000 182500\n",
              " [821] 219900 370000 286000 169900 161000 287000 315000 177000 332000 249000\n",
              " [831] 179000 150000 225000 182000 329900 165000 180000 321000 180000 178000\n",
              " [841] 279900 179000 183000 500000 170000 179000 184900 177500 112500 180000\n",
              " [851]  10300 137900 144000 131600 123500 123000 109000 173000 105000 122500\n",
              " [861] 191000 149000 205000 225000 210000 188900 192000 137500 200000 126000\n",
              " [871] 214500 152000 115000  88000 170000 137000 145000 202000 130000 265000\n",
              " [881] 185000 130000 190000 204000 125000 349900 142000 132500 220000 160000\n",
              " [891]  10300  95000 122055 149000 115000 140000 137900 144000 131600 123500\n",
              " [901] 123000 109000 173000 105000 122500 191000 149000 205000 225000 210000\n",
              " [911] 188900 192000 137500 200000 126000 214500 152000 115000  88000 170000\n",
              " [921] 137000 145000 202000 130000 265000 185000 130000 190000 204000 125000\n",
              " [931] 349900 142000 132500 220000 160000 156900 138000 166000 195000 295600\n",
              " [941] 460000 126000 220300 175000 255000 185000 234000 133500 151000 157500\n",
              " [951] 285000 217500 300000 161225 217000 250000 124000 248000 187000 195000\n",
              " [961] 239900 475000 246000 219900 193500 122000 118000 125000 101000 249000\n",
              " [971] 180000 292500 199500 205100 330000 179000 342000 145000  66000 269900\n",
              " [981] 154000 454900 249900 165000 329000  49387 445000  73000 125000 146500\n",
              " [991] 209000 196500 157000 125500 190000 250000 255000 129700  65000 107000\n",
              "[1001] 255000 398000 176000 249900 244900 220000 241000 159900 177555  95000\n",
              "[1011]   5000 264900 315000 155000 130000 238000 224000 211000 279000 242000\n",
              "[1021] 199875 259900 200000 212000 230000 189000 313635 185000 239900 202000\n",
              "[1031] 155000 120000  78000 311000 198000 158500 227000 265900 163000 165000\n",
              "[1041] 151000 200000 299900 210000 220000 326900 204900 234000 236000 124000\n",
              "[1051] 199100 245000 264000 105000 187000 127000 100000 251000 105000 431250\n",
              "[1061] 149900 180000 123500 253000 330000 124500 424200 120000 205000 175000\n",
              "[1071] 295000 156500 143000 215000 287000 122500 180000 143000 137000 271000\n",
              "[1081] 129900 133000 179000 302000 168000 120000 119000 168000 124900 415000\n",
              "[1091] 150000 310000 157000 205000 275000 320000 380000 119900 345000 145000\n",
              "[1101] 123000 202500 182000 175000 132500 239000  86125 245000 229900 129000\n",
              "[1111] 200000 144200 166000 178000 165000 218000 175000 145000 195000 288139\n",
              "[1121] 187500 255000 145000 183000 318310 192500 195000 138000 230000 237500\n",
              "[1131] 375000 105000 168000 221000 135000 129900 344100 112000 380000 125000\n",
              "[1141] 145000 190000 135000  58500  80500 150410 170000 242551 176500 212000\n",
              "[1151] 135000 215000 262000 155000 207000 185000  92200 111000  97000 200000\n",
              "[1161] 230000 299900 183855 174900 335000 208000 380000 289900 188000 600000\n",
              "[1171] 262000 220000 275000 215000 100000 158500 148900 218000 355840 168000\n",
              "[1181] 171000 195000 201880 145000 206000  78000 320900 159000 180000 129900\n",
              "[1191] 150000 171134 151000 100000 655000 243500 265000 400000 272800 255000\n",
              "[1201] 220000 775000 233000 216977 245000 159000 725000 268300 159000 155000\n",
              "[1211] 345000 165200 185000 225500 420000 220000 620000 260000 359900 375000\n",
              "[1221] 302900 175000 260000 270000 485000 200000 367000 175000 203000 170000\n",
              "[1231] 375000 159900 230000 375000 421000 218000 167850 252500 650000 380000\n",
              "[1241] 214500 218500 174000 225000 309750 658300 203000 375000  62500 205000\n",
              "[1251]  84500 280500 182000 571000 168000 354000 238000 182000 218500 227500\n",
              "[1261] 375000 399900 360000 412500 268500 300300 382500 189000 295000 220000\n",
              "[1271] 223000 399000 169480 347750 455000 249900 250000 265000 670000 195000\n",
              "[1281] 360000 175000 166500 190100 180500 440000 170000 220000  70500  65000\n",
              "[1291] 127500 155000 255500 136000 204000 200000 163000 149350 235000 260000\n",
              "[1301] 210000 159900 209000 135000 200000 432600 195000 165000 198000 219000\n",
              "[1311] 430000 120000 373735 183853 213500 155000 197000 392499 229900 289250\n",
              "[1321] 189900 397200 389405 135000 174000 525000 135000 412000 186000 453935\n",
              "[1331] 355000 186000 197000 180000 178000 305000 262000 225000 403040 388500\n",
              "[1341] 417000 410000 170000 295000 216000 221649 199900 463000 146500 225000\n",
              "[1351] 160000 275055 315513 323759 167500 272699 177500 128000 317105 144500\n",
              "[1361] 260000 244000 287989 159000 167000 348000 140000 145000 150450 230000\n",
              "[1371] 147423 223000 167500 299000 235900 147000 305000 154000 149000 300279\n",
              "[1381] 278000 202000 328463 185000 128000 335000 148900 229900 215000 253000\n",
              "[1391] 304065 222000 165000 275000 325000 406000 230000 125000 148000 279000\n",
              "[1401] 250000 314940 165900 150000 133000 155000 220000 229000 177000 120000\n",
              "[1411] 195000 315371 137000 225700 204900 189500 374000 319000 294100 440760\n",
              "[1421] 128000 239505 141700 215500 320210 273495 256350 255000 124000 293000\n",
              "[1431] 147000 284595 342269 229000 216900 164900 149000 150000 214990 173000\n",
              "[1441] 149900 155000 170000 237500 297065 342202 345264 325046 367000 159900\n",
              "[1451] 145000 272500 163255 319000 160600 246000 153000 295000 159000 148400\n",
              "[1461] 311000 314000 250000 149000 307890 223000 219000 178000 295925 141160\n",
              "[1471] 229900 254900 126000 176500 161800 112200 154500 300000 206000 257000\n",
              "[1481] 182000 161000 176000 177160 355063 213000 266500 285000 178900 300000\n",
              "[1491] 211000 451000 201400 195900 190000 150000 206000 285000 120000 377500\n",
              "[1501] 340000 240000 295000 215000 275000 189000 156000 410000 264500 145500\n",
              "[1511] 116500 264500 215000 263000 243000 203000 335000 385000 210000 154000\n",
              "[1521] 155000 165000 300000 240000 182000 194000 410000 280000 235000 185000\n",
              "[1531] 167000 206500 165000 230000 235000 200500 310000 169900 210500 305000\n",
              "[1541] 508000 220000 256000 196900 233000 140000 162900 178000 265000 454900\n",
              "[1551] 215000 248000 395000 171500 268000 166500 355000 165000 300000 350000\n",
              "[1561] 279900 265000 267000 235000 299900 167000 168000 150000 255000 455000\n",
              "[1571] 351100 315000 220000 159000 341000 276000 309000 217021 188500 320000\n",
              "[1581] 247000 166000 236000 233900 162740 225000 360000 281520 365000 315000\n",
              "[1591] 297900 270000 260000  72000 229500 275000 155000 225570 224000 290000\n",
              "[1601] 262000 319900 265000 255000 217300 291000 319000 271500 224900 260000\n",
              "[1611] 199900 252659 312500 290000 155000 355000 190000 130000 264000 193980\n",
              "[1621] 219900 469900 314230 138900 160000 228000 224400 132870 135600 150600\n",
              "[1631] 335000 316250 181280 158000 221000 230000 299000 148000 267500 259000\n",
              "[1641] 321000 409790 184000 145000 310000 170000 210500 199900 150000 153000\n",
              "[1651] 334000 216900 259000 240000 186030 203000 255000 119000 260800 169000\n",
              "[1661] 225000 124000 245000 250000 172000 153500 165000 159000 171500 240000\n",
              "[1671] 409550 302000 285000 385900 140595 213000 335000 290000 265000 334000\n",
              "[1681] 382406 149300 212000 195000 245000 422680 240000 156000 265000 334000\n",
              "[1691] 382406 149300 212000 195000 171600 245000 282000 260000 254500 179900\n",
              "[1701] 255000 265000 174000 322000 337000 221450 247000 180000 229900 230000\n",
              "[1711] 388000 350000 169700 190000 317500  70000 300000 145400 183500 275900\n",
              "[1721] 436023 319900 249000 289000 285000 194900 125000 111300"
            ],
            "text/latex": "\\begin{enumerate*}\n\\item 132500\n\\item 181115\n\\item 109000\n\\item 155000\n\\item 86060\n\\item 120000\n\\item 153000\n\\item 170000\n\\item 90000\n\\item 122900\n\\item 325000\n\\item 120000\n\\item 85860\n\\item 97000\n\\item 127000\n\\item 89900\n\\item 155000\n\\item 253750\n\\item 60000\n\\item 87500\n\\item 112000\n\\item 104900\n\\item 148635\n\\item 150000\n\\item 90400\n\\item 248800\n\\item 135000\n\\item 145000\n\\item 457000\n\\item 140000\n\\item 130000\n\\item 187000\n\\item 229000\n\\item 227000\n\\item 179900\n\\item 169900\n\\item 209900\n\\item 169900\n\\item 293000\n\\item 245900\n\\item 157000\n\\item 195000\n\\item 150000\n\\item 234900\n\\item 279550\n\\item 246500\n\\item 124000\n\\item 138000\n\\item 290000\n\\item 108000\n\\item 134900\n\\item 64500\n\\item 142000\n\\item 125000\n\\item 88000\n\\item 135000\n\\item 90000\n\\item 90100\n\\item 126900\n\\item 175000\n\\item 158000\n\\item 92000\n\\item 82800\n\\item 140000\n\\item 171000\n\\item 200640\n\\item 139000\n\\item 225000\n\\item 182000\n\\item 208767\n\\item 186000\n\\item 93000\n\\item 257386\n\\item 161000\n\\item 92000\n\\item 211002\n\\item 115000\n\\item 113000\n\\item 216300\n\\item 145000\n\\item 114000\n\\item 139050\n\\item 104000\n\\item 169900\n\\item 177900\n\\item 133000\n\\item 185000\n\\item 115000\n\\item 1e+05\n\\item 117000\n\\item 150000\n\\item 187500\n\\item 107000\n\\item 126900\n\\item 147000\n\\item 62000\n\\item 101000\n\\item 143500\n\\item 113400\n\\item 76320\n\\item 110000\n\\item 88000\n\\item 108000\n\\item 114900\n\\item 146000\n\\item 225000\n\\item 138000\n\\item 218070\n\\item 25000\n\\item 112000\n\\item 112500\n\\item 97000\n\\item 121000\n\\item 65720\n\\item 225000\n\\item 192000\n\\item 158500\n\\item 247000\n\\item 193777\n\\item 136500\n\\item 75000\n\\item 45000\n\\item 243000\n\\item 90000\n\\item 158000\n\\item 174000\n\\item 150000\n\\item 159650\n\\item 139062\n\\item 84950\n\\item 102000\n\\item 175000\n\\item 78500\n\\item 232478\n\\item 93805\n\\item 119900\n\\item 146000\n\\item 125000\n\\item 135000\n\\item 157500\n\\item 135000\n\\item 142900\n\\item 259900\n\\item 85000\n\\item 180377\n\\item 163500\n\\item 106500\n\\item 115000\n\\item 115000\n\\item 135000\n\\item 198900\n\\item 139000\n\\item 206000\n\\item 120000\n\\item 205980\n\\item 275000\n\\item 139000\n\\item 89900\n\\item 139900\n\\item 172750\n\\item 136000\n\\item 270000\n\\item 174000\n\\item 379000\n\\item 382500\n\\item 144900\n\\item 349900\n\\item 133000\n\\item 115000\n\\item 211950\n\\item 227812\n\\item 164400\n\\item 340000\n\\item 139900\n\\item 279900\n\\item 225000\n\\item 144500\n\\item 362710\n\\item 247000\n\\item 120000\n\\item 136000\n\\item 228500\n\\item 162800\n\\item 230000\n\\item 115800\n\\item 175000\n\\item 263008\n\\item 146000\n\\item 204900\n\\item 265000\n\\item 167500\n\\item 205000\n\\item 170000\n\\item 176000\n\\item 132000\n\\item 115500\n\\item 150000\n\\item 120000\n\\item 125000\n\\item 150000\n\\item ⋯\n\\item 235000\n\\item 185000\n\\item 167000\n\\item 206500\n\\item 165000\n\\item 230000\n\\item 235000\n\\item 200500\n\\item 310000\n\\item 169900\n\\item 210500\n\\item 305000\n\\item 508000\n\\item 220000\n\\item 256000\n\\item 196900\n\\item 233000\n\\item 140000\n\\item 162900\n\\item 178000\n\\item 265000\n\\item 454900\n\\item 215000\n\\item 248000\n\\item 395000\n\\item 171500\n\\item 268000\n\\item 166500\n\\item 355000\n\\item 165000\n\\item 3e+05\n\\item 350000\n\\item 279900\n\\item 265000\n\\item 267000\n\\item 235000\n\\item 299900\n\\item 167000\n\\item 168000\n\\item 150000\n\\item 255000\n\\item 455000\n\\item 351100\n\\item 315000\n\\item 220000\n\\item 159000\n\\item 341000\n\\item 276000\n\\item 309000\n\\item 217021\n\\item 188500\n\\item 320000\n\\item 247000\n\\item 166000\n\\item 236000\n\\item 233900\n\\item 162740\n\\item 225000\n\\item 360000\n\\item 281520\n\\item 365000\n\\item 315000\n\\item 297900\n\\item 270000\n\\item 260000\n\\item 72000\n\\item 229500\n\\item 275000\n\\item 155000\n\\item 225570\n\\item 224000\n\\item 290000\n\\item 262000\n\\item 319900\n\\item 265000\n\\item 255000\n\\item 217300\n\\item 291000\n\\item 319000\n\\item 271500\n\\item 224900\n\\item 260000\n\\item 199900\n\\item 252659\n\\item 312500\n\\item 290000\n\\item 155000\n\\item 355000\n\\item 190000\n\\item 130000\n\\item 264000\n\\item 193980\n\\item 219900\n\\item 469900\n\\item 314230\n\\item 138900\n\\item 160000\n\\item 228000\n\\item 224400\n\\item 132870\n\\item 135600\n\\item 150600\n\\item 335000\n\\item 316250\n\\item 181280\n\\item 158000\n\\item 221000\n\\item 230000\n\\item 299000\n\\item 148000\n\\item 267500\n\\item 259000\n\\item 321000\n\\item 409790\n\\item 184000\n\\item 145000\n\\item 310000\n\\item 170000\n\\item 210500\n\\item 199900\n\\item 150000\n\\item 153000\n\\item 334000\n\\item 216900\n\\item 259000\n\\item 240000\n\\item 186030\n\\item 203000\n\\item 255000\n\\item 119000\n\\item 260800\n\\item 169000\n\\item 225000\n\\item 124000\n\\item 245000\n\\item 250000\n\\item 172000\n\\item 153500\n\\item 165000\n\\item 159000\n\\item 171500\n\\item 240000\n\\item 409550\n\\item 302000\n\\item 285000\n\\item 385900\n\\item 140595\n\\item 213000\n\\item 335000\n\\item 290000\n\\item 265000\n\\item 334000\n\\item 382406\n\\item 149300\n\\item 212000\n\\item 195000\n\\item 245000\n\\item 422680\n\\item 240000\n\\item 156000\n\\item 265000\n\\item 334000\n\\item 382406\n\\item 149300\n\\item 212000\n\\item 195000\n\\item 171600\n\\item 245000\n\\item 282000\n\\item 260000\n\\item 254500\n\\item 179900\n\\item 255000\n\\item 265000\n\\item 174000\n\\item 322000\n\\item 337000\n\\item 221450\n\\item 247000\n\\item 180000\n\\item 229900\n\\item 230000\n\\item 388000\n\\item 350000\n\\item 169700\n\\item 190000\n\\item 317500\n\\item 70000\n\\item 3e+05\n\\item 145400\n\\item 183500\n\\item 275900\n\\item 436023\n\\item 319900\n\\item 249000\n\\item 289000\n\\item 285000\n\\item 194900\n\\item 125000\n\\item 111300\n\\end{enumerate*}\n",
            "text/markdown": "1. 132500\n2. 181115\n3. 109000\n4. 155000\n5. 86060\n6. 120000\n7. 153000\n8. 170000\n9. 90000\n10. 122900\n11. 325000\n12. 120000\n13. 85860\n14. 97000\n15. 127000\n16. 89900\n17. 155000\n18. 253750\n19. 60000\n20. 87500\n21. 112000\n22. 104900\n23. 148635\n24. 150000\n25. 90400\n26. 248800\n27. 135000\n28. 145000\n29. 457000\n30. 140000\n31. 130000\n32. 187000\n33. 229000\n34. 227000\n35. 179900\n36. 169900\n37. 209900\n38. 169900\n39. 293000\n40. 245900\n41. 157000\n42. 195000\n43. 150000\n44. 234900\n45. 279550\n46. 246500\n47. 124000\n48. 138000\n49. 290000\n50. 108000\n51. 134900\n52. 64500\n53. 142000\n54. 125000\n55. 88000\n56. 135000\n57. 90000\n58. 90100\n59. 126900\n60. 175000\n61. 158000\n62. 92000\n63. 82800\n64. 140000\n65. 171000\n66. 200640\n67. 139000\n68. 225000\n69. 182000\n70. 208767\n71. 186000\n72. 93000\n73. 257386\n74. 161000\n75. 92000\n76. 211002\n77. 115000\n78. 113000\n79. 216300\n80. 145000\n81. 114000\n82. 139050\n83. 104000\n84. 169900\n85. 177900\n86. 133000\n87. 185000\n88. 115000\n89. 1e+05\n90. 117000\n91. 150000\n92. 187500\n93. 107000\n94. 126900\n95. 147000\n96. 62000\n97. 101000\n98. 143500\n99. 113400\n100. 76320\n101. 110000\n102. 88000\n103. 108000\n104. 114900\n105. 146000\n106. 225000\n107. 138000\n108. 218070\n109. 25000\n110. 112000\n111. 112500\n112. 97000\n113. 121000\n114. 65720\n115. 225000\n116. 192000\n117. 158500\n118. 247000\n119. 193777\n120. 136500\n121. 75000\n122. 45000\n123. 243000\n124. 90000\n125. 158000\n126. 174000\n127. 150000\n128. 159650\n129. 139062\n130. 84950\n131. 102000\n132. 175000\n133. 78500\n134. 232478\n135. 93805\n136. 119900\n137. 146000\n138. 125000\n139. 135000\n140. 157500\n141. 135000\n142. 142900\n143. 259900\n144. 85000\n145. 180377\n146. 163500\n147. 106500\n148. 115000\n149. 115000\n150. 135000\n151. 198900\n152. 139000\n153. 206000\n154. 120000\n155. 205980\n156. 275000\n157. 139000\n158. 89900\n159. 139900\n160. 172750\n161. 136000\n162. 270000\n163. 174000\n164. 379000\n165. 382500\n166. 144900\n167. 349900\n168. 133000\n169. 115000\n170. 211950\n171. 227812\n172. 164400\n173. 340000\n174. 139900\n175. 279900\n176. 225000\n177. 144500\n178. 362710\n179. 247000\n180. 120000\n181. 136000\n182. 228500\n183. 162800\n184. 230000\n185. 115800\n186. 175000\n187. 263008\n188. 146000\n189. 204900\n190. 265000\n191. 167500\n192. 205000\n193. 170000\n194. 176000\n195. 132000\n196. 115500\n197. 150000\n198. 120000\n199. 125000\n200. 150000\n201. ⋯\n202. 235000\n203. 185000\n204. 167000\n205. 206500\n206. 165000\n207. 230000\n208. 235000\n209. 200500\n210. 310000\n211. 169900\n212. 210500\n213. 305000\n214. 508000\n215. 220000\n216. 256000\n217. 196900\n218. 233000\n219. 140000\n220. 162900\n221. 178000\n222. 265000\n223. 454900\n224. 215000\n225. 248000\n226. 395000\n227. 171500\n228. 268000\n229. 166500\n230. 355000\n231. 165000\n232. 3e+05\n233. 350000\n234. 279900\n235. 265000\n236. 267000\n237. 235000\n238. 299900\n239. 167000\n240. 168000\n241. 150000\n242. 255000\n243. 455000\n244. 351100\n245. 315000\n246. 220000\n247. 159000\n248. 341000\n249. 276000\n250. 309000\n251. 217021\n252. 188500\n253. 320000\n254. 247000\n255. 166000\n256. 236000\n257. 233900\n258. 162740\n259. 225000\n260. 360000\n261. 281520\n262. 365000\n263. 315000\n264. 297900\n265. 270000\n266. 260000\n267. 72000\n268. 229500\n269. 275000\n270. 155000\n271. 225570\n272. 224000\n273. 290000\n274. 262000\n275. 319900\n276. 265000\n277. 255000\n278. 217300\n279. 291000\n280. 319000\n281. 271500\n282. 224900\n283. 260000\n284. 199900\n285. 252659\n286. 312500\n287. 290000\n288. 155000\n289. 355000\n290. 190000\n291. 130000\n292. 264000\n293. 193980\n294. 219900\n295. 469900\n296. 314230\n297. 138900\n298. 160000\n299. 228000\n300. 224400\n301. 132870\n302. 135600\n303. 150600\n304. 335000\n305. 316250\n306. 181280\n307. 158000\n308. 221000\n309. 230000\n310. 299000\n311. 148000\n312. 267500\n313. 259000\n314. 321000\n315. 409790\n316. 184000\n317. 145000\n318. 310000\n319. 170000\n320. 210500\n321. 199900\n322. 150000\n323. 153000\n324. 334000\n325. 216900\n326. 259000\n327. 240000\n328. 186030\n329. 203000\n330. 255000\n331. 119000\n332. 260800\n333. 169000\n334. 225000\n335. 124000\n336. 245000\n337. 250000\n338. 172000\n339. 153500\n340. 165000\n341. 159000\n342. 171500\n343. 240000\n344. 409550\n345. 302000\n346. 285000\n347. 385900\n348. 140595\n349. 213000\n350. 335000\n351. 290000\n352. 265000\n353. 334000\n354. 382406\n355. 149300\n356. 212000\n357. 195000\n358. 245000\n359. 422680\n360. 240000\n361. 156000\n362. 265000\n363. 334000\n364. 382406\n365. 149300\n366. 212000\n367. 195000\n368. 171600\n369. 245000\n370. 282000\n371. 260000\n372. 254500\n373. 179900\n374. 255000\n375. 265000\n376. 174000\n377. 322000\n378. 337000\n379. 221450\n380. 247000\n381. 180000\n382. 229900\n383. 230000\n384. 388000\n385. 350000\n386. 169700\n387. 190000\n388. 317500\n389. 70000\n390. 3e+05\n391. 145400\n392. 183500\n393. 275900\n394. 436023\n395. 319900\n396. 249000\n397. 289000\n398. 285000\n399. 194900\n400. 125000\n401. 111300\n\n\n",
            "text/html": [
              "<style>\n",
              ".list-inline {list-style: none; margin:0; padding: 0}\n",
              ".list-inline>li {display: inline-block}\n",
              ".list-inline>li:not(:last-child)::after {content: \"\\00b7\"; padding: 0 .5ex}\n",
              "</style>\n",
              "<ol class=list-inline><li>132500</li><li>181115</li><li>109000</li><li>155000</li><li>86060</li><li>120000</li><li>153000</li><li>170000</li><li>90000</li><li>122900</li><li>325000</li><li>120000</li><li>85860</li><li>97000</li><li>127000</li><li>89900</li><li>155000</li><li>253750</li><li>60000</li><li>87500</li><li>112000</li><li>104900</li><li>148635</li><li>150000</li><li>90400</li><li>248800</li><li>135000</li><li>145000</li><li>457000</li><li>140000</li><li>130000</li><li>187000</li><li>229000</li><li>227000</li><li>179900</li><li>169900</li><li>209900</li><li>169900</li><li>293000</li><li>245900</li><li>157000</li><li>195000</li><li>150000</li><li>234900</li><li>279550</li><li>246500</li><li>124000</li><li>138000</li><li>290000</li><li>108000</li><li>134900</li><li>64500</li><li>142000</li><li>125000</li><li>88000</li><li>135000</li><li>90000</li><li>90100</li><li>126900</li><li>175000</li><li>158000</li><li>92000</li><li>82800</li><li>140000</li><li>171000</li><li>200640</li><li>139000</li><li>225000</li><li>182000</li><li>208767</li><li>186000</li><li>93000</li><li>257386</li><li>161000</li><li>92000</li><li>211002</li><li>115000</li><li>113000</li><li>216300</li><li>145000</li><li>114000</li><li>139050</li><li>104000</li><li>169900</li><li>177900</li><li>133000</li><li>185000</li><li>115000</li><li>1e+05</li><li>117000</li><li>150000</li><li>187500</li><li>107000</li><li>126900</li><li>147000</li><li>62000</li><li>101000</li><li>143500</li><li>113400</li><li>76320</li><li>110000</li><li>88000</li><li>108000</li><li>114900</li><li>146000</li><li>225000</li><li>138000</li><li>218070</li><li>25000</li><li>112000</li><li>112500</li><li>97000</li><li>121000</li><li>65720</li><li>225000</li><li>192000</li><li>158500</li><li>247000</li><li>193777</li><li>136500</li><li>75000</li><li>45000</li><li>243000</li><li>90000</li><li>158000</li><li>174000</li><li>150000</li><li>159650</li><li>139062</li><li>84950</li><li>102000</li><li>175000</li><li>78500</li><li>232478</li><li>93805</li><li>119900</li><li>146000</li><li>125000</li><li>135000</li><li>157500</li><li>135000</li><li>142900</li><li>259900</li><li>85000</li><li>180377</li><li>163500</li><li>106500</li><li>115000</li><li>115000</li><li>135000</li><li>198900</li><li>139000</li><li>206000</li><li>120000</li><li>205980</li><li>275000</li><li>139000</li><li>89900</li><li>139900</li><li>172750</li><li>136000</li><li>270000</li><li>174000</li><li>379000</li><li>382500</li><li>144900</li><li>349900</li><li>133000</li><li>115000</li><li>211950</li><li>227812</li><li>164400</li><li>340000</li><li>139900</li><li>279900</li><li>225000</li><li>144500</li><li>362710</li><li>247000</li><li>120000</li><li>136000</li><li>228500</li><li>162800</li><li>230000</li><li>115800</li><li>175000</li><li>263008</li><li>146000</li><li>204900</li><li>265000</li><li>167500</li><li>205000</li><li>170000</li><li>176000</li><li>132000</li><li>115500</li><li>150000</li><li>120000</li><li>125000</li><li>150000</li><li>⋯</li><li>235000</li><li>185000</li><li>167000</li><li>206500</li><li>165000</li><li>230000</li><li>235000</li><li>200500</li><li>310000</li><li>169900</li><li>210500</li><li>305000</li><li>508000</li><li>220000</li><li>256000</li><li>196900</li><li>233000</li><li>140000</li><li>162900</li><li>178000</li><li>265000</li><li>454900</li><li>215000</li><li>248000</li><li>395000</li><li>171500</li><li>268000</li><li>166500</li><li>355000</li><li>165000</li><li>3e+05</li><li>350000</li><li>279900</li><li>265000</li><li>267000</li><li>235000</li><li>299900</li><li>167000</li><li>168000</li><li>150000</li><li>255000</li><li>455000</li><li>351100</li><li>315000</li><li>220000</li><li>159000</li><li>341000</li><li>276000</li><li>309000</li><li>217021</li><li>188500</li><li>320000</li><li>247000</li><li>166000</li><li>236000</li><li>233900</li><li>162740</li><li>225000</li><li>360000</li><li>281520</li><li>365000</li><li>315000</li><li>297900</li><li>270000</li><li>260000</li><li>72000</li><li>229500</li><li>275000</li><li>155000</li><li>225570</li><li>224000</li><li>290000</li><li>262000</li><li>319900</li><li>265000</li><li>255000</li><li>217300</li><li>291000</li><li>319000</li><li>271500</li><li>224900</li><li>260000</li><li>199900</li><li>252659</li><li>312500</li><li>290000</li><li>155000</li><li>355000</li><li>190000</li><li>130000</li><li>264000</li><li>193980</li><li>219900</li><li>469900</li><li>314230</li><li>138900</li><li>160000</li><li>228000</li><li>224400</li><li>132870</li><li>135600</li><li>150600</li><li>335000</li><li>316250</li><li>181280</li><li>158000</li><li>221000</li><li>230000</li><li>299000</li><li>148000</li><li>267500</li><li>259000</li><li>321000</li><li>409790</li><li>184000</li><li>145000</li><li>310000</li><li>170000</li><li>210500</li><li>199900</li><li>150000</li><li>153000</li><li>334000</li><li>216900</li><li>259000</li><li>240000</li><li>186030</li><li>203000</li><li>255000</li><li>119000</li><li>260800</li><li>169000</li><li>225000</li><li>124000</li><li>245000</li><li>250000</li><li>172000</li><li>153500</li><li>165000</li><li>159000</li><li>171500</li><li>240000</li><li>409550</li><li>302000</li><li>285000</li><li>385900</li><li>140595</li><li>213000</li><li>335000</li><li>290000</li><li>265000</li><li>334000</li><li>382406</li><li>149300</li><li>212000</li><li>195000</li><li>245000</li><li>422680</li><li>240000</li><li>156000</li><li>265000</li><li>334000</li><li>382406</li><li>149300</li><li>212000</li><li>195000</li><li>171600</li><li>245000</li><li>282000</li><li>260000</li><li>254500</li><li>179900</li><li>255000</li><li>265000</li><li>174000</li><li>322000</li><li>337000</li><li>221450</li><li>247000</li><li>180000</li><li>229900</li><li>230000</li><li>388000</li><li>350000</li><li>169700</li><li>190000</li><li>317500</li><li>70000</li><li>3e+05</li><li>145400</li><li>183500</li><li>275900</li><li>436023</li><li>319900</li><li>249000</li><li>289000</li><li>285000</li><li>194900</li><li>125000</li><li>111300</li></ol>\n"
            ]
          },
          "metadata": {}
        }
      ]
    },
    {
      "cell_type": "markdown",
      "metadata": {
        "id": "yZ0UhKcV002A"
      },
      "source": [
        "### Exportar datos"
      ]
    },
    {
      "cell_type": "code",
      "metadata": {
        "id": "PtNfmUDh03Af"
      },
      "source": [
        "write_csv(data, file = \"data.csv\")"
      ],
      "execution_count": null,
      "outputs": []
    },
    {
      "cell_type": "markdown",
      "metadata": {
        "id": "0QF75Mw70_Fe"
      },
      "source": [
        "## tibble"
      ]
    },
    {
      "cell_type": "markdown",
      "metadata": {
        "id": "zgz16BJvfexp"
      },
      "source": [
        "Los tibble son la evolución de los DataFrames! Nos permite imprimir mejor los datos y los preformatea\n",
        "\n",
        "[más funciones](https://tibble.tidyverse.org/reference/index.html)"
      ]
    },
    {
      "cell_type": "markdown",
      "metadata": {
        "id": "fbcfzgmMf4VC"
      },
      "source": [
        "Para crear un tibble"
      ]
    },
    {
      "cell_type": "code",
      "metadata": {
        "id": "m8P_rXOX1Aep",
        "colab": {
          "base_uri": "https://localhost:8080/"
        },
        "outputId": "f353b471-a7f7-492e-b15d-50a89178fafa"
      },
      "source": [
        "tibble_data <- tibble(data)\n",
        "head(tibble_data)"
      ],
      "execution_count": null,
      "outputs": [
        {
          "output_type": "display_data",
          "data": {
            "text/plain": [
              "  price  lotSize age landValue livingArea pctCollege bedrooms fireplaces\n",
              "1 132500 0.09     42 50000      906       35         2        1         \n",
              "2 181115 0.92      0 22300     1953       51         3        0         \n",
              "3 109000 0.19    133  7300     1944       51         4        1         \n",
              "4 155000 0.41     13 18700     1944       51         3        1         \n",
              "5  86060 0.11      0 15000      840       51         2        0         \n",
              "6 120000 0.68     31 14000     1152       22         4        1         \n",
              "  bathrooms rooms heating         fuel     sewer             waterfront\n",
              "1 1.0       5     electric        electric septic            No        \n",
              "2 2.5       6     hot water/steam gas      septic            No        \n",
              "3 1.0       8     hot water/steam gas      public/commercial No        \n",
              "4 1.5       5     hot air         gas      septic            No        \n",
              "5 1.0       3     hot air         gas      public/commercial No        \n",
              "6 1.0       8     hot air         gas      septic            No        \n",
              "  newConstruction centralAir\n",
              "1 No              No        \n",
              "2 No              No        \n",
              "3 No              No        \n",
              "4 No              No        \n",
              "5 Yes             Yes       \n",
              "6 No              No        "
            ],
            "text/latex": "A tibble: 6 × 16\n\\begin{tabular}{llllllllllllllll}\n price & lotSize & age & landValue & livingArea & pctCollege & bedrooms & fireplaces & bathrooms & rooms & heating & fuel & sewer & waterfront & newConstruction & centralAir\\\\\n <dbl> & <chr> & <dbl> & <dbl> & <dbl> & <dbl> & <dbl> & <dbl> & <dbl> & <dbl> & <chr> & <chr> & <chr> & <chr> & <chr> & <chr>\\\\\n\\hline\n\t 132500 & 0.09 &  42 & 50000 &  906 & 35 & 2 & 1 & 1.0 & 5 & electric        & electric & septic            & No & No  & No \\\\\n\t 181115 & 0.92 &   0 & 22300 & 1953 & 51 & 3 & 0 & 2.5 & 6 & hot water/steam & gas      & septic            & No & No  & No \\\\\n\t 109000 & 0.19 & 133 &  7300 & 1944 & 51 & 4 & 1 & 1.0 & 8 & hot water/steam & gas      & public/commercial & No & No  & No \\\\\n\t 155000 & 0.41 &  13 & 18700 & 1944 & 51 & 3 & 1 & 1.5 & 5 & hot air         & gas      & septic            & No & No  & No \\\\\n\t  86060 & 0.11 &   0 & 15000 &  840 & 51 & 2 & 0 & 1.0 & 3 & hot air         & gas      & public/commercial & No & Yes & Yes\\\\\n\t 120000 & 0.68 &  31 & 14000 & 1152 & 22 & 4 & 1 & 1.0 & 8 & hot air         & gas      & septic            & No & No  & No \\\\\n\\end{tabular}\n",
            "text/markdown": "\nA tibble: 6 × 16\n\n| price &lt;dbl&gt; | lotSize &lt;chr&gt; | age &lt;dbl&gt; | landValue &lt;dbl&gt; | livingArea &lt;dbl&gt; | pctCollege &lt;dbl&gt; | bedrooms &lt;dbl&gt; | fireplaces &lt;dbl&gt; | bathrooms &lt;dbl&gt; | rooms &lt;dbl&gt; | heating &lt;chr&gt; | fuel &lt;chr&gt; | sewer &lt;chr&gt; | waterfront &lt;chr&gt; | newConstruction &lt;chr&gt; | centralAir &lt;chr&gt; |\n|---|---|---|---|---|---|---|---|---|---|---|---|---|---|---|---|\n| 132500 | 0.09 |  42 | 50000 |  906 | 35 | 2 | 1 | 1.0 | 5 | electric        | electric | septic            | No | No  | No  |\n| 181115 | 0.92 |   0 | 22300 | 1953 | 51 | 3 | 0 | 2.5 | 6 | hot water/steam | gas      | septic            | No | No  | No  |\n| 109000 | 0.19 | 133 |  7300 | 1944 | 51 | 4 | 1 | 1.0 | 8 | hot water/steam | gas      | public/commercial | No | No  | No  |\n| 155000 | 0.41 |  13 | 18700 | 1944 | 51 | 3 | 1 | 1.5 | 5 | hot air         | gas      | septic            | No | No  | No  |\n|  86060 | 0.11 |   0 | 15000 |  840 | 51 | 2 | 0 | 1.0 | 3 | hot air         | gas      | public/commercial | No | Yes | Yes |\n| 120000 | 0.68 |  31 | 14000 | 1152 | 22 | 4 | 1 | 1.0 | 8 | hot air         | gas      | septic            | No | No  | No  |\n\n",
            "text/html": [
              "<table class=\"dataframe\">\n",
              "<caption>A tibble: 6 × 16</caption>\n",
              "<thead>\n",
              "\t<tr><th scope=col>price</th><th scope=col>lotSize</th><th scope=col>age</th><th scope=col>landValue</th><th scope=col>livingArea</th><th scope=col>pctCollege</th><th scope=col>bedrooms</th><th scope=col>fireplaces</th><th scope=col>bathrooms</th><th scope=col>rooms</th><th scope=col>heating</th><th scope=col>fuel</th><th scope=col>sewer</th><th scope=col>waterfront</th><th scope=col>newConstruction</th><th scope=col>centralAir</th></tr>\n",
              "\t<tr><th scope=col>&lt;dbl&gt;</th><th scope=col>&lt;chr&gt;</th><th scope=col>&lt;dbl&gt;</th><th scope=col>&lt;dbl&gt;</th><th scope=col>&lt;dbl&gt;</th><th scope=col>&lt;dbl&gt;</th><th scope=col>&lt;dbl&gt;</th><th scope=col>&lt;dbl&gt;</th><th scope=col>&lt;dbl&gt;</th><th scope=col>&lt;dbl&gt;</th><th scope=col>&lt;chr&gt;</th><th scope=col>&lt;chr&gt;</th><th scope=col>&lt;chr&gt;</th><th scope=col>&lt;chr&gt;</th><th scope=col>&lt;chr&gt;</th><th scope=col>&lt;chr&gt;</th></tr>\n",
              "</thead>\n",
              "<tbody>\n",
              "\t<tr><td>132500</td><td>0.09</td><td> 42</td><td>50000</td><td> 906</td><td>35</td><td>2</td><td>1</td><td>1.0</td><td>5</td><td>electric       </td><td>electric</td><td>septic           </td><td>No</td><td>No </td><td>No </td></tr>\n",
              "\t<tr><td>181115</td><td>0.92</td><td>  0</td><td>22300</td><td>1953</td><td>51</td><td>3</td><td>0</td><td>2.5</td><td>6</td><td>hot water/steam</td><td>gas     </td><td>septic           </td><td>No</td><td>No </td><td>No </td></tr>\n",
              "\t<tr><td>109000</td><td>0.19</td><td>133</td><td> 7300</td><td>1944</td><td>51</td><td>4</td><td>1</td><td>1.0</td><td>8</td><td>hot water/steam</td><td>gas     </td><td>public/commercial</td><td>No</td><td>No </td><td>No </td></tr>\n",
              "\t<tr><td>155000</td><td>0.41</td><td> 13</td><td>18700</td><td>1944</td><td>51</td><td>3</td><td>1</td><td>1.5</td><td>5</td><td>hot air        </td><td>gas     </td><td>septic           </td><td>No</td><td>No </td><td>No </td></tr>\n",
              "\t<tr><td> 86060</td><td>0.11</td><td>  0</td><td>15000</td><td> 840</td><td>51</td><td>2</td><td>0</td><td>1.0</td><td>3</td><td>hot air        </td><td>gas     </td><td>public/commercial</td><td>No</td><td>Yes</td><td>Yes</td></tr>\n",
              "\t<tr><td>120000</td><td>0.68</td><td> 31</td><td>14000</td><td>1152</td><td>22</td><td>4</td><td>1</td><td>1.0</td><td>8</td><td>hot air        </td><td>gas     </td><td>septic           </td><td>No</td><td>No </td><td>No </td></tr>\n",
              "</tbody>\n",
              "</table>\n"
            ]
          },
          "metadata": {}
        }
      ]
    },
    {
      "cell_type": "code",
      "metadata": {
        "colab": {
          "base_uri": "https://localhost:8080/"
        },
        "id": "JBlVSznxgGKy",
        "outputId": "b3510e65-45ea-45df-f2ba-dc51d9c3d3ad"
      },
      "source": [
        "tibble_data <- add_column(tibble_data, x = 23)\n",
        "head(tibble_data)"
      ],
      "execution_count": null,
      "outputs": [
        {
          "output_type": "display_data",
          "data": {
            "text/plain": [
              "  price  lotSize age landValue livingArea pctCollege bedrooms fireplaces\n",
              "1 132500 0.09     42 50000      906       35         2        1         \n",
              "2 181115 0.92      0 22300     1953       51         3        0         \n",
              "3 109000 0.19    133  7300     1944       51         4        1         \n",
              "4 155000 0.41     13 18700     1944       51         3        1         \n",
              "5  86060 0.11      0 15000      840       51         2        0         \n",
              "6 120000 0.68     31 14000     1152       22         4        1         \n",
              "  bathrooms rooms heating         fuel     sewer             waterfront\n",
              "1 1.0       5     electric        electric septic            No        \n",
              "2 2.5       6     hot water/steam gas      septic            No        \n",
              "3 1.0       8     hot water/steam gas      public/commercial No        \n",
              "4 1.5       5     hot air         gas      septic            No        \n",
              "5 1.0       3     hot air         gas      public/commercial No        \n",
              "6 1.0       8     hot air         gas      septic            No        \n",
              "  newConstruction centralAir x \n",
              "1 No              No         23\n",
              "2 No              No         23\n",
              "3 No              No         23\n",
              "4 No              No         23\n",
              "5 Yes             Yes        23\n",
              "6 No              No         23"
            ],
            "text/latex": "A tibble: 6 × 17\n\\begin{tabular}{lllllllllllllllll}\n price & lotSize & age & landValue & livingArea & pctCollege & bedrooms & fireplaces & bathrooms & rooms & heating & fuel & sewer & waterfront & newConstruction & centralAir & x\\\\\n <dbl> & <chr> & <dbl> & <dbl> & <dbl> & <dbl> & <dbl> & <dbl> & <dbl> & <dbl> & <chr> & <chr> & <chr> & <chr> & <chr> & <chr> & <dbl>\\\\\n\\hline\n\t 132500 & 0.09 &  42 & 50000 &  906 & 35 & 2 & 1 & 1.0 & 5 & electric        & electric & septic            & No & No  & No  & 23\\\\\n\t 181115 & 0.92 &   0 & 22300 & 1953 & 51 & 3 & 0 & 2.5 & 6 & hot water/steam & gas      & septic            & No & No  & No  & 23\\\\\n\t 109000 & 0.19 & 133 &  7300 & 1944 & 51 & 4 & 1 & 1.0 & 8 & hot water/steam & gas      & public/commercial & No & No  & No  & 23\\\\\n\t 155000 & 0.41 &  13 & 18700 & 1944 & 51 & 3 & 1 & 1.5 & 5 & hot air         & gas      & septic            & No & No  & No  & 23\\\\\n\t  86060 & 0.11 &   0 & 15000 &  840 & 51 & 2 & 0 & 1.0 & 3 & hot air         & gas      & public/commercial & No & Yes & Yes & 23\\\\\n\t 120000 & 0.68 &  31 & 14000 & 1152 & 22 & 4 & 1 & 1.0 & 8 & hot air         & gas      & septic            & No & No  & No  & 23\\\\\n\\end{tabular}\n",
            "text/markdown": "\nA tibble: 6 × 17\n\n| price &lt;dbl&gt; | lotSize &lt;chr&gt; | age &lt;dbl&gt; | landValue &lt;dbl&gt; | livingArea &lt;dbl&gt; | pctCollege &lt;dbl&gt; | bedrooms &lt;dbl&gt; | fireplaces &lt;dbl&gt; | bathrooms &lt;dbl&gt; | rooms &lt;dbl&gt; | heating &lt;chr&gt; | fuel &lt;chr&gt; | sewer &lt;chr&gt; | waterfront &lt;chr&gt; | newConstruction &lt;chr&gt; | centralAir &lt;chr&gt; | x &lt;dbl&gt; |\n|---|---|---|---|---|---|---|---|---|---|---|---|---|---|---|---|---|\n| 132500 | 0.09 |  42 | 50000 |  906 | 35 | 2 | 1 | 1.0 | 5 | electric        | electric | septic            | No | No  | No  | 23 |\n| 181115 | 0.92 |   0 | 22300 | 1953 | 51 | 3 | 0 | 2.5 | 6 | hot water/steam | gas      | septic            | No | No  | No  | 23 |\n| 109000 | 0.19 | 133 |  7300 | 1944 | 51 | 4 | 1 | 1.0 | 8 | hot water/steam | gas      | public/commercial | No | No  | No  | 23 |\n| 155000 | 0.41 |  13 | 18700 | 1944 | 51 | 3 | 1 | 1.5 | 5 | hot air         | gas      | septic            | No | No  | No  | 23 |\n|  86060 | 0.11 |   0 | 15000 |  840 | 51 | 2 | 0 | 1.0 | 3 | hot air         | gas      | public/commercial | No | Yes | Yes | 23 |\n| 120000 | 0.68 |  31 | 14000 | 1152 | 22 | 4 | 1 | 1.0 | 8 | hot air         | gas      | septic            | No | No  | No  | 23 |\n\n",
            "text/html": [
              "<table class=\"dataframe\">\n",
              "<caption>A tibble: 6 × 17</caption>\n",
              "<thead>\n",
              "\t<tr><th scope=col>price</th><th scope=col>lotSize</th><th scope=col>age</th><th scope=col>landValue</th><th scope=col>livingArea</th><th scope=col>pctCollege</th><th scope=col>bedrooms</th><th scope=col>fireplaces</th><th scope=col>bathrooms</th><th scope=col>rooms</th><th scope=col>heating</th><th scope=col>fuel</th><th scope=col>sewer</th><th scope=col>waterfront</th><th scope=col>newConstruction</th><th scope=col>centralAir</th><th scope=col>x</th></tr>\n",
              "\t<tr><th scope=col>&lt;dbl&gt;</th><th scope=col>&lt;chr&gt;</th><th scope=col>&lt;dbl&gt;</th><th scope=col>&lt;dbl&gt;</th><th scope=col>&lt;dbl&gt;</th><th scope=col>&lt;dbl&gt;</th><th scope=col>&lt;dbl&gt;</th><th scope=col>&lt;dbl&gt;</th><th scope=col>&lt;dbl&gt;</th><th scope=col>&lt;dbl&gt;</th><th scope=col>&lt;chr&gt;</th><th scope=col>&lt;chr&gt;</th><th scope=col>&lt;chr&gt;</th><th scope=col>&lt;chr&gt;</th><th scope=col>&lt;chr&gt;</th><th scope=col>&lt;chr&gt;</th><th scope=col>&lt;dbl&gt;</th></tr>\n",
              "</thead>\n",
              "<tbody>\n",
              "\t<tr><td>132500</td><td>0.09</td><td> 42</td><td>50000</td><td> 906</td><td>35</td><td>2</td><td>1</td><td>1.0</td><td>5</td><td>electric       </td><td>electric</td><td>septic           </td><td>No</td><td>No </td><td>No </td><td>23</td></tr>\n",
              "\t<tr><td>181115</td><td>0.92</td><td>  0</td><td>22300</td><td>1953</td><td>51</td><td>3</td><td>0</td><td>2.5</td><td>6</td><td>hot water/steam</td><td>gas     </td><td>septic           </td><td>No</td><td>No </td><td>No </td><td>23</td></tr>\n",
              "\t<tr><td>109000</td><td>0.19</td><td>133</td><td> 7300</td><td>1944</td><td>51</td><td>4</td><td>1</td><td>1.0</td><td>8</td><td>hot water/steam</td><td>gas     </td><td>public/commercial</td><td>No</td><td>No </td><td>No </td><td>23</td></tr>\n",
              "\t<tr><td>155000</td><td>0.41</td><td> 13</td><td>18700</td><td>1944</td><td>51</td><td>3</td><td>1</td><td>1.5</td><td>5</td><td>hot air        </td><td>gas     </td><td>septic           </td><td>No</td><td>No </td><td>No </td><td>23</td></tr>\n",
              "\t<tr><td> 86060</td><td>0.11</td><td>  0</td><td>15000</td><td> 840</td><td>51</td><td>2</td><td>0</td><td>1.0</td><td>3</td><td>hot air        </td><td>gas     </td><td>public/commercial</td><td>No</td><td>Yes</td><td>Yes</td><td>23</td></tr>\n",
              "\t<tr><td>120000</td><td>0.68</td><td> 31</td><td>14000</td><td>1152</td><td>22</td><td>4</td><td>1</td><td>1.0</td><td>8</td><td>hot air        </td><td>gas     </td><td>septic           </td><td>No</td><td>No </td><td>No </td><td>23</td></tr>\n",
              "</tbody>\n",
              "</table>\n"
            ]
          },
          "metadata": {}
        }
      ]
    },
    {
      "cell_type": "markdown",
      "metadata": {
        "id": "aBVRiNJt0dAz"
      },
      "source": [
        "## dplyr"
      ]
    },
    {
      "cell_type": "markdown",
      "metadata": {
        "id": "L6cjmoQWg00-"
      },
      "source": [
        "Es el módulo que nos va a permitir renombrar variables, reordenarlas, crear nuevas, resumirlas y otras tareas que nos van a permitir trabajar mejor con nuestros datos\n",
        "\n",
        "Las principales funciones son:\n",
        "\n",
        "* mutate() agrega nuevas variables que son funciones de las variables existentes\n",
        "* select() nos permite filtrar variables en base a sus nombres\n",
        "* filter() nos permite filtrar variables en base a valores\n",
        "* summarize() nos permite crear resumenes, se usa en conjunto con group_by()\n",
        "* arrange() cambia el orden de las filas\n",
        "\n",
        "[Más funciones](https://dplyr.tidyverse.org/)"
      ]
    },
    {
      "cell_type": "code",
      "metadata": {
        "id": "z7CcUWzDzeYX",
        "colab": {
          "base_uri": "https://localhost:8080/"
        },
        "outputId": "32e19f51-28f5-4173-fac6-06c5372c8585"
      },
      "source": [
        "install.packages(\"nycflights13\")\n",
        "library(nycflights13)"
      ],
      "execution_count": null,
      "outputs": [
        {
          "output_type": "stream",
          "text": [
            "Installing package into ‘/usr/local/lib/R/site-library’\n",
            "(as ‘lib’ is unspecified)\n",
            "\n"
          ],
          "name": "stderr"
        }
      ]
    },
    {
      "cell_type": "code",
      "metadata": {
        "colab": {
          "base_uri": "https://localhost:8080/"
        },
        "id": "cl6BsxwlhtKI",
        "outputId": "b64c1c6f-06a2-4305-d465-3c803cfa4942"
      },
      "source": [
        "flights <- nycflights13::flights\n",
        "head(flights)"
      ],
      "execution_count": null,
      "outputs": [
        {
          "output_type": "display_data",
          "data": {
            "text/plain": [
              "  year month day dep_time sched_dep_time dep_delay arr_time sched_arr_time\n",
              "1 2013 1     1   517      515             2         830      819          \n",
              "2 2013 1     1   533      529             4         850      830          \n",
              "3 2013 1     1   542      540             2         923      850          \n",
              "4 2013 1     1   544      545            -1        1004     1022          \n",
              "5 2013 1     1   554      600            -6         812      837          \n",
              "6 2013 1     1   554      558            -4         740      728          \n",
              "  arr_delay carrier flight tailnum origin dest air_time distance hour minute\n",
              "1  11       UA      1545   N14228  EWR    IAH  227      1400     5    15    \n",
              "2  20       UA      1714   N24211  LGA    IAH  227      1416     5    29    \n",
              "3  33       AA      1141   N619AA  JFK    MIA  160      1089     5    40    \n",
              "4 -18       B6       725   N804JB  JFK    BQN  183      1576     5    45    \n",
              "5 -25       DL       461   N668DN  LGA    ATL  116       762     6     0    \n",
              "6  12       UA      1696   N39463  EWR    ORD  150       719     5    58    \n",
              "  time_hour          \n",
              "1 2013-01-01 05:00:00\n",
              "2 2013-01-01 05:00:00\n",
              "3 2013-01-01 05:00:00\n",
              "4 2013-01-01 05:00:00\n",
              "5 2013-01-01 06:00:00\n",
              "6 2013-01-01 05:00:00"
            ],
            "text/latex": "A tibble: 6 × 19\n\\begin{tabular}{lllllllllllllllllll}\n year & month & day & dep\\_time & sched\\_dep\\_time & dep\\_delay & arr\\_time & sched\\_arr\\_time & arr\\_delay & carrier & flight & tailnum & origin & dest & air\\_time & distance & hour & minute & time\\_hour\\\\\n <int> & <int> & <int> & <int> & <int> & <dbl> & <int> & <int> & <dbl> & <chr> & <int> & <chr> & <chr> & <chr> & <dbl> & <dbl> & <dbl> & <dbl> & <dttm>\\\\\n\\hline\n\t 2013 & 1 & 1 & 517 & 515 &  2 &  830 &  819 &  11 & UA & 1545 & N14228 & EWR & IAH & 227 & 1400 & 5 & 15 & 2013-01-01 05:00:00\\\\\n\t 2013 & 1 & 1 & 533 & 529 &  4 &  850 &  830 &  20 & UA & 1714 & N24211 & LGA & IAH & 227 & 1416 & 5 & 29 & 2013-01-01 05:00:00\\\\\n\t 2013 & 1 & 1 & 542 & 540 &  2 &  923 &  850 &  33 & AA & 1141 & N619AA & JFK & MIA & 160 & 1089 & 5 & 40 & 2013-01-01 05:00:00\\\\\n\t 2013 & 1 & 1 & 544 & 545 & -1 & 1004 & 1022 & -18 & B6 &  725 & N804JB & JFK & BQN & 183 & 1576 & 5 & 45 & 2013-01-01 05:00:00\\\\\n\t 2013 & 1 & 1 & 554 & 600 & -6 &  812 &  837 & -25 & DL &  461 & N668DN & LGA & ATL & 116 &  762 & 6 &  0 & 2013-01-01 06:00:00\\\\\n\t 2013 & 1 & 1 & 554 & 558 & -4 &  740 &  728 &  12 & UA & 1696 & N39463 & EWR & ORD & 150 &  719 & 5 & 58 & 2013-01-01 05:00:00\\\\\n\\end{tabular}\n",
            "text/markdown": "\nA tibble: 6 × 19\n\n| year &lt;int&gt; | month &lt;int&gt; | day &lt;int&gt; | dep_time &lt;int&gt; | sched_dep_time &lt;int&gt; | dep_delay &lt;dbl&gt; | arr_time &lt;int&gt; | sched_arr_time &lt;int&gt; | arr_delay &lt;dbl&gt; | carrier &lt;chr&gt; | flight &lt;int&gt; | tailnum &lt;chr&gt; | origin &lt;chr&gt; | dest &lt;chr&gt; | air_time &lt;dbl&gt; | distance &lt;dbl&gt; | hour &lt;dbl&gt; | minute &lt;dbl&gt; | time_hour &lt;dttm&gt; |\n|---|---|---|---|---|---|---|---|---|---|---|---|---|---|---|---|---|---|---|\n| 2013 | 1 | 1 | 517 | 515 |  2 |  830 |  819 |  11 | UA | 1545 | N14228 | EWR | IAH | 227 | 1400 | 5 | 15 | 2013-01-01 05:00:00 |\n| 2013 | 1 | 1 | 533 | 529 |  4 |  850 |  830 |  20 | UA | 1714 | N24211 | LGA | IAH | 227 | 1416 | 5 | 29 | 2013-01-01 05:00:00 |\n| 2013 | 1 | 1 | 542 | 540 |  2 |  923 |  850 |  33 | AA | 1141 | N619AA | JFK | MIA | 160 | 1089 | 5 | 40 | 2013-01-01 05:00:00 |\n| 2013 | 1 | 1 | 544 | 545 | -1 | 1004 | 1022 | -18 | B6 |  725 | N804JB | JFK | BQN | 183 | 1576 | 5 | 45 | 2013-01-01 05:00:00 |\n| 2013 | 1 | 1 | 554 | 600 | -6 |  812 |  837 | -25 | DL |  461 | N668DN | LGA | ATL | 116 |  762 | 6 |  0 | 2013-01-01 06:00:00 |\n| 2013 | 1 | 1 | 554 | 558 | -4 |  740 |  728 |  12 | UA | 1696 | N39463 | EWR | ORD | 150 |  719 | 5 | 58 | 2013-01-01 05:00:00 |\n\n",
            "text/html": [
              "<table class=\"dataframe\">\n",
              "<caption>A tibble: 6 × 19</caption>\n",
              "<thead>\n",
              "\t<tr><th scope=col>year</th><th scope=col>month</th><th scope=col>day</th><th scope=col>dep_time</th><th scope=col>sched_dep_time</th><th scope=col>dep_delay</th><th scope=col>arr_time</th><th scope=col>sched_arr_time</th><th scope=col>arr_delay</th><th scope=col>carrier</th><th scope=col>flight</th><th scope=col>tailnum</th><th scope=col>origin</th><th scope=col>dest</th><th scope=col>air_time</th><th scope=col>distance</th><th scope=col>hour</th><th scope=col>minute</th><th scope=col>time_hour</th></tr>\n",
              "\t<tr><th scope=col>&lt;int&gt;</th><th scope=col>&lt;int&gt;</th><th scope=col>&lt;int&gt;</th><th scope=col>&lt;int&gt;</th><th scope=col>&lt;int&gt;</th><th scope=col>&lt;dbl&gt;</th><th scope=col>&lt;int&gt;</th><th scope=col>&lt;int&gt;</th><th scope=col>&lt;dbl&gt;</th><th scope=col>&lt;chr&gt;</th><th scope=col>&lt;int&gt;</th><th scope=col>&lt;chr&gt;</th><th scope=col>&lt;chr&gt;</th><th scope=col>&lt;chr&gt;</th><th scope=col>&lt;dbl&gt;</th><th scope=col>&lt;dbl&gt;</th><th scope=col>&lt;dbl&gt;</th><th scope=col>&lt;dbl&gt;</th><th scope=col>&lt;dttm&gt;</th></tr>\n",
              "</thead>\n",
              "<tbody>\n",
              "\t<tr><td>2013</td><td>1</td><td>1</td><td>517</td><td>515</td><td> 2</td><td> 830</td><td> 819</td><td> 11</td><td>UA</td><td>1545</td><td>N14228</td><td>EWR</td><td>IAH</td><td>227</td><td>1400</td><td>5</td><td>15</td><td>2013-01-01 05:00:00</td></tr>\n",
              "\t<tr><td>2013</td><td>1</td><td>1</td><td>533</td><td>529</td><td> 4</td><td> 850</td><td> 830</td><td> 20</td><td>UA</td><td>1714</td><td>N24211</td><td>LGA</td><td>IAH</td><td>227</td><td>1416</td><td>5</td><td>29</td><td>2013-01-01 05:00:00</td></tr>\n",
              "\t<tr><td>2013</td><td>1</td><td>1</td><td>542</td><td>540</td><td> 2</td><td> 923</td><td> 850</td><td> 33</td><td>AA</td><td>1141</td><td>N619AA</td><td>JFK</td><td>MIA</td><td>160</td><td>1089</td><td>5</td><td>40</td><td>2013-01-01 05:00:00</td></tr>\n",
              "\t<tr><td>2013</td><td>1</td><td>1</td><td>544</td><td>545</td><td>-1</td><td>1004</td><td>1022</td><td>-18</td><td>B6</td><td> 725</td><td>N804JB</td><td>JFK</td><td>BQN</td><td>183</td><td>1576</td><td>5</td><td>45</td><td>2013-01-01 05:00:00</td></tr>\n",
              "\t<tr><td>2013</td><td>1</td><td>1</td><td>554</td><td>600</td><td>-6</td><td> 812</td><td> 837</td><td>-25</td><td>DL</td><td> 461</td><td>N668DN</td><td>LGA</td><td>ATL</td><td>116</td><td> 762</td><td>6</td><td> 0</td><td>2013-01-01 06:00:00</td></tr>\n",
              "\t<tr><td>2013</td><td>1</td><td>1</td><td>554</td><td>558</td><td>-4</td><td> 740</td><td> 728</td><td> 12</td><td>UA</td><td>1696</td><td>N39463</td><td>EWR</td><td>ORD</td><td>150</td><td> 719</td><td>5</td><td>58</td><td>2013-01-01 05:00:00</td></tr>\n",
              "</tbody>\n",
              "</table>\n"
            ]
          },
          "metadata": {}
        }
      ]
    },
    {
      "cell_type": "code",
      "metadata": {
        "colab": {
          "base_uri": "https://localhost:8080/"
        },
        "id": "Bvqk8SWxiAls",
        "outputId": "6ff37ada-220e-4f75-bd0c-f27f0b11432c"
      },
      "source": [
        "?nycflights13::flights"
      ],
      "execution_count": null,
      "outputs": [
        {
          "output_type": "stream",
          "text": [
            "Warning message in seq_len(head.end.idx):\n",
            "“first element used of 'length.out' argument”\n",
            "ERROR while rich displaying an object: Error in seq_len(head.end.idx): argument must be coercible to non-negative integer\n",
            "\n",
            "Traceback:\n",
            "1. FUN(X[[i]], ...)\n",
            "2. tryCatch(withCallingHandlers({\n",
            " .     if (!mime %in% names(repr::mime2repr)) \n",
            " .         stop(\"No repr_* for mimetype \", mime, \" in repr::mime2repr\")\n",
            " .     rpr <- repr::mime2repr[[mime]](obj)\n",
            " .     if (is.null(rpr)) \n",
            " .         return(NULL)\n",
            " .     prepare_content(is.raw(rpr), rpr)\n",
            " . }, error = error_handler), error = outer_handler)\n",
            "3. tryCatchList(expr, classes, parentenv, handlers)\n",
            "4. tryCatchOne(expr, names, parentenv, handlers[[1L]])\n",
            "5. doTryCatch(return(expr), name, parentenv, handler)\n",
            "6. withCallingHandlers({\n",
            " .     if (!mime %in% names(repr::mime2repr)) \n",
            " .         stop(\"No repr_* for mimetype \", mime, \" in repr::mime2repr\")\n",
            " .     rpr <- repr::mime2repr[[mime]](obj)\n",
            " .     if (is.null(rpr)) \n",
            " .         return(NULL)\n",
            " .     prepare_content(is.raw(rpr), rpr)\n",
            " . }, error = error_handler)\n",
            "7. repr::mime2repr[[mime]](obj)\n",
            "8. repr_html.help_files_with_topic(obj)\n",
            "9. repr_help_files_with_topic_generic(obj, Rd2HTML)\n"
          ],
          "name": "stderr"
        }
      ]
    },
    {
      "cell_type": "markdown",
      "metadata": {
        "id": "FCIxLniPiXqY"
      },
      "source": [
        "### Filter"
      ]
    },
    {
      "cell_type": "markdown",
      "metadata": {
        "id": "aIaNIdFCibDi"
      },
      "source": [
        "Nos permite elegir un subconjunto de observaciones en base a sus valores, se utilizan los comparadores lógicos: >, >=, <, <=, != (no igual), =="
      ]
    },
    {
      "cell_type": "code",
      "metadata": {
        "colab": {
          "base_uri": "https://localhost:8080/"
        },
        "id": "JQG6YfBbiUpb",
        "outputId": "65d716ae-935c-475f-d74b-e81ee85167ee"
      },
      "source": [
        "flights_subset <- filter(flights, month ==1, day > 15, origin == \"EWR\")\n",
        "head(flights_subset)"
      ],
      "execution_count": null,
      "outputs": [
        {
          "output_type": "display_data",
          "data": {
            "text/plain": [
              "  year month day dep_time sched_dep_time dep_delay arr_time sched_arr_time\n",
              "1 2013 1     16    3      1946           257       212      2154          \n",
              "2 2013 1     16  456       500            -4       730       648          \n",
              "3 2013 1     16  555       600            -5       920       859          \n",
              "4 2013 1     16  558       600            -2       900       800          \n",
              "5 2013 1     16  558       600            -2       754       709          \n",
              "6 2013 1     16  617       615             2       928       842          \n",
              "  arr_delay carrier flight tailnum origin dest air_time distance hour minute\n",
              "1 258       EV      4536   N16987  EWR    CVG  111       569     19   46    \n",
              "2  42       US      1117   N543UW  EWR    CLT   96       529      5    0    \n",
              "3  21       B6       507   N516JB  EWR    FLL  153      1065      6    0    \n",
              "4  60       EV      4911   N712EV  EWR    DTW  107       488      6    0    \n",
              "5  45       B6       380   N198JB  EWR    BOS   77       200      6    0    \n",
              "6  46       DL       575   N346NB  EWR    ATL  127       746      6   15    \n",
              "  time_hour          \n",
              "1 2013-01-16 19:00:00\n",
              "2 2013-01-16 05:00:00\n",
              "3 2013-01-16 06:00:00\n",
              "4 2013-01-16 06:00:00\n",
              "5 2013-01-16 06:00:00\n",
              "6 2013-01-16 06:00:00"
            ],
            "text/latex": "A tibble: 6 × 19\n\\begin{tabular}{lllllllllllllllllll}\n year & month & day & dep\\_time & sched\\_dep\\_time & dep\\_delay & arr\\_time & sched\\_arr\\_time & arr\\_delay & carrier & flight & tailnum & origin & dest & air\\_time & distance & hour & minute & time\\_hour\\\\\n <int> & <int> & <int> & <int> & <int> & <dbl> & <int> & <int> & <dbl> & <chr> & <int> & <chr> & <chr> & <chr> & <dbl> & <dbl> & <dbl> & <dbl> & <dttm>\\\\\n\\hline\n\t 2013 & 1 & 16 &   3 & 1946 & 257 & 212 & 2154 & 258 & EV & 4536 & N16987 & EWR & CVG & 111 &  569 & 19 & 46 & 2013-01-16 19:00:00\\\\\n\t 2013 & 1 & 16 & 456 &  500 &  -4 & 730 &  648 &  42 & US & 1117 & N543UW & EWR & CLT &  96 &  529 &  5 &  0 & 2013-01-16 05:00:00\\\\\n\t 2013 & 1 & 16 & 555 &  600 &  -5 & 920 &  859 &  21 & B6 &  507 & N516JB & EWR & FLL & 153 & 1065 &  6 &  0 & 2013-01-16 06:00:00\\\\\n\t 2013 & 1 & 16 & 558 &  600 &  -2 & 900 &  800 &  60 & EV & 4911 & N712EV & EWR & DTW & 107 &  488 &  6 &  0 & 2013-01-16 06:00:00\\\\\n\t 2013 & 1 & 16 & 558 &  600 &  -2 & 754 &  709 &  45 & B6 &  380 & N198JB & EWR & BOS &  77 &  200 &  6 &  0 & 2013-01-16 06:00:00\\\\\n\t 2013 & 1 & 16 & 617 &  615 &   2 & 928 &  842 &  46 & DL &  575 & N346NB & EWR & ATL & 127 &  746 &  6 & 15 & 2013-01-16 06:00:00\\\\\n\\end{tabular}\n",
            "text/markdown": "\nA tibble: 6 × 19\n\n| year &lt;int&gt; | month &lt;int&gt; | day &lt;int&gt; | dep_time &lt;int&gt; | sched_dep_time &lt;int&gt; | dep_delay &lt;dbl&gt; | arr_time &lt;int&gt; | sched_arr_time &lt;int&gt; | arr_delay &lt;dbl&gt; | carrier &lt;chr&gt; | flight &lt;int&gt; | tailnum &lt;chr&gt; | origin &lt;chr&gt; | dest &lt;chr&gt; | air_time &lt;dbl&gt; | distance &lt;dbl&gt; | hour &lt;dbl&gt; | minute &lt;dbl&gt; | time_hour &lt;dttm&gt; |\n|---|---|---|---|---|---|---|---|---|---|---|---|---|---|---|---|---|---|---|\n| 2013 | 1 | 16 |   3 | 1946 | 257 | 212 | 2154 | 258 | EV | 4536 | N16987 | EWR | CVG | 111 |  569 | 19 | 46 | 2013-01-16 19:00:00 |\n| 2013 | 1 | 16 | 456 |  500 |  -4 | 730 |  648 |  42 | US | 1117 | N543UW | EWR | CLT |  96 |  529 |  5 |  0 | 2013-01-16 05:00:00 |\n| 2013 | 1 | 16 | 555 |  600 |  -5 | 920 |  859 |  21 | B6 |  507 | N516JB | EWR | FLL | 153 | 1065 |  6 |  0 | 2013-01-16 06:00:00 |\n| 2013 | 1 | 16 | 558 |  600 |  -2 | 900 |  800 |  60 | EV | 4911 | N712EV | EWR | DTW | 107 |  488 |  6 |  0 | 2013-01-16 06:00:00 |\n| 2013 | 1 | 16 | 558 |  600 |  -2 | 754 |  709 |  45 | B6 |  380 | N198JB | EWR | BOS |  77 |  200 |  6 |  0 | 2013-01-16 06:00:00 |\n| 2013 | 1 | 16 | 617 |  615 |   2 | 928 |  842 |  46 | DL |  575 | N346NB | EWR | ATL | 127 |  746 |  6 | 15 | 2013-01-16 06:00:00 |\n\n",
            "text/html": [
              "<table class=\"dataframe\">\n",
              "<caption>A tibble: 6 × 19</caption>\n",
              "<thead>\n",
              "\t<tr><th scope=col>year</th><th scope=col>month</th><th scope=col>day</th><th scope=col>dep_time</th><th scope=col>sched_dep_time</th><th scope=col>dep_delay</th><th scope=col>arr_time</th><th scope=col>sched_arr_time</th><th scope=col>arr_delay</th><th scope=col>carrier</th><th scope=col>flight</th><th scope=col>tailnum</th><th scope=col>origin</th><th scope=col>dest</th><th scope=col>air_time</th><th scope=col>distance</th><th scope=col>hour</th><th scope=col>minute</th><th scope=col>time_hour</th></tr>\n",
              "\t<tr><th scope=col>&lt;int&gt;</th><th scope=col>&lt;int&gt;</th><th scope=col>&lt;int&gt;</th><th scope=col>&lt;int&gt;</th><th scope=col>&lt;int&gt;</th><th scope=col>&lt;dbl&gt;</th><th scope=col>&lt;int&gt;</th><th scope=col>&lt;int&gt;</th><th scope=col>&lt;dbl&gt;</th><th scope=col>&lt;chr&gt;</th><th scope=col>&lt;int&gt;</th><th scope=col>&lt;chr&gt;</th><th scope=col>&lt;chr&gt;</th><th scope=col>&lt;chr&gt;</th><th scope=col>&lt;dbl&gt;</th><th scope=col>&lt;dbl&gt;</th><th scope=col>&lt;dbl&gt;</th><th scope=col>&lt;dbl&gt;</th><th scope=col>&lt;dttm&gt;</th></tr>\n",
              "</thead>\n",
              "<tbody>\n",
              "\t<tr><td>2013</td><td>1</td><td>16</td><td>  3</td><td>1946</td><td>257</td><td>212</td><td>2154</td><td>258</td><td>EV</td><td>4536</td><td>N16987</td><td>EWR</td><td>CVG</td><td>111</td><td> 569</td><td>19</td><td>46</td><td>2013-01-16 19:00:00</td></tr>\n",
              "\t<tr><td>2013</td><td>1</td><td>16</td><td>456</td><td> 500</td><td> -4</td><td>730</td><td> 648</td><td> 42</td><td>US</td><td>1117</td><td>N543UW</td><td>EWR</td><td>CLT</td><td> 96</td><td> 529</td><td> 5</td><td> 0</td><td>2013-01-16 05:00:00</td></tr>\n",
              "\t<tr><td>2013</td><td>1</td><td>16</td><td>555</td><td> 600</td><td> -5</td><td>920</td><td> 859</td><td> 21</td><td>B6</td><td> 507</td><td>N516JB</td><td>EWR</td><td>FLL</td><td>153</td><td>1065</td><td> 6</td><td> 0</td><td>2013-01-16 06:00:00</td></tr>\n",
              "\t<tr><td>2013</td><td>1</td><td>16</td><td>558</td><td> 600</td><td> -2</td><td>900</td><td> 800</td><td> 60</td><td>EV</td><td>4911</td><td>N712EV</td><td>EWR</td><td>DTW</td><td>107</td><td> 488</td><td> 6</td><td> 0</td><td>2013-01-16 06:00:00</td></tr>\n",
              "\t<tr><td>2013</td><td>1</td><td>16</td><td>558</td><td> 600</td><td> -2</td><td>754</td><td> 709</td><td> 45</td><td>B6</td><td> 380</td><td>N198JB</td><td>EWR</td><td>BOS</td><td> 77</td><td> 200</td><td> 6</td><td> 0</td><td>2013-01-16 06:00:00</td></tr>\n",
              "\t<tr><td>2013</td><td>1</td><td>16</td><td>617</td><td> 615</td><td>  2</td><td>928</td><td> 842</td><td> 46</td><td>DL</td><td> 575</td><td>N346NB</td><td>EWR</td><td>ATL</td><td>127</td><td> 746</td><td> 6</td><td>15</td><td>2013-01-16 06:00:00</td></tr>\n",
              "</tbody>\n",
              "</table>\n"
            ]
          },
          "metadata": {}
        }
      ]
    },
    {
      "cell_type": "markdown",
      "metadata": {
        "id": "fLSNP5aJjTfg"
      },
      "source": [
        "Tambien podemos concatenar filtros con:\n",
        "\n",
        "\"&\" y\n",
        "\"|\" or\n",
        "\"!\" not"
      ]
    },
    {
      "cell_type": "code",
      "metadata": {
        "colab": {
          "base_uri": "https://localhost:8080/"
        },
        "id": "mWJp49m-jQp_",
        "outputId": "afc1e9b3-78c9-4ba5-a0f7-0fc8d5223515"
      },
      "source": [
        "flight_11_12 = filter(flights, month == 11 | month == 12)\n",
        "head(flight_11_12)"
      ],
      "execution_count": null,
      "outputs": [
        {
          "output_type": "display_data",
          "data": {
            "text/plain": [
              "  year month day dep_time sched_dep_time dep_delay arr_time sched_arr_time\n",
              "1 2013 11    1     5      2359             6       352       345          \n",
              "2 2013 11    1    35      2250           105       123      2356          \n",
              "3 2013 11    1   455       500            -5       641       651          \n",
              "4 2013 11    1   539       545            -6       856       827          \n",
              "5 2013 11    1   542       545            -3       831       855          \n",
              "6 2013 11    1   549       600           -11       912       923          \n",
              "  arr_delay carrier flight tailnum origin dest air_time distance hour minute\n",
              "1   7       B6       745   N568JB  JFK    PSE  205      1617     23   59    \n",
              "2  87       B6      1816   N353JB  JFK    SYR   36       209     22   50    \n",
              "3 -10       US      1895   N192UW  EWR    CLT   88       529      5    0    \n",
              "4  29       UA      1714   N38727  LGA    IAH  229      1416      5   45    \n",
              "5 -24       AA      2243   N5CLAA  JFK    MIA  147      1089      5   45    \n",
              "6 -11       UA       303   N595UA  JFK    SFO  359      2586      6    0    \n",
              "  time_hour          \n",
              "1 2013-11-01 23:00:00\n",
              "2 2013-11-01 22:00:00\n",
              "3 2013-11-01 05:00:00\n",
              "4 2013-11-01 05:00:00\n",
              "5 2013-11-01 05:00:00\n",
              "6 2013-11-01 06:00:00"
            ],
            "text/latex": "A tibble: 6 × 19\n\\begin{tabular}{lllllllllllllllllll}\n year & month & day & dep\\_time & sched\\_dep\\_time & dep\\_delay & arr\\_time & sched\\_arr\\_time & arr\\_delay & carrier & flight & tailnum & origin & dest & air\\_time & distance & hour & minute & time\\_hour\\\\\n <int> & <int> & <int> & <int> & <int> & <dbl> & <int> & <int> & <dbl> & <chr> & <int> & <chr> & <chr> & <chr> & <dbl> & <dbl> & <dbl> & <dbl> & <dttm>\\\\\n\\hline\n\t 2013 & 11 & 1 &   5 & 2359 &   6 & 352 &  345 &   7 & B6 &  745 & N568JB & JFK & PSE & 205 & 1617 & 23 & 59 & 2013-11-01 23:00:00\\\\\n\t 2013 & 11 & 1 &  35 & 2250 & 105 & 123 & 2356 &  87 & B6 & 1816 & N353JB & JFK & SYR &  36 &  209 & 22 & 50 & 2013-11-01 22:00:00\\\\\n\t 2013 & 11 & 1 & 455 &  500 &  -5 & 641 &  651 & -10 & US & 1895 & N192UW & EWR & CLT &  88 &  529 &  5 &  0 & 2013-11-01 05:00:00\\\\\n\t 2013 & 11 & 1 & 539 &  545 &  -6 & 856 &  827 &  29 & UA & 1714 & N38727 & LGA & IAH & 229 & 1416 &  5 & 45 & 2013-11-01 05:00:00\\\\\n\t 2013 & 11 & 1 & 542 &  545 &  -3 & 831 &  855 & -24 & AA & 2243 & N5CLAA & JFK & MIA & 147 & 1089 &  5 & 45 & 2013-11-01 05:00:00\\\\\n\t 2013 & 11 & 1 & 549 &  600 & -11 & 912 &  923 & -11 & UA &  303 & N595UA & JFK & SFO & 359 & 2586 &  6 &  0 & 2013-11-01 06:00:00\\\\\n\\end{tabular}\n",
            "text/markdown": "\nA tibble: 6 × 19\n\n| year &lt;int&gt; | month &lt;int&gt; | day &lt;int&gt; | dep_time &lt;int&gt; | sched_dep_time &lt;int&gt; | dep_delay &lt;dbl&gt; | arr_time &lt;int&gt; | sched_arr_time &lt;int&gt; | arr_delay &lt;dbl&gt; | carrier &lt;chr&gt; | flight &lt;int&gt; | tailnum &lt;chr&gt; | origin &lt;chr&gt; | dest &lt;chr&gt; | air_time &lt;dbl&gt; | distance &lt;dbl&gt; | hour &lt;dbl&gt; | minute &lt;dbl&gt; | time_hour &lt;dttm&gt; |\n|---|---|---|---|---|---|---|---|---|---|---|---|---|---|---|---|---|---|---|\n| 2013 | 11 | 1 |   5 | 2359 |   6 | 352 |  345 |   7 | B6 |  745 | N568JB | JFK | PSE | 205 | 1617 | 23 | 59 | 2013-11-01 23:00:00 |\n| 2013 | 11 | 1 |  35 | 2250 | 105 | 123 | 2356 |  87 | B6 | 1816 | N353JB | JFK | SYR |  36 |  209 | 22 | 50 | 2013-11-01 22:00:00 |\n| 2013 | 11 | 1 | 455 |  500 |  -5 | 641 |  651 | -10 | US | 1895 | N192UW | EWR | CLT |  88 |  529 |  5 |  0 | 2013-11-01 05:00:00 |\n| 2013 | 11 | 1 | 539 |  545 |  -6 | 856 |  827 |  29 | UA | 1714 | N38727 | LGA | IAH | 229 | 1416 |  5 | 45 | 2013-11-01 05:00:00 |\n| 2013 | 11 | 1 | 542 |  545 |  -3 | 831 |  855 | -24 | AA | 2243 | N5CLAA | JFK | MIA | 147 | 1089 |  5 | 45 | 2013-11-01 05:00:00 |\n| 2013 | 11 | 1 | 549 |  600 | -11 | 912 |  923 | -11 | UA |  303 | N595UA | JFK | SFO | 359 | 2586 |  6 |  0 | 2013-11-01 06:00:00 |\n\n",
            "text/html": [
              "<table class=\"dataframe\">\n",
              "<caption>A tibble: 6 × 19</caption>\n",
              "<thead>\n",
              "\t<tr><th scope=col>year</th><th scope=col>month</th><th scope=col>day</th><th scope=col>dep_time</th><th scope=col>sched_dep_time</th><th scope=col>dep_delay</th><th scope=col>arr_time</th><th scope=col>sched_arr_time</th><th scope=col>arr_delay</th><th scope=col>carrier</th><th scope=col>flight</th><th scope=col>tailnum</th><th scope=col>origin</th><th scope=col>dest</th><th scope=col>air_time</th><th scope=col>distance</th><th scope=col>hour</th><th scope=col>minute</th><th scope=col>time_hour</th></tr>\n",
              "\t<tr><th scope=col>&lt;int&gt;</th><th scope=col>&lt;int&gt;</th><th scope=col>&lt;int&gt;</th><th scope=col>&lt;int&gt;</th><th scope=col>&lt;int&gt;</th><th scope=col>&lt;dbl&gt;</th><th scope=col>&lt;int&gt;</th><th scope=col>&lt;int&gt;</th><th scope=col>&lt;dbl&gt;</th><th scope=col>&lt;chr&gt;</th><th scope=col>&lt;int&gt;</th><th scope=col>&lt;chr&gt;</th><th scope=col>&lt;chr&gt;</th><th scope=col>&lt;chr&gt;</th><th scope=col>&lt;dbl&gt;</th><th scope=col>&lt;dbl&gt;</th><th scope=col>&lt;dbl&gt;</th><th scope=col>&lt;dbl&gt;</th><th scope=col>&lt;dttm&gt;</th></tr>\n",
              "</thead>\n",
              "<tbody>\n",
              "\t<tr><td>2013</td><td>11</td><td>1</td><td>  5</td><td>2359</td><td>  6</td><td>352</td><td> 345</td><td>  7</td><td>B6</td><td> 745</td><td>N568JB</td><td>JFK</td><td>PSE</td><td>205</td><td>1617</td><td>23</td><td>59</td><td>2013-11-01 23:00:00</td></tr>\n",
              "\t<tr><td>2013</td><td>11</td><td>1</td><td> 35</td><td>2250</td><td>105</td><td>123</td><td>2356</td><td> 87</td><td>B6</td><td>1816</td><td>N353JB</td><td>JFK</td><td>SYR</td><td> 36</td><td> 209</td><td>22</td><td>50</td><td>2013-11-01 22:00:00</td></tr>\n",
              "\t<tr><td>2013</td><td>11</td><td>1</td><td>455</td><td> 500</td><td> -5</td><td>641</td><td> 651</td><td>-10</td><td>US</td><td>1895</td><td>N192UW</td><td>EWR</td><td>CLT</td><td> 88</td><td> 529</td><td> 5</td><td> 0</td><td>2013-11-01 05:00:00</td></tr>\n",
              "\t<tr><td>2013</td><td>11</td><td>1</td><td>539</td><td> 545</td><td> -6</td><td>856</td><td> 827</td><td> 29</td><td>UA</td><td>1714</td><td>N38727</td><td>LGA</td><td>IAH</td><td>229</td><td>1416</td><td> 5</td><td>45</td><td>2013-11-01 05:00:00</td></tr>\n",
              "\t<tr><td>2013</td><td>11</td><td>1</td><td>542</td><td> 545</td><td> -3</td><td>831</td><td> 855</td><td>-24</td><td>AA</td><td>2243</td><td>N5CLAA</td><td>JFK</td><td>MIA</td><td>147</td><td>1089</td><td> 5</td><td>45</td><td>2013-11-01 05:00:00</td></tr>\n",
              "\t<tr><td>2013</td><td>11</td><td>1</td><td>549</td><td> 600</td><td>-11</td><td>912</td><td> 923</td><td>-11</td><td>UA</td><td> 303</td><td>N595UA</td><td>JFK</td><td>SFO</td><td>359</td><td>2586</td><td> 6</td><td> 0</td><td>2013-11-01 06:00:00</td></tr>\n",
              "</tbody>\n",
              "</table>\n"
            ]
          },
          "metadata": {}
        }
      ]
    },
    {
      "cell_type": "markdown",
      "metadata": {
        "id": "yw-RVUAGj-sw"
      },
      "source": [
        "### Arrange"
      ]
    },
    {
      "cell_type": "markdown",
      "metadata": {
        "id": "yAp1kOKhkAJp"
      },
      "source": [
        "Funciona para ordenar las filas"
      ]
    },
    {
      "cell_type": "code",
      "metadata": {
        "colab": {
          "base_uri": "https://localhost:8080/"
        },
        "id": "ninvYu9_jCUN",
        "outputId": "1330ab53-f168-4e85-e765-d884655366c4"
      },
      "source": [
        "arrange(flights, year, month, day)"
      ],
      "execution_count": null,
      "outputs": [
        {
          "output_type": "display_data",
          "data": {
            "text/plain": [
              "       year month day dep_time sched_dep_time dep_delay arr_time sched_arr_time\n",
              "1      2013 1     1   517      515             2         830      819          \n",
              "2      2013 1     1   533      529             4         850      830          \n",
              "3      2013 1     1   542      540             2         923      850          \n",
              "4      2013 1     1   544      545            -1        1004     1022          \n",
              "5      2013 1     1   554      600            -6         812      837          \n",
              "6      2013 1     1   554      558            -4         740      728          \n",
              "7      2013 1     1   555      600            -5         913      854          \n",
              "8      2013 1     1   557      600            -3         709      723          \n",
              "9      2013 1     1   557      600            -3         838      846          \n",
              "10     2013 1     1   558      600            -2         753      745          \n",
              "11     2013 1     1   558      600            -2         849      851          \n",
              "12     2013 1     1   558      600            -2         853      856          \n",
              "13     2013 1     1   558      600            -2         924      917          \n",
              "14     2013 1     1   558      600            -2         923      937          \n",
              "15     2013 1     1   559      600            -1         941      910          \n",
              "16     2013 1     1   559      559             0         702      706          \n",
              "17     2013 1     1   559      600            -1         854      902          \n",
              "18     2013 1     1   600      600             0         851      858          \n",
              "19     2013 1     1   600      600             0         837      825          \n",
              "20     2013 1     1   601      600             1         844      850          \n",
              "21     2013 1     1   602      610            -8         812      820          \n",
              "22     2013 1     1   602      605            -3         821      805          \n",
              "23     2013 1     1   606      610            -4         858      910          \n",
              "24     2013 1     1   606      610            -4         837      845          \n",
              "25     2013 1     1   607      607             0         858      915          \n",
              "26     2013 1     1   608      600             8         807      735          \n",
              "27     2013 1     1   611      600            11         945      931          \n",
              "28     2013 1     1   613      610             3         925      921          \n",
              "29     2013 1     1   615      615             0        1039     1100          \n",
              "30     2013 1     1   615      615             0         833      842          \n",
              "⋮      ⋮    ⋮     ⋮   ⋮        ⋮              ⋮         ⋮        ⋮             \n",
              "336747 2013 12    31  2155     2039            76        253     2355          \n",
              "336748 2013 12    31  2155     2150             5        110       51          \n",
              "336749 2013 12    31  2159     2155             4         55       46          \n",
              "336750 2013 12    31  2206     2110            56         44     2339          \n",
              "336751 2013 12    31  2211     2159            12        100       45          \n",
              "336752 2013 12    31  2218     2219            -1        315      304          \n",
              "336753 2013 12    31  2235     2245           -10       2351     2355          \n",
              "336754 2013 12    31  2245     2250            -5       2359     2356          \n",
              "336755 2013 12    31  2310     2255            15          7     2356          \n",
              "336756 2013 12    31  2321     2250            31         46        8          \n",
              "336757 2013 12    31  2328     2330            -2        412      409          \n",
              "336758 2013 12    31  2332     2245            47         58        3          \n",
              "336759 2013 12    31  2355     2359            -4        430      440          \n",
              "336760 2013 12    31  2356     2359            -3        436      445          \n",
              "336761 2013 12    31    NA     1520            NA         NA     1705          \n",
              "336762 2013 12    31    NA     2025            NA         NA     2205          \n",
              "336763 2013 12    31    NA     1932            NA         NA     2305          \n",
              "336764 2013 12    31    NA     1505            NA         NA     1725          \n",
              "336765 2013 12    31    NA     1000            NA         NA     1252          \n",
              "336766 2013 12    31    NA      840            NA         NA     1205          \n",
              "336767 2013 12    31    NA      754            NA         NA     1118          \n",
              "336768 2013 12    31    NA     2000            NA         NA     2146          \n",
              "336769 2013 12    31    NA     1500            NA         NA     1817          \n",
              "336770 2013 12    31    NA     1430            NA         NA     1750          \n",
              "336771 2013 12    31    NA      855            NA         NA     1142          \n",
              "336772 2013 12    31    NA      705            NA         NA      931          \n",
              "336773 2013 12    31    NA      825            NA         NA     1029          \n",
              "336774 2013 12    31    NA     1615            NA         NA     1800          \n",
              "336775 2013 12    31    NA      600            NA         NA      735          \n",
              "336776 2013 12    31    NA      830            NA         NA     1154          \n",
              "       arr_delay carrier flight tailnum origin dest air_time distance hour\n",
              "1       11       UA      1545   N14228  EWR    IAH  227      1400     5   \n",
              "2       20       UA      1714   N24211  LGA    IAH  227      1416     5   \n",
              "3       33       AA      1141   N619AA  JFK    MIA  160      1089     5   \n",
              "4      -18       B6       725   N804JB  JFK    BQN  183      1576     5   \n",
              "5      -25       DL       461   N668DN  LGA    ATL  116       762     6   \n",
              "6       12       UA      1696   N39463  EWR    ORD  150       719     5   \n",
              "7       19       B6       507   N516JB  EWR    FLL  158      1065     6   \n",
              "8      -14       EV      5708   N829AS  LGA    IAD   53       229     6   \n",
              "9       -8       B6        79   N593JB  JFK    MCO  140       944     6   \n",
              "10       8       AA       301   N3ALAA  LGA    ORD  138       733     6   \n",
              "11      -2       B6        49   N793JB  JFK    PBI  149      1028     6   \n",
              "12      -3       B6        71   N657JB  JFK    TPA  158      1005     6   \n",
              "13       7       UA       194   N29129  JFK    LAX  345      2475     6   \n",
              "14     -14       UA      1124   N53441  EWR    SFO  361      2565     6   \n",
              "15      31       AA       707   N3DUAA  LGA    DFW  257      1389     6   \n",
              "16      -4       B6      1806   N708JB  JFK    BOS   44       187     5   \n",
              "17      -8       UA      1187   N76515  EWR    LAS  337      2227     6   \n",
              "18      -7       B6       371   N595JB  LGA    FLL  152      1076     6   \n",
              "19      12       MQ      4650   N542MQ  LGA    ATL  134       762     6   \n",
              "20      -6       B6       343   N644JB  EWR    PBI  147      1023     6   \n",
              "21      -8       DL      1919   N971DL  LGA    MSP  170      1020     6   \n",
              "22      16       MQ      4401   N730MQ  LGA    DTW  105       502     6   \n",
              "23     -12       AA      1895   N633AA  EWR    MIA  152      1085     6   \n",
              "24      -8       DL      1743   N3739P  JFK    ATL  128       760     6   \n",
              "25     -17       UA      1077   N53442  EWR    MIA  157      1085     6   \n",
              "26      32       MQ      3768   N9EAMQ  EWR    ORD  139       719     6   \n",
              "27      14       UA       303   N532UA  JFK    SFO  366      2586     6   \n",
              "28       4       B6       135   N635JB  JFK    RSW  175      1074     6   \n",
              "29     -21       B6       709   N794JB  JFK    SJU  182      1598     6   \n",
              "30      -9       DL       575   N326NB  EWR    ATL  120       746     6   \n",
              "⋮      ⋮         ⋮       ⋮      ⋮       ⋮      ⋮    ⋮        ⋮        ⋮   \n",
              "336747  NA       B6      1205   N627JB  JFK    PDX   NA      2454     20  \n",
              "336748  19       B6      1901   N729JB  JFK    FLL  164      1069     21  \n",
              "336749   9       B6      2053   N593JB  JFK    PBI  155      1028     21  \n",
              "336750  65       B6       775   N184JB  JFK    MSY  195      1182     21  \n",
              "336751  15       B6      1183   N715JB  JFK    MCO  148       944     21  \n",
              "336752  11       B6      1203   N625JB  JFK    SJU  202      1598     22  \n",
              "336753  -4       B6       234   N355JB  JFK    BTV   49       266     22  \n",
              "336754   3       B6      1816   N318JB  JFK    SYR   51       209     22  \n",
              "336755  11       B6       718   N279JB  JFK    BOS   40       187     22  \n",
              "336756  38       B6      2002   N179JB  JFK    BUF   66       301     22  \n",
              "336757   3       B6      1389   N651JB  EWR    SJU  198      1608     23  \n",
              "336758  55       B6       486   N334JB  JFK    ROC   60       264     22  \n",
              "336759 -10       B6      1503   N509JB  JFK    SJU  195      1598     23  \n",
              "336760  -9       B6       745   N665JB  JFK    PSE  200      1617     23  \n",
              "336761  NA       AA       341   N568AA  LGA    ORD   NA       733     15  \n",
              "336762  NA       AA       371   N482AA  LGA    ORD   NA       733     20  \n",
              "336763  NA       B6       161   N516JB  JFK    SMF   NA      2521     19  \n",
              "336764  NA       EV      4181   N24103  EWR    MCI   NA      1092     15  \n",
              "336765  NA       UA      1124   NA      EWR    EGE   NA      1725     10  \n",
              "336766  NA       UA      1151   NA      EWR    SEA   NA      2402      8  \n",
              "336767  NA       UA      1455   NA      EWR    LAX   NA      2454      7  \n",
              "336768  NA       UA      1482   NA      EWR    ORD   NA       719     20  \n",
              "336769  NA       UA      1483   NA      EWR    AUS   NA      1504     15  \n",
              "336770  NA       UA      1493   NA      EWR    LAX   NA      2454     14  \n",
              "336771  NA       UA      1506   NA      EWR    JAC   NA      1874      8  \n",
              "336772  NA       UA      1729   NA      EWR    DEN   NA      1605      7  \n",
              "336773  NA       US      1831   NA      JFK    CLT   NA       541      8  \n",
              "336774  NA       MQ      3301   N844MQ  LGA    RDU   NA       431     16  \n",
              "336775  NA       UA       219   NA      EWR    ORD   NA       719      6  \n",
              "336776  NA       UA       443   NA      JFK    LAX   NA      2475      8  \n",
              "       minute time_hour          \n",
              "1      15     2013-01-01 05:00:00\n",
              "2      29     2013-01-01 05:00:00\n",
              "3      40     2013-01-01 05:00:00\n",
              "4      45     2013-01-01 05:00:00\n",
              "5       0     2013-01-01 06:00:00\n",
              "6      58     2013-01-01 05:00:00\n",
              "7       0     2013-01-01 06:00:00\n",
              "8       0     2013-01-01 06:00:00\n",
              "9       0     2013-01-01 06:00:00\n",
              "10      0     2013-01-01 06:00:00\n",
              "11      0     2013-01-01 06:00:00\n",
              "12      0     2013-01-01 06:00:00\n",
              "13      0     2013-01-01 06:00:00\n",
              "14      0     2013-01-01 06:00:00\n",
              "15      0     2013-01-01 06:00:00\n",
              "16     59     2013-01-01 05:00:00\n",
              "17      0     2013-01-01 06:00:00\n",
              "18      0     2013-01-01 06:00:00\n",
              "19      0     2013-01-01 06:00:00\n",
              "20      0     2013-01-01 06:00:00\n",
              "21     10     2013-01-01 06:00:00\n",
              "22      5     2013-01-01 06:00:00\n",
              "23     10     2013-01-01 06:00:00\n",
              "24     10     2013-01-01 06:00:00\n",
              "25      7     2013-01-01 06:00:00\n",
              "26      0     2013-01-01 06:00:00\n",
              "27      0     2013-01-01 06:00:00\n",
              "28     10     2013-01-01 06:00:00\n",
              "29     15     2013-01-01 06:00:00\n",
              "30     15     2013-01-01 06:00:00\n",
              "⋮      ⋮      ⋮                  \n",
              "336747 39     2013-12-31 20:00:00\n",
              "336748 50     2013-12-31 21:00:00\n",
              "336749 55     2013-12-31 21:00:00\n",
              "336750 10     2013-12-31 21:00:00\n",
              "336751 59     2013-12-31 21:00:00\n",
              "336752 19     2013-12-31 22:00:00\n",
              "336753 45     2013-12-31 22:00:00\n",
              "336754 50     2013-12-31 22:00:00\n",
              "336755 55     2013-12-31 22:00:00\n",
              "336756 50     2013-12-31 22:00:00\n",
              "336757 30     2013-12-31 23:00:00\n",
              "336758 45     2013-12-31 22:00:00\n",
              "336759 59     2013-12-31 23:00:00\n",
              "336760 59     2013-12-31 23:00:00\n",
              "336761 20     2013-12-31 15:00:00\n",
              "336762 25     2013-12-31 20:00:00\n",
              "336763 32     2013-12-31 19:00:00\n",
              "336764  5     2013-12-31 15:00:00\n",
              "336765  0     2013-12-31 10:00:00\n",
              "336766 40     2013-12-31 08:00:00\n",
              "336767 54     2013-12-31 07:00:00\n",
              "336768  0     2013-12-31 20:00:00\n",
              "336769  0     2013-12-31 15:00:00\n",
              "336770 30     2013-12-31 14:00:00\n",
              "336771 55     2013-12-31 08:00:00\n",
              "336772  5     2013-12-31 07:00:00\n",
              "336773 25     2013-12-31 08:00:00\n",
              "336774 15     2013-12-31 16:00:00\n",
              "336775  0     2013-12-31 06:00:00\n",
              "336776 30     2013-12-31 08:00:00"
            ],
            "text/latex": "A tibble: 336776 × 19\n\\begin{tabular}{lllllllllllllllllll}\n year & month & day & dep\\_time & sched\\_dep\\_time & dep\\_delay & arr\\_time & sched\\_arr\\_time & arr\\_delay & carrier & flight & tailnum & origin & dest & air\\_time & distance & hour & minute & time\\_hour\\\\\n <int> & <int> & <int> & <int> & <int> & <dbl> & <int> & <int> & <dbl> & <chr> & <int> & <chr> & <chr> & <chr> & <dbl> & <dbl> & <dbl> & <dbl> & <dttm>\\\\\n\\hline\n\t 2013 & 1 & 1 & 517 & 515 &  2 &  830 &  819 &  11 & UA & 1545 & N14228 & EWR & IAH & 227 & 1400 & 5 & 15 & 2013-01-01 05:00:00\\\\\n\t 2013 & 1 & 1 & 533 & 529 &  4 &  850 &  830 &  20 & UA & 1714 & N24211 & LGA & IAH & 227 & 1416 & 5 & 29 & 2013-01-01 05:00:00\\\\\n\t 2013 & 1 & 1 & 542 & 540 &  2 &  923 &  850 &  33 & AA & 1141 & N619AA & JFK & MIA & 160 & 1089 & 5 & 40 & 2013-01-01 05:00:00\\\\\n\t 2013 & 1 & 1 & 544 & 545 & -1 & 1004 & 1022 & -18 & B6 &  725 & N804JB & JFK & BQN & 183 & 1576 & 5 & 45 & 2013-01-01 05:00:00\\\\\n\t 2013 & 1 & 1 & 554 & 600 & -6 &  812 &  837 & -25 & DL &  461 & N668DN & LGA & ATL & 116 &  762 & 6 &  0 & 2013-01-01 06:00:00\\\\\n\t 2013 & 1 & 1 & 554 & 558 & -4 &  740 &  728 &  12 & UA & 1696 & N39463 & EWR & ORD & 150 &  719 & 5 & 58 & 2013-01-01 05:00:00\\\\\n\t 2013 & 1 & 1 & 555 & 600 & -5 &  913 &  854 &  19 & B6 &  507 & N516JB & EWR & FLL & 158 & 1065 & 6 &  0 & 2013-01-01 06:00:00\\\\\n\t 2013 & 1 & 1 & 557 & 600 & -3 &  709 &  723 & -14 & EV & 5708 & N829AS & LGA & IAD &  53 &  229 & 6 &  0 & 2013-01-01 06:00:00\\\\\n\t 2013 & 1 & 1 & 557 & 600 & -3 &  838 &  846 &  -8 & B6 &   79 & N593JB & JFK & MCO & 140 &  944 & 6 &  0 & 2013-01-01 06:00:00\\\\\n\t 2013 & 1 & 1 & 558 & 600 & -2 &  753 &  745 &   8 & AA &  301 & N3ALAA & LGA & ORD & 138 &  733 & 6 &  0 & 2013-01-01 06:00:00\\\\\n\t 2013 & 1 & 1 & 558 & 600 & -2 &  849 &  851 &  -2 & B6 &   49 & N793JB & JFK & PBI & 149 & 1028 & 6 &  0 & 2013-01-01 06:00:00\\\\\n\t 2013 & 1 & 1 & 558 & 600 & -2 &  853 &  856 &  -3 & B6 &   71 & N657JB & JFK & TPA & 158 & 1005 & 6 &  0 & 2013-01-01 06:00:00\\\\\n\t 2013 & 1 & 1 & 558 & 600 & -2 &  924 &  917 &   7 & UA &  194 & N29129 & JFK & LAX & 345 & 2475 & 6 &  0 & 2013-01-01 06:00:00\\\\\n\t 2013 & 1 & 1 & 558 & 600 & -2 &  923 &  937 & -14 & UA & 1124 & N53441 & EWR & SFO & 361 & 2565 & 6 &  0 & 2013-01-01 06:00:00\\\\\n\t 2013 & 1 & 1 & 559 & 600 & -1 &  941 &  910 &  31 & AA &  707 & N3DUAA & LGA & DFW & 257 & 1389 & 6 &  0 & 2013-01-01 06:00:00\\\\\n\t 2013 & 1 & 1 & 559 & 559 &  0 &  702 &  706 &  -4 & B6 & 1806 & N708JB & JFK & BOS &  44 &  187 & 5 & 59 & 2013-01-01 05:00:00\\\\\n\t 2013 & 1 & 1 & 559 & 600 & -1 &  854 &  902 &  -8 & UA & 1187 & N76515 & EWR & LAS & 337 & 2227 & 6 &  0 & 2013-01-01 06:00:00\\\\\n\t 2013 & 1 & 1 & 600 & 600 &  0 &  851 &  858 &  -7 & B6 &  371 & N595JB & LGA & FLL & 152 & 1076 & 6 &  0 & 2013-01-01 06:00:00\\\\\n\t 2013 & 1 & 1 & 600 & 600 &  0 &  837 &  825 &  12 & MQ & 4650 & N542MQ & LGA & ATL & 134 &  762 & 6 &  0 & 2013-01-01 06:00:00\\\\\n\t 2013 & 1 & 1 & 601 & 600 &  1 &  844 &  850 &  -6 & B6 &  343 & N644JB & EWR & PBI & 147 & 1023 & 6 &  0 & 2013-01-01 06:00:00\\\\\n\t 2013 & 1 & 1 & 602 & 610 & -8 &  812 &  820 &  -8 & DL & 1919 & N971DL & LGA & MSP & 170 & 1020 & 6 & 10 & 2013-01-01 06:00:00\\\\\n\t 2013 & 1 & 1 & 602 & 605 & -3 &  821 &  805 &  16 & MQ & 4401 & N730MQ & LGA & DTW & 105 &  502 & 6 &  5 & 2013-01-01 06:00:00\\\\\n\t 2013 & 1 & 1 & 606 & 610 & -4 &  858 &  910 & -12 & AA & 1895 & N633AA & EWR & MIA & 152 & 1085 & 6 & 10 & 2013-01-01 06:00:00\\\\\n\t 2013 & 1 & 1 & 606 & 610 & -4 &  837 &  845 &  -8 & DL & 1743 & N3739P & JFK & ATL & 128 &  760 & 6 & 10 & 2013-01-01 06:00:00\\\\\n\t 2013 & 1 & 1 & 607 & 607 &  0 &  858 &  915 & -17 & UA & 1077 & N53442 & EWR & MIA & 157 & 1085 & 6 &  7 & 2013-01-01 06:00:00\\\\\n\t 2013 & 1 & 1 & 608 & 600 &  8 &  807 &  735 &  32 & MQ & 3768 & N9EAMQ & EWR & ORD & 139 &  719 & 6 &  0 & 2013-01-01 06:00:00\\\\\n\t 2013 & 1 & 1 & 611 & 600 & 11 &  945 &  931 &  14 & UA &  303 & N532UA & JFK & SFO & 366 & 2586 & 6 &  0 & 2013-01-01 06:00:00\\\\\n\t 2013 & 1 & 1 & 613 & 610 &  3 &  925 &  921 &   4 & B6 &  135 & N635JB & JFK & RSW & 175 & 1074 & 6 & 10 & 2013-01-01 06:00:00\\\\\n\t 2013 & 1 & 1 & 615 & 615 &  0 & 1039 & 1100 & -21 & B6 &  709 & N794JB & JFK & SJU & 182 & 1598 & 6 & 15 & 2013-01-01 06:00:00\\\\\n\t 2013 & 1 & 1 & 615 & 615 &  0 &  833 &  842 &  -9 & DL &  575 & N326NB & EWR & ATL & 120 &  746 & 6 & 15 & 2013-01-01 06:00:00\\\\\n\t ⋮ & ⋮ & ⋮ & ⋮ & ⋮ & ⋮ & ⋮ & ⋮ & ⋮ & ⋮ & ⋮ & ⋮ & ⋮ & ⋮ & ⋮ & ⋮ & ⋮ & ⋮ & ⋮\\\\\n\t 2013 & 12 & 31 & 2155 & 2039 &  76 &  253 & 2355 &  NA & B6 & 1205 & N627JB & JFK & PDX &  NA & 2454 & 20 & 39 & 2013-12-31 20:00:00\\\\\n\t 2013 & 12 & 31 & 2155 & 2150 &   5 &  110 &   51 &  19 & B6 & 1901 & N729JB & JFK & FLL & 164 & 1069 & 21 & 50 & 2013-12-31 21:00:00\\\\\n\t 2013 & 12 & 31 & 2159 & 2155 &   4 &   55 &   46 &   9 & B6 & 2053 & N593JB & JFK & PBI & 155 & 1028 & 21 & 55 & 2013-12-31 21:00:00\\\\\n\t 2013 & 12 & 31 & 2206 & 2110 &  56 &   44 & 2339 &  65 & B6 &  775 & N184JB & JFK & MSY & 195 & 1182 & 21 & 10 & 2013-12-31 21:00:00\\\\\n\t 2013 & 12 & 31 & 2211 & 2159 &  12 &  100 &   45 &  15 & B6 & 1183 & N715JB & JFK & MCO & 148 &  944 & 21 & 59 & 2013-12-31 21:00:00\\\\\n\t 2013 & 12 & 31 & 2218 & 2219 &  -1 &  315 &  304 &  11 & B6 & 1203 & N625JB & JFK & SJU & 202 & 1598 & 22 & 19 & 2013-12-31 22:00:00\\\\\n\t 2013 & 12 & 31 & 2235 & 2245 & -10 & 2351 & 2355 &  -4 & B6 &  234 & N355JB & JFK & BTV &  49 &  266 & 22 & 45 & 2013-12-31 22:00:00\\\\\n\t 2013 & 12 & 31 & 2245 & 2250 &  -5 & 2359 & 2356 &   3 & B6 & 1816 & N318JB & JFK & SYR &  51 &  209 & 22 & 50 & 2013-12-31 22:00:00\\\\\n\t 2013 & 12 & 31 & 2310 & 2255 &  15 &    7 & 2356 &  11 & B6 &  718 & N279JB & JFK & BOS &  40 &  187 & 22 & 55 & 2013-12-31 22:00:00\\\\\n\t 2013 & 12 & 31 & 2321 & 2250 &  31 &   46 &    8 &  38 & B6 & 2002 & N179JB & JFK & BUF &  66 &  301 & 22 & 50 & 2013-12-31 22:00:00\\\\\n\t 2013 & 12 & 31 & 2328 & 2330 &  -2 &  412 &  409 &   3 & B6 & 1389 & N651JB & EWR & SJU & 198 & 1608 & 23 & 30 & 2013-12-31 23:00:00\\\\\n\t 2013 & 12 & 31 & 2332 & 2245 &  47 &   58 &    3 &  55 & B6 &  486 & N334JB & JFK & ROC &  60 &  264 & 22 & 45 & 2013-12-31 22:00:00\\\\\n\t 2013 & 12 & 31 & 2355 & 2359 &  -4 &  430 &  440 & -10 & B6 & 1503 & N509JB & JFK & SJU & 195 & 1598 & 23 & 59 & 2013-12-31 23:00:00\\\\\n\t 2013 & 12 & 31 & 2356 & 2359 &  -3 &  436 &  445 &  -9 & B6 &  745 & N665JB & JFK & PSE & 200 & 1617 & 23 & 59 & 2013-12-31 23:00:00\\\\\n\t 2013 & 12 & 31 &   NA & 1520 &  NA &   NA & 1705 &  NA & AA &  341 & N568AA & LGA & ORD &  NA &  733 & 15 & 20 & 2013-12-31 15:00:00\\\\\n\t 2013 & 12 & 31 &   NA & 2025 &  NA &   NA & 2205 &  NA & AA &  371 & N482AA & LGA & ORD &  NA &  733 & 20 & 25 & 2013-12-31 20:00:00\\\\\n\t 2013 & 12 & 31 &   NA & 1932 &  NA &   NA & 2305 &  NA & B6 &  161 & N516JB & JFK & SMF &  NA & 2521 & 19 & 32 & 2013-12-31 19:00:00\\\\\n\t 2013 & 12 & 31 &   NA & 1505 &  NA &   NA & 1725 &  NA & EV & 4181 & N24103 & EWR & MCI &  NA & 1092 & 15 &  5 & 2013-12-31 15:00:00\\\\\n\t 2013 & 12 & 31 &   NA & 1000 &  NA &   NA & 1252 &  NA & UA & 1124 & NA     & EWR & EGE &  NA & 1725 & 10 &  0 & 2013-12-31 10:00:00\\\\\n\t 2013 & 12 & 31 &   NA &  840 &  NA &   NA & 1205 &  NA & UA & 1151 & NA     & EWR & SEA &  NA & 2402 &  8 & 40 & 2013-12-31 08:00:00\\\\\n\t 2013 & 12 & 31 &   NA &  754 &  NA &   NA & 1118 &  NA & UA & 1455 & NA     & EWR & LAX &  NA & 2454 &  7 & 54 & 2013-12-31 07:00:00\\\\\n\t 2013 & 12 & 31 &   NA & 2000 &  NA &   NA & 2146 &  NA & UA & 1482 & NA     & EWR & ORD &  NA &  719 & 20 &  0 & 2013-12-31 20:00:00\\\\\n\t 2013 & 12 & 31 &   NA & 1500 &  NA &   NA & 1817 &  NA & UA & 1483 & NA     & EWR & AUS &  NA & 1504 & 15 &  0 & 2013-12-31 15:00:00\\\\\n\t 2013 & 12 & 31 &   NA & 1430 &  NA &   NA & 1750 &  NA & UA & 1493 & NA     & EWR & LAX &  NA & 2454 & 14 & 30 & 2013-12-31 14:00:00\\\\\n\t 2013 & 12 & 31 &   NA &  855 &  NA &   NA & 1142 &  NA & UA & 1506 & NA     & EWR & JAC &  NA & 1874 &  8 & 55 & 2013-12-31 08:00:00\\\\\n\t 2013 & 12 & 31 &   NA &  705 &  NA &   NA &  931 &  NA & UA & 1729 & NA     & EWR & DEN &  NA & 1605 &  7 &  5 & 2013-12-31 07:00:00\\\\\n\t 2013 & 12 & 31 &   NA &  825 &  NA &   NA & 1029 &  NA & US & 1831 & NA     & JFK & CLT &  NA &  541 &  8 & 25 & 2013-12-31 08:00:00\\\\\n\t 2013 & 12 & 31 &   NA & 1615 &  NA &   NA & 1800 &  NA & MQ & 3301 & N844MQ & LGA & RDU &  NA &  431 & 16 & 15 & 2013-12-31 16:00:00\\\\\n\t 2013 & 12 & 31 &   NA &  600 &  NA &   NA &  735 &  NA & UA &  219 & NA     & EWR & ORD &  NA &  719 &  6 &  0 & 2013-12-31 06:00:00\\\\\n\t 2013 & 12 & 31 &   NA &  830 &  NA &   NA & 1154 &  NA & UA &  443 & NA     & JFK & LAX &  NA & 2475 &  8 & 30 & 2013-12-31 08:00:00\\\\\n\\end{tabular}\n",
            "text/markdown": "\nA tibble: 336776 × 19\n\n| year &lt;int&gt; | month &lt;int&gt; | day &lt;int&gt; | dep_time &lt;int&gt; | sched_dep_time &lt;int&gt; | dep_delay &lt;dbl&gt; | arr_time &lt;int&gt; | sched_arr_time &lt;int&gt; | arr_delay &lt;dbl&gt; | carrier &lt;chr&gt; | flight &lt;int&gt; | tailnum &lt;chr&gt; | origin &lt;chr&gt; | dest &lt;chr&gt; | air_time &lt;dbl&gt; | distance &lt;dbl&gt; | hour &lt;dbl&gt; | minute &lt;dbl&gt; | time_hour &lt;dttm&gt; |\n|---|---|---|---|---|---|---|---|---|---|---|---|---|---|---|---|---|---|---|\n| 2013 | 1 | 1 | 517 | 515 |  2 |  830 |  819 |  11 | UA | 1545 | N14228 | EWR | IAH | 227 | 1400 | 5 | 15 | 2013-01-01 05:00:00 |\n| 2013 | 1 | 1 | 533 | 529 |  4 |  850 |  830 |  20 | UA | 1714 | N24211 | LGA | IAH | 227 | 1416 | 5 | 29 | 2013-01-01 05:00:00 |\n| 2013 | 1 | 1 | 542 | 540 |  2 |  923 |  850 |  33 | AA | 1141 | N619AA | JFK | MIA | 160 | 1089 | 5 | 40 | 2013-01-01 05:00:00 |\n| 2013 | 1 | 1 | 544 | 545 | -1 | 1004 | 1022 | -18 | B6 |  725 | N804JB | JFK | BQN | 183 | 1576 | 5 | 45 | 2013-01-01 05:00:00 |\n| 2013 | 1 | 1 | 554 | 600 | -6 |  812 |  837 | -25 | DL |  461 | N668DN | LGA | ATL | 116 |  762 | 6 |  0 | 2013-01-01 06:00:00 |\n| 2013 | 1 | 1 | 554 | 558 | -4 |  740 |  728 |  12 | UA | 1696 | N39463 | EWR | ORD | 150 |  719 | 5 | 58 | 2013-01-01 05:00:00 |\n| 2013 | 1 | 1 | 555 | 600 | -5 |  913 |  854 |  19 | B6 |  507 | N516JB | EWR | FLL | 158 | 1065 | 6 |  0 | 2013-01-01 06:00:00 |\n| 2013 | 1 | 1 | 557 | 600 | -3 |  709 |  723 | -14 | EV | 5708 | N829AS | LGA | IAD |  53 |  229 | 6 |  0 | 2013-01-01 06:00:00 |\n| 2013 | 1 | 1 | 557 | 600 | -3 |  838 |  846 |  -8 | B6 |   79 | N593JB | JFK | MCO | 140 |  944 | 6 |  0 | 2013-01-01 06:00:00 |\n| 2013 | 1 | 1 | 558 | 600 | -2 |  753 |  745 |   8 | AA |  301 | N3ALAA | LGA | ORD | 138 |  733 | 6 |  0 | 2013-01-01 06:00:00 |\n| 2013 | 1 | 1 | 558 | 600 | -2 |  849 |  851 |  -2 | B6 |   49 | N793JB | JFK | PBI | 149 | 1028 | 6 |  0 | 2013-01-01 06:00:00 |\n| 2013 | 1 | 1 | 558 | 600 | -2 |  853 |  856 |  -3 | B6 |   71 | N657JB | JFK | TPA | 158 | 1005 | 6 |  0 | 2013-01-01 06:00:00 |\n| 2013 | 1 | 1 | 558 | 600 | -2 |  924 |  917 |   7 | UA |  194 | N29129 | JFK | LAX | 345 | 2475 | 6 |  0 | 2013-01-01 06:00:00 |\n| 2013 | 1 | 1 | 558 | 600 | -2 |  923 |  937 | -14 | UA | 1124 | N53441 | EWR | SFO | 361 | 2565 | 6 |  0 | 2013-01-01 06:00:00 |\n| 2013 | 1 | 1 | 559 | 600 | -1 |  941 |  910 |  31 | AA |  707 | N3DUAA | LGA | DFW | 257 | 1389 | 6 |  0 | 2013-01-01 06:00:00 |\n| 2013 | 1 | 1 | 559 | 559 |  0 |  702 |  706 |  -4 | B6 | 1806 | N708JB | JFK | BOS |  44 |  187 | 5 | 59 | 2013-01-01 05:00:00 |\n| 2013 | 1 | 1 | 559 | 600 | -1 |  854 |  902 |  -8 | UA | 1187 | N76515 | EWR | LAS | 337 | 2227 | 6 |  0 | 2013-01-01 06:00:00 |\n| 2013 | 1 | 1 | 600 | 600 |  0 |  851 |  858 |  -7 | B6 |  371 | N595JB | LGA | FLL | 152 | 1076 | 6 |  0 | 2013-01-01 06:00:00 |\n| 2013 | 1 | 1 | 600 | 600 |  0 |  837 |  825 |  12 | MQ | 4650 | N542MQ | LGA | ATL | 134 |  762 | 6 |  0 | 2013-01-01 06:00:00 |\n| 2013 | 1 | 1 | 601 | 600 |  1 |  844 |  850 |  -6 | B6 |  343 | N644JB | EWR | PBI | 147 | 1023 | 6 |  0 | 2013-01-01 06:00:00 |\n| 2013 | 1 | 1 | 602 | 610 | -8 |  812 |  820 |  -8 | DL | 1919 | N971DL | LGA | MSP | 170 | 1020 | 6 | 10 | 2013-01-01 06:00:00 |\n| 2013 | 1 | 1 | 602 | 605 | -3 |  821 |  805 |  16 | MQ | 4401 | N730MQ | LGA | DTW | 105 |  502 | 6 |  5 | 2013-01-01 06:00:00 |\n| 2013 | 1 | 1 | 606 | 610 | -4 |  858 |  910 | -12 | AA | 1895 | N633AA | EWR | MIA | 152 | 1085 | 6 | 10 | 2013-01-01 06:00:00 |\n| 2013 | 1 | 1 | 606 | 610 | -4 |  837 |  845 |  -8 | DL | 1743 | N3739P | JFK | ATL | 128 |  760 | 6 | 10 | 2013-01-01 06:00:00 |\n| 2013 | 1 | 1 | 607 | 607 |  0 |  858 |  915 | -17 | UA | 1077 | N53442 | EWR | MIA | 157 | 1085 | 6 |  7 | 2013-01-01 06:00:00 |\n| 2013 | 1 | 1 | 608 | 600 |  8 |  807 |  735 |  32 | MQ | 3768 | N9EAMQ | EWR | ORD | 139 |  719 | 6 |  0 | 2013-01-01 06:00:00 |\n| 2013 | 1 | 1 | 611 | 600 | 11 |  945 |  931 |  14 | UA |  303 | N532UA | JFK | SFO | 366 | 2586 | 6 |  0 | 2013-01-01 06:00:00 |\n| 2013 | 1 | 1 | 613 | 610 |  3 |  925 |  921 |   4 | B6 |  135 | N635JB | JFK | RSW | 175 | 1074 | 6 | 10 | 2013-01-01 06:00:00 |\n| 2013 | 1 | 1 | 615 | 615 |  0 | 1039 | 1100 | -21 | B6 |  709 | N794JB | JFK | SJU | 182 | 1598 | 6 | 15 | 2013-01-01 06:00:00 |\n| 2013 | 1 | 1 | 615 | 615 |  0 |  833 |  842 |  -9 | DL |  575 | N326NB | EWR | ATL | 120 |  746 | 6 | 15 | 2013-01-01 06:00:00 |\n| ⋮ | ⋮ | ⋮ | ⋮ | ⋮ | ⋮ | ⋮ | ⋮ | ⋮ | ⋮ | ⋮ | ⋮ | ⋮ | ⋮ | ⋮ | ⋮ | ⋮ | ⋮ | ⋮ |\n| 2013 | 12 | 31 | 2155 | 2039 |  76 |  253 | 2355 |  NA | B6 | 1205 | N627JB | JFK | PDX |  NA | 2454 | 20 | 39 | 2013-12-31 20:00:00 |\n| 2013 | 12 | 31 | 2155 | 2150 |   5 |  110 |   51 |  19 | B6 | 1901 | N729JB | JFK | FLL | 164 | 1069 | 21 | 50 | 2013-12-31 21:00:00 |\n| 2013 | 12 | 31 | 2159 | 2155 |   4 |   55 |   46 |   9 | B6 | 2053 | N593JB | JFK | PBI | 155 | 1028 | 21 | 55 | 2013-12-31 21:00:00 |\n| 2013 | 12 | 31 | 2206 | 2110 |  56 |   44 | 2339 |  65 | B6 |  775 | N184JB | JFK | MSY | 195 | 1182 | 21 | 10 | 2013-12-31 21:00:00 |\n| 2013 | 12 | 31 | 2211 | 2159 |  12 |  100 |   45 |  15 | B6 | 1183 | N715JB | JFK | MCO | 148 |  944 | 21 | 59 | 2013-12-31 21:00:00 |\n| 2013 | 12 | 31 | 2218 | 2219 |  -1 |  315 |  304 |  11 | B6 | 1203 | N625JB | JFK | SJU | 202 | 1598 | 22 | 19 | 2013-12-31 22:00:00 |\n| 2013 | 12 | 31 | 2235 | 2245 | -10 | 2351 | 2355 |  -4 | B6 |  234 | N355JB | JFK | BTV |  49 |  266 | 22 | 45 | 2013-12-31 22:00:00 |\n| 2013 | 12 | 31 | 2245 | 2250 |  -5 | 2359 | 2356 |   3 | B6 | 1816 | N318JB | JFK | SYR |  51 |  209 | 22 | 50 | 2013-12-31 22:00:00 |\n| 2013 | 12 | 31 | 2310 | 2255 |  15 |    7 | 2356 |  11 | B6 |  718 | N279JB | JFK | BOS |  40 |  187 | 22 | 55 | 2013-12-31 22:00:00 |\n| 2013 | 12 | 31 | 2321 | 2250 |  31 |   46 |    8 |  38 | B6 | 2002 | N179JB | JFK | BUF |  66 |  301 | 22 | 50 | 2013-12-31 22:00:00 |\n| 2013 | 12 | 31 | 2328 | 2330 |  -2 |  412 |  409 |   3 | B6 | 1389 | N651JB | EWR | SJU | 198 | 1608 | 23 | 30 | 2013-12-31 23:00:00 |\n| 2013 | 12 | 31 | 2332 | 2245 |  47 |   58 |    3 |  55 | B6 |  486 | N334JB | JFK | ROC |  60 |  264 | 22 | 45 | 2013-12-31 22:00:00 |\n| 2013 | 12 | 31 | 2355 | 2359 |  -4 |  430 |  440 | -10 | B6 | 1503 | N509JB | JFK | SJU | 195 | 1598 | 23 | 59 | 2013-12-31 23:00:00 |\n| 2013 | 12 | 31 | 2356 | 2359 |  -3 |  436 |  445 |  -9 | B6 |  745 | N665JB | JFK | PSE | 200 | 1617 | 23 | 59 | 2013-12-31 23:00:00 |\n| 2013 | 12 | 31 |   NA | 1520 |  NA |   NA | 1705 |  NA | AA |  341 | N568AA | LGA | ORD |  NA |  733 | 15 | 20 | 2013-12-31 15:00:00 |\n| 2013 | 12 | 31 |   NA | 2025 |  NA |   NA | 2205 |  NA | AA |  371 | N482AA | LGA | ORD |  NA |  733 | 20 | 25 | 2013-12-31 20:00:00 |\n| 2013 | 12 | 31 |   NA | 1932 |  NA |   NA | 2305 |  NA | B6 |  161 | N516JB | JFK | SMF |  NA | 2521 | 19 | 32 | 2013-12-31 19:00:00 |\n| 2013 | 12 | 31 |   NA | 1505 |  NA |   NA | 1725 |  NA | EV | 4181 | N24103 | EWR | MCI |  NA | 1092 | 15 |  5 | 2013-12-31 15:00:00 |\n| 2013 | 12 | 31 |   NA | 1000 |  NA |   NA | 1252 |  NA | UA | 1124 | NA     | EWR | EGE |  NA | 1725 | 10 |  0 | 2013-12-31 10:00:00 |\n| 2013 | 12 | 31 |   NA |  840 |  NA |   NA | 1205 |  NA | UA | 1151 | NA     | EWR | SEA |  NA | 2402 |  8 | 40 | 2013-12-31 08:00:00 |\n| 2013 | 12 | 31 |   NA |  754 |  NA |   NA | 1118 |  NA | UA | 1455 | NA     | EWR | LAX |  NA | 2454 |  7 | 54 | 2013-12-31 07:00:00 |\n| 2013 | 12 | 31 |   NA | 2000 |  NA |   NA | 2146 |  NA | UA | 1482 | NA     | EWR | ORD |  NA |  719 | 20 |  0 | 2013-12-31 20:00:00 |\n| 2013 | 12 | 31 |   NA | 1500 |  NA |   NA | 1817 |  NA | UA | 1483 | NA     | EWR | AUS |  NA | 1504 | 15 |  0 | 2013-12-31 15:00:00 |\n| 2013 | 12 | 31 |   NA | 1430 |  NA |   NA | 1750 |  NA | UA | 1493 | NA     | EWR | LAX |  NA | 2454 | 14 | 30 | 2013-12-31 14:00:00 |\n| 2013 | 12 | 31 |   NA |  855 |  NA |   NA | 1142 |  NA | UA | 1506 | NA     | EWR | JAC |  NA | 1874 |  8 | 55 | 2013-12-31 08:00:00 |\n| 2013 | 12 | 31 |   NA |  705 |  NA |   NA |  931 |  NA | UA | 1729 | NA     | EWR | DEN |  NA | 1605 |  7 |  5 | 2013-12-31 07:00:00 |\n| 2013 | 12 | 31 |   NA |  825 |  NA |   NA | 1029 |  NA | US | 1831 | NA     | JFK | CLT |  NA |  541 |  8 | 25 | 2013-12-31 08:00:00 |\n| 2013 | 12 | 31 |   NA | 1615 |  NA |   NA | 1800 |  NA | MQ | 3301 | N844MQ | LGA | RDU |  NA |  431 | 16 | 15 | 2013-12-31 16:00:00 |\n| 2013 | 12 | 31 |   NA |  600 |  NA |   NA |  735 |  NA | UA |  219 | NA     | EWR | ORD |  NA |  719 |  6 |  0 | 2013-12-31 06:00:00 |\n| 2013 | 12 | 31 |   NA |  830 |  NA |   NA | 1154 |  NA | UA |  443 | NA     | JFK | LAX |  NA | 2475 |  8 | 30 | 2013-12-31 08:00:00 |\n\n",
            "text/html": [
              "<table class=\"dataframe\">\n",
              "<caption>A tibble: 336776 × 19</caption>\n",
              "<thead>\n",
              "\t<tr><th scope=col>year</th><th scope=col>month</th><th scope=col>day</th><th scope=col>dep_time</th><th scope=col>sched_dep_time</th><th scope=col>dep_delay</th><th scope=col>arr_time</th><th scope=col>sched_arr_time</th><th scope=col>arr_delay</th><th scope=col>carrier</th><th scope=col>flight</th><th scope=col>tailnum</th><th scope=col>origin</th><th scope=col>dest</th><th scope=col>air_time</th><th scope=col>distance</th><th scope=col>hour</th><th scope=col>minute</th><th scope=col>time_hour</th></tr>\n",
              "\t<tr><th scope=col>&lt;int&gt;</th><th scope=col>&lt;int&gt;</th><th scope=col>&lt;int&gt;</th><th scope=col>&lt;int&gt;</th><th scope=col>&lt;int&gt;</th><th scope=col>&lt;dbl&gt;</th><th scope=col>&lt;int&gt;</th><th scope=col>&lt;int&gt;</th><th scope=col>&lt;dbl&gt;</th><th scope=col>&lt;chr&gt;</th><th scope=col>&lt;int&gt;</th><th scope=col>&lt;chr&gt;</th><th scope=col>&lt;chr&gt;</th><th scope=col>&lt;chr&gt;</th><th scope=col>&lt;dbl&gt;</th><th scope=col>&lt;dbl&gt;</th><th scope=col>&lt;dbl&gt;</th><th scope=col>&lt;dbl&gt;</th><th scope=col>&lt;dttm&gt;</th></tr>\n",
              "</thead>\n",
              "<tbody>\n",
              "\t<tr><td>2013</td><td>1</td><td>1</td><td>517</td><td>515</td><td> 2</td><td> 830</td><td> 819</td><td> 11</td><td>UA</td><td>1545</td><td>N14228</td><td>EWR</td><td>IAH</td><td>227</td><td>1400</td><td>5</td><td>15</td><td>2013-01-01 05:00:00</td></tr>\n",
              "\t<tr><td>2013</td><td>1</td><td>1</td><td>533</td><td>529</td><td> 4</td><td> 850</td><td> 830</td><td> 20</td><td>UA</td><td>1714</td><td>N24211</td><td>LGA</td><td>IAH</td><td>227</td><td>1416</td><td>5</td><td>29</td><td>2013-01-01 05:00:00</td></tr>\n",
              "\t<tr><td>2013</td><td>1</td><td>1</td><td>542</td><td>540</td><td> 2</td><td> 923</td><td> 850</td><td> 33</td><td>AA</td><td>1141</td><td>N619AA</td><td>JFK</td><td>MIA</td><td>160</td><td>1089</td><td>5</td><td>40</td><td>2013-01-01 05:00:00</td></tr>\n",
              "\t<tr><td>2013</td><td>1</td><td>1</td><td>544</td><td>545</td><td>-1</td><td>1004</td><td>1022</td><td>-18</td><td>B6</td><td> 725</td><td>N804JB</td><td>JFK</td><td>BQN</td><td>183</td><td>1576</td><td>5</td><td>45</td><td>2013-01-01 05:00:00</td></tr>\n",
              "\t<tr><td>2013</td><td>1</td><td>1</td><td>554</td><td>600</td><td>-6</td><td> 812</td><td> 837</td><td>-25</td><td>DL</td><td> 461</td><td>N668DN</td><td>LGA</td><td>ATL</td><td>116</td><td> 762</td><td>6</td><td> 0</td><td>2013-01-01 06:00:00</td></tr>\n",
              "\t<tr><td>2013</td><td>1</td><td>1</td><td>554</td><td>558</td><td>-4</td><td> 740</td><td> 728</td><td> 12</td><td>UA</td><td>1696</td><td>N39463</td><td>EWR</td><td>ORD</td><td>150</td><td> 719</td><td>5</td><td>58</td><td>2013-01-01 05:00:00</td></tr>\n",
              "\t<tr><td>2013</td><td>1</td><td>1</td><td>555</td><td>600</td><td>-5</td><td> 913</td><td> 854</td><td> 19</td><td>B6</td><td> 507</td><td>N516JB</td><td>EWR</td><td>FLL</td><td>158</td><td>1065</td><td>6</td><td> 0</td><td>2013-01-01 06:00:00</td></tr>\n",
              "\t<tr><td>2013</td><td>1</td><td>1</td><td>557</td><td>600</td><td>-3</td><td> 709</td><td> 723</td><td>-14</td><td>EV</td><td>5708</td><td>N829AS</td><td>LGA</td><td>IAD</td><td> 53</td><td> 229</td><td>6</td><td> 0</td><td>2013-01-01 06:00:00</td></tr>\n",
              "\t<tr><td>2013</td><td>1</td><td>1</td><td>557</td><td>600</td><td>-3</td><td> 838</td><td> 846</td><td> -8</td><td>B6</td><td>  79</td><td>N593JB</td><td>JFK</td><td>MCO</td><td>140</td><td> 944</td><td>6</td><td> 0</td><td>2013-01-01 06:00:00</td></tr>\n",
              "\t<tr><td>2013</td><td>1</td><td>1</td><td>558</td><td>600</td><td>-2</td><td> 753</td><td> 745</td><td>  8</td><td>AA</td><td> 301</td><td>N3ALAA</td><td>LGA</td><td>ORD</td><td>138</td><td> 733</td><td>6</td><td> 0</td><td>2013-01-01 06:00:00</td></tr>\n",
              "\t<tr><td>2013</td><td>1</td><td>1</td><td>558</td><td>600</td><td>-2</td><td> 849</td><td> 851</td><td> -2</td><td>B6</td><td>  49</td><td>N793JB</td><td>JFK</td><td>PBI</td><td>149</td><td>1028</td><td>6</td><td> 0</td><td>2013-01-01 06:00:00</td></tr>\n",
              "\t<tr><td>2013</td><td>1</td><td>1</td><td>558</td><td>600</td><td>-2</td><td> 853</td><td> 856</td><td> -3</td><td>B6</td><td>  71</td><td>N657JB</td><td>JFK</td><td>TPA</td><td>158</td><td>1005</td><td>6</td><td> 0</td><td>2013-01-01 06:00:00</td></tr>\n",
              "\t<tr><td>2013</td><td>1</td><td>1</td><td>558</td><td>600</td><td>-2</td><td> 924</td><td> 917</td><td>  7</td><td>UA</td><td> 194</td><td>N29129</td><td>JFK</td><td>LAX</td><td>345</td><td>2475</td><td>6</td><td> 0</td><td>2013-01-01 06:00:00</td></tr>\n",
              "\t<tr><td>2013</td><td>1</td><td>1</td><td>558</td><td>600</td><td>-2</td><td> 923</td><td> 937</td><td>-14</td><td>UA</td><td>1124</td><td>N53441</td><td>EWR</td><td>SFO</td><td>361</td><td>2565</td><td>6</td><td> 0</td><td>2013-01-01 06:00:00</td></tr>\n",
              "\t<tr><td>2013</td><td>1</td><td>1</td><td>559</td><td>600</td><td>-1</td><td> 941</td><td> 910</td><td> 31</td><td>AA</td><td> 707</td><td>N3DUAA</td><td>LGA</td><td>DFW</td><td>257</td><td>1389</td><td>6</td><td> 0</td><td>2013-01-01 06:00:00</td></tr>\n",
              "\t<tr><td>2013</td><td>1</td><td>1</td><td>559</td><td>559</td><td> 0</td><td> 702</td><td> 706</td><td> -4</td><td>B6</td><td>1806</td><td>N708JB</td><td>JFK</td><td>BOS</td><td> 44</td><td> 187</td><td>5</td><td>59</td><td>2013-01-01 05:00:00</td></tr>\n",
              "\t<tr><td>2013</td><td>1</td><td>1</td><td>559</td><td>600</td><td>-1</td><td> 854</td><td> 902</td><td> -8</td><td>UA</td><td>1187</td><td>N76515</td><td>EWR</td><td>LAS</td><td>337</td><td>2227</td><td>6</td><td> 0</td><td>2013-01-01 06:00:00</td></tr>\n",
              "\t<tr><td>2013</td><td>1</td><td>1</td><td>600</td><td>600</td><td> 0</td><td> 851</td><td> 858</td><td> -7</td><td>B6</td><td> 371</td><td>N595JB</td><td>LGA</td><td>FLL</td><td>152</td><td>1076</td><td>6</td><td> 0</td><td>2013-01-01 06:00:00</td></tr>\n",
              "\t<tr><td>2013</td><td>1</td><td>1</td><td>600</td><td>600</td><td> 0</td><td> 837</td><td> 825</td><td> 12</td><td>MQ</td><td>4650</td><td>N542MQ</td><td>LGA</td><td>ATL</td><td>134</td><td> 762</td><td>6</td><td> 0</td><td>2013-01-01 06:00:00</td></tr>\n",
              "\t<tr><td>2013</td><td>1</td><td>1</td><td>601</td><td>600</td><td> 1</td><td> 844</td><td> 850</td><td> -6</td><td>B6</td><td> 343</td><td>N644JB</td><td>EWR</td><td>PBI</td><td>147</td><td>1023</td><td>6</td><td> 0</td><td>2013-01-01 06:00:00</td></tr>\n",
              "\t<tr><td>2013</td><td>1</td><td>1</td><td>602</td><td>610</td><td>-8</td><td> 812</td><td> 820</td><td> -8</td><td>DL</td><td>1919</td><td>N971DL</td><td>LGA</td><td>MSP</td><td>170</td><td>1020</td><td>6</td><td>10</td><td>2013-01-01 06:00:00</td></tr>\n",
              "\t<tr><td>2013</td><td>1</td><td>1</td><td>602</td><td>605</td><td>-3</td><td> 821</td><td> 805</td><td> 16</td><td>MQ</td><td>4401</td><td>N730MQ</td><td>LGA</td><td>DTW</td><td>105</td><td> 502</td><td>6</td><td> 5</td><td>2013-01-01 06:00:00</td></tr>\n",
              "\t<tr><td>2013</td><td>1</td><td>1</td><td>606</td><td>610</td><td>-4</td><td> 858</td><td> 910</td><td>-12</td><td>AA</td><td>1895</td><td>N633AA</td><td>EWR</td><td>MIA</td><td>152</td><td>1085</td><td>6</td><td>10</td><td>2013-01-01 06:00:00</td></tr>\n",
              "\t<tr><td>2013</td><td>1</td><td>1</td><td>606</td><td>610</td><td>-4</td><td> 837</td><td> 845</td><td> -8</td><td>DL</td><td>1743</td><td>N3739P</td><td>JFK</td><td>ATL</td><td>128</td><td> 760</td><td>6</td><td>10</td><td>2013-01-01 06:00:00</td></tr>\n",
              "\t<tr><td>2013</td><td>1</td><td>1</td><td>607</td><td>607</td><td> 0</td><td> 858</td><td> 915</td><td>-17</td><td>UA</td><td>1077</td><td>N53442</td><td>EWR</td><td>MIA</td><td>157</td><td>1085</td><td>6</td><td> 7</td><td>2013-01-01 06:00:00</td></tr>\n",
              "\t<tr><td>2013</td><td>1</td><td>1</td><td>608</td><td>600</td><td> 8</td><td> 807</td><td> 735</td><td> 32</td><td>MQ</td><td>3768</td><td>N9EAMQ</td><td>EWR</td><td>ORD</td><td>139</td><td> 719</td><td>6</td><td> 0</td><td>2013-01-01 06:00:00</td></tr>\n",
              "\t<tr><td>2013</td><td>1</td><td>1</td><td>611</td><td>600</td><td>11</td><td> 945</td><td> 931</td><td> 14</td><td>UA</td><td> 303</td><td>N532UA</td><td>JFK</td><td>SFO</td><td>366</td><td>2586</td><td>6</td><td> 0</td><td>2013-01-01 06:00:00</td></tr>\n",
              "\t<tr><td>2013</td><td>1</td><td>1</td><td>613</td><td>610</td><td> 3</td><td> 925</td><td> 921</td><td>  4</td><td>B6</td><td> 135</td><td>N635JB</td><td>JFK</td><td>RSW</td><td>175</td><td>1074</td><td>6</td><td>10</td><td>2013-01-01 06:00:00</td></tr>\n",
              "\t<tr><td>2013</td><td>1</td><td>1</td><td>615</td><td>615</td><td> 0</td><td>1039</td><td>1100</td><td>-21</td><td>B6</td><td> 709</td><td>N794JB</td><td>JFK</td><td>SJU</td><td>182</td><td>1598</td><td>6</td><td>15</td><td>2013-01-01 06:00:00</td></tr>\n",
              "\t<tr><td>2013</td><td>1</td><td>1</td><td>615</td><td>615</td><td> 0</td><td> 833</td><td> 842</td><td> -9</td><td>DL</td><td> 575</td><td>N326NB</td><td>EWR</td><td>ATL</td><td>120</td><td> 746</td><td>6</td><td>15</td><td>2013-01-01 06:00:00</td></tr>\n",
              "\t<tr><td>⋮</td><td>⋮</td><td>⋮</td><td>⋮</td><td>⋮</td><td>⋮</td><td>⋮</td><td>⋮</td><td>⋮</td><td>⋮</td><td>⋮</td><td>⋮</td><td>⋮</td><td>⋮</td><td>⋮</td><td>⋮</td><td>⋮</td><td>⋮</td><td>⋮</td></tr>\n",
              "\t<tr><td>2013</td><td>12</td><td>31</td><td>2155</td><td>2039</td><td> 76</td><td> 253</td><td>2355</td><td> NA</td><td>B6</td><td>1205</td><td>N627JB</td><td>JFK</td><td>PDX</td><td> NA</td><td>2454</td><td>20</td><td>39</td><td>2013-12-31 20:00:00</td></tr>\n",
              "\t<tr><td>2013</td><td>12</td><td>31</td><td>2155</td><td>2150</td><td>  5</td><td> 110</td><td>  51</td><td> 19</td><td>B6</td><td>1901</td><td>N729JB</td><td>JFK</td><td>FLL</td><td>164</td><td>1069</td><td>21</td><td>50</td><td>2013-12-31 21:00:00</td></tr>\n",
              "\t<tr><td>2013</td><td>12</td><td>31</td><td>2159</td><td>2155</td><td>  4</td><td>  55</td><td>  46</td><td>  9</td><td>B6</td><td>2053</td><td>N593JB</td><td>JFK</td><td>PBI</td><td>155</td><td>1028</td><td>21</td><td>55</td><td>2013-12-31 21:00:00</td></tr>\n",
              "\t<tr><td>2013</td><td>12</td><td>31</td><td>2206</td><td>2110</td><td> 56</td><td>  44</td><td>2339</td><td> 65</td><td>B6</td><td> 775</td><td>N184JB</td><td>JFK</td><td>MSY</td><td>195</td><td>1182</td><td>21</td><td>10</td><td>2013-12-31 21:00:00</td></tr>\n",
              "\t<tr><td>2013</td><td>12</td><td>31</td><td>2211</td><td>2159</td><td> 12</td><td> 100</td><td>  45</td><td> 15</td><td>B6</td><td>1183</td><td>N715JB</td><td>JFK</td><td>MCO</td><td>148</td><td> 944</td><td>21</td><td>59</td><td>2013-12-31 21:00:00</td></tr>\n",
              "\t<tr><td>2013</td><td>12</td><td>31</td><td>2218</td><td>2219</td><td> -1</td><td> 315</td><td> 304</td><td> 11</td><td>B6</td><td>1203</td><td>N625JB</td><td>JFK</td><td>SJU</td><td>202</td><td>1598</td><td>22</td><td>19</td><td>2013-12-31 22:00:00</td></tr>\n",
              "\t<tr><td>2013</td><td>12</td><td>31</td><td>2235</td><td>2245</td><td>-10</td><td>2351</td><td>2355</td><td> -4</td><td>B6</td><td> 234</td><td>N355JB</td><td>JFK</td><td>BTV</td><td> 49</td><td> 266</td><td>22</td><td>45</td><td>2013-12-31 22:00:00</td></tr>\n",
              "\t<tr><td>2013</td><td>12</td><td>31</td><td>2245</td><td>2250</td><td> -5</td><td>2359</td><td>2356</td><td>  3</td><td>B6</td><td>1816</td><td>N318JB</td><td>JFK</td><td>SYR</td><td> 51</td><td> 209</td><td>22</td><td>50</td><td>2013-12-31 22:00:00</td></tr>\n",
              "\t<tr><td>2013</td><td>12</td><td>31</td><td>2310</td><td>2255</td><td> 15</td><td>   7</td><td>2356</td><td> 11</td><td>B6</td><td> 718</td><td>N279JB</td><td>JFK</td><td>BOS</td><td> 40</td><td> 187</td><td>22</td><td>55</td><td>2013-12-31 22:00:00</td></tr>\n",
              "\t<tr><td>2013</td><td>12</td><td>31</td><td>2321</td><td>2250</td><td> 31</td><td>  46</td><td>   8</td><td> 38</td><td>B6</td><td>2002</td><td>N179JB</td><td>JFK</td><td>BUF</td><td> 66</td><td> 301</td><td>22</td><td>50</td><td>2013-12-31 22:00:00</td></tr>\n",
              "\t<tr><td>2013</td><td>12</td><td>31</td><td>2328</td><td>2330</td><td> -2</td><td> 412</td><td> 409</td><td>  3</td><td>B6</td><td>1389</td><td>N651JB</td><td>EWR</td><td>SJU</td><td>198</td><td>1608</td><td>23</td><td>30</td><td>2013-12-31 23:00:00</td></tr>\n",
              "\t<tr><td>2013</td><td>12</td><td>31</td><td>2332</td><td>2245</td><td> 47</td><td>  58</td><td>   3</td><td> 55</td><td>B6</td><td> 486</td><td>N334JB</td><td>JFK</td><td>ROC</td><td> 60</td><td> 264</td><td>22</td><td>45</td><td>2013-12-31 22:00:00</td></tr>\n",
              "\t<tr><td>2013</td><td>12</td><td>31</td><td>2355</td><td>2359</td><td> -4</td><td> 430</td><td> 440</td><td>-10</td><td>B6</td><td>1503</td><td>N509JB</td><td>JFK</td><td>SJU</td><td>195</td><td>1598</td><td>23</td><td>59</td><td>2013-12-31 23:00:00</td></tr>\n",
              "\t<tr><td>2013</td><td>12</td><td>31</td><td>2356</td><td>2359</td><td> -3</td><td> 436</td><td> 445</td><td> -9</td><td>B6</td><td> 745</td><td>N665JB</td><td>JFK</td><td>PSE</td><td>200</td><td>1617</td><td>23</td><td>59</td><td>2013-12-31 23:00:00</td></tr>\n",
              "\t<tr><td>2013</td><td>12</td><td>31</td><td>  NA</td><td>1520</td><td> NA</td><td>  NA</td><td>1705</td><td> NA</td><td>AA</td><td> 341</td><td>N568AA</td><td>LGA</td><td>ORD</td><td> NA</td><td> 733</td><td>15</td><td>20</td><td>2013-12-31 15:00:00</td></tr>\n",
              "\t<tr><td>2013</td><td>12</td><td>31</td><td>  NA</td><td>2025</td><td> NA</td><td>  NA</td><td>2205</td><td> NA</td><td>AA</td><td> 371</td><td>N482AA</td><td>LGA</td><td>ORD</td><td> NA</td><td> 733</td><td>20</td><td>25</td><td>2013-12-31 20:00:00</td></tr>\n",
              "\t<tr><td>2013</td><td>12</td><td>31</td><td>  NA</td><td>1932</td><td> NA</td><td>  NA</td><td>2305</td><td> NA</td><td>B6</td><td> 161</td><td>N516JB</td><td>JFK</td><td>SMF</td><td> NA</td><td>2521</td><td>19</td><td>32</td><td>2013-12-31 19:00:00</td></tr>\n",
              "\t<tr><td>2013</td><td>12</td><td>31</td><td>  NA</td><td>1505</td><td> NA</td><td>  NA</td><td>1725</td><td> NA</td><td>EV</td><td>4181</td><td>N24103</td><td>EWR</td><td>MCI</td><td> NA</td><td>1092</td><td>15</td><td> 5</td><td>2013-12-31 15:00:00</td></tr>\n",
              "\t<tr><td>2013</td><td>12</td><td>31</td><td>  NA</td><td>1000</td><td> NA</td><td>  NA</td><td>1252</td><td> NA</td><td>UA</td><td>1124</td><td>NA    </td><td>EWR</td><td>EGE</td><td> NA</td><td>1725</td><td>10</td><td> 0</td><td>2013-12-31 10:00:00</td></tr>\n",
              "\t<tr><td>2013</td><td>12</td><td>31</td><td>  NA</td><td> 840</td><td> NA</td><td>  NA</td><td>1205</td><td> NA</td><td>UA</td><td>1151</td><td>NA    </td><td>EWR</td><td>SEA</td><td> NA</td><td>2402</td><td> 8</td><td>40</td><td>2013-12-31 08:00:00</td></tr>\n",
              "\t<tr><td>2013</td><td>12</td><td>31</td><td>  NA</td><td> 754</td><td> NA</td><td>  NA</td><td>1118</td><td> NA</td><td>UA</td><td>1455</td><td>NA    </td><td>EWR</td><td>LAX</td><td> NA</td><td>2454</td><td> 7</td><td>54</td><td>2013-12-31 07:00:00</td></tr>\n",
              "\t<tr><td>2013</td><td>12</td><td>31</td><td>  NA</td><td>2000</td><td> NA</td><td>  NA</td><td>2146</td><td> NA</td><td>UA</td><td>1482</td><td>NA    </td><td>EWR</td><td>ORD</td><td> NA</td><td> 719</td><td>20</td><td> 0</td><td>2013-12-31 20:00:00</td></tr>\n",
              "\t<tr><td>2013</td><td>12</td><td>31</td><td>  NA</td><td>1500</td><td> NA</td><td>  NA</td><td>1817</td><td> NA</td><td>UA</td><td>1483</td><td>NA    </td><td>EWR</td><td>AUS</td><td> NA</td><td>1504</td><td>15</td><td> 0</td><td>2013-12-31 15:00:00</td></tr>\n",
              "\t<tr><td>2013</td><td>12</td><td>31</td><td>  NA</td><td>1430</td><td> NA</td><td>  NA</td><td>1750</td><td> NA</td><td>UA</td><td>1493</td><td>NA    </td><td>EWR</td><td>LAX</td><td> NA</td><td>2454</td><td>14</td><td>30</td><td>2013-12-31 14:00:00</td></tr>\n",
              "\t<tr><td>2013</td><td>12</td><td>31</td><td>  NA</td><td> 855</td><td> NA</td><td>  NA</td><td>1142</td><td> NA</td><td>UA</td><td>1506</td><td>NA    </td><td>EWR</td><td>JAC</td><td> NA</td><td>1874</td><td> 8</td><td>55</td><td>2013-12-31 08:00:00</td></tr>\n",
              "\t<tr><td>2013</td><td>12</td><td>31</td><td>  NA</td><td> 705</td><td> NA</td><td>  NA</td><td> 931</td><td> NA</td><td>UA</td><td>1729</td><td>NA    </td><td>EWR</td><td>DEN</td><td> NA</td><td>1605</td><td> 7</td><td> 5</td><td>2013-12-31 07:00:00</td></tr>\n",
              "\t<tr><td>2013</td><td>12</td><td>31</td><td>  NA</td><td> 825</td><td> NA</td><td>  NA</td><td>1029</td><td> NA</td><td>US</td><td>1831</td><td>NA    </td><td>JFK</td><td>CLT</td><td> NA</td><td> 541</td><td> 8</td><td>25</td><td>2013-12-31 08:00:00</td></tr>\n",
              "\t<tr><td>2013</td><td>12</td><td>31</td><td>  NA</td><td>1615</td><td> NA</td><td>  NA</td><td>1800</td><td> NA</td><td>MQ</td><td>3301</td><td>N844MQ</td><td>LGA</td><td>RDU</td><td> NA</td><td> 431</td><td>16</td><td>15</td><td>2013-12-31 16:00:00</td></tr>\n",
              "\t<tr><td>2013</td><td>12</td><td>31</td><td>  NA</td><td> 600</td><td> NA</td><td>  NA</td><td> 735</td><td> NA</td><td>UA</td><td> 219</td><td>NA    </td><td>EWR</td><td>ORD</td><td> NA</td><td> 719</td><td> 6</td><td> 0</td><td>2013-12-31 06:00:00</td></tr>\n",
              "\t<tr><td>2013</td><td>12</td><td>31</td><td>  NA</td><td> 830</td><td> NA</td><td>  NA</td><td>1154</td><td> NA</td><td>UA</td><td> 443</td><td>NA    </td><td>JFK</td><td>LAX</td><td> NA</td><td>2475</td><td> 8</td><td>30</td><td>2013-12-31 08:00:00</td></tr>\n",
              "</tbody>\n",
              "</table>\n"
            ]
          },
          "metadata": {}
        }
      ]
    },
    {
      "cell_type": "code",
      "metadata": {
        "colab": {
          "base_uri": "https://localhost:8080/"
        },
        "id": "4wXZh8uHkLRS",
        "outputId": "1b098bcf-eca9-4a70-8cf8-f6c2681df180"
      },
      "source": [
        "arrange(flights, desc(arr_delay))"
      ],
      "execution_count": null,
      "outputs": [
        {
          "output_type": "display_data",
          "data": {
            "text/plain": [
              "       year month day dep_time sched_dep_time dep_delay arr_time sched_arr_time\n",
              "1      2013  1     9   641      900           1301      1242     1530          \n",
              "2      2013  6    15  1432     1935           1137      1607     2120          \n",
              "3      2013  1    10  1121     1635           1126      1239     1810          \n",
              "4      2013  9    20  1139     1845           1014      1457     2210          \n",
              "5      2013  7    22   845     1600           1005      1044     1815          \n",
              "6      2013  4    10  1100     1900            960      1342     2211          \n",
              "7      2013  3    17  2321      810            911       135     1020          \n",
              "8      2013  7    22  2257      759            898       121     1026          \n",
              "9      2013 12     5   756     1700            896      1058     2020          \n",
              "10     2013  5     3  1133     2055            878      1250     2215          \n",
              "11     2013 12    14   830     1845            825      1210     2154          \n",
              "12     2013  5    19   713     1700            853      1007     1955          \n",
              "13     2013  1     1   848     1835            853      1001     1950          \n",
              "14     2013  6    27   959     1900            899      1236     2226          \n",
              "15     2013 12    19   734     1725            849      1046     2039          \n",
              "16     2013 12    17   705     1700            845      1026     2020          \n",
              "17     2013  2    10  2243      830            853       100     1106          \n",
              "18     2013  4    19   912     1940            812      1228     2247          \n",
              "19     2013  6    27   753     1830            803       937     2015          \n",
              "20     2013 11     3   603     1645            798       829     1913          \n",
              "21     2013  3    18  1020     2100            800      1336       32          \n",
              "22     2013  4    19   606     1725            761       923     2020          \n",
              "23     2013  4    19   617     1700            797       858     1955          \n",
              "24     2013  6    27   732     1825            787       932     2032          \n",
              "25     2013  2    24  1921      615            786      2135      842          \n",
              "26     2013  6    27   615     1705            790       853     2004          \n",
              "27     2013  2    19  2324     1016            788       114     1227          \n",
              "28     2013  2    16   757     1930            747      1013     2149          \n",
              "29     2013  4    19   758     1925            753      1049     2225          \n",
              "30     2013 10    14  2042      900            702      2255     1127          \n",
              "⋮      ⋮    ⋮     ⋮   ⋮        ⋮              ⋮         ⋮        ⋮             \n",
              "336747 2013 9     25    NA     1655            NA         NA     1840          \n",
              "336748 2013 9     25    NA     1559            NA         NA     1719          \n",
              "336749 2013 9     26  1331     1329             2       1923     1813          \n",
              "336750 2013 9     26    NA      915            NA         NA     1141          \n",
              "336751 2013 9     26    NA     1400            NA         NA     1512          \n",
              "336752 2013 9     26    NA     1240            NA         NA     1525          \n",
              "336753 2013 9     27  1332     1329             3       1629     1509          \n",
              "336754 2013 9     27  2253     1945           188         NA     2146          \n",
              "336755 2013 9     27    NA      600            NA         NA      730          \n",
              "336756 2013 9     27    NA     2100            NA         NA     2211          \n",
              "336757 2013 9     27    NA     1329            NA         NA     1444          \n",
              "336758 2013 9     27    NA     1600            NA         NA     1739          \n",
              "336759 2013 9     28   555      600            -5        953      753          \n",
              "336760 2013 9     28   847      839             8       1130      959          \n",
              "336761 2013 9     28  1010     1020           -10       1344     1222          \n",
              "336762 2013 9     28  1214     1225           -11       1801     1510          \n",
              "336763 2013 9     28    NA     1803            NA         NA     1927          \n",
              "336764 2013 9     28    NA      910            NA         NA     1220          \n",
              "336765 2013 9     28    NA     1635            NA         NA     1827          \n",
              "336766 2013 9     29  1734     1711            23       2159     2020          \n",
              "336767 2013 9     29    NA     2054            NA         NA     2302          \n",
              "336768 2013 9     29    NA     1830            NA         NA     2010          \n",
              "336769 2013 9     29    NA      700            NA         NA      833          \n",
              "336770 2013 9     30   559      600            -1         NA      715          \n",
              "336771 2013 9     30    NA     1842            NA         NA     2019          \n",
              "336772 2013 9     30    NA     1455            NA         NA     1634          \n",
              "336773 2013 9     30    NA     2200            NA         NA     2312          \n",
              "336774 2013 9     30    NA     1210            NA         NA     1330          \n",
              "336775 2013 9     30    NA     1159            NA         NA     1344          \n",
              "336776 2013 9     30    NA      840            NA         NA     1020          \n",
              "       arr_delay carrier flight tailnum origin dest air_time distance hour\n",
              "1      1272      HA        51   N384HA  JFK    HNL  640      4983      9  \n",
              "2      1127      MQ      3535   N504MQ  JFK    CMH   74       483     19  \n",
              "3      1109      MQ      3695   N517MQ  EWR    ORD  111       719     16  \n",
              "4      1007      AA       177   N338AA  JFK    SFO  354      2586     18  \n",
              "5       989      MQ      3075   N665MQ  JFK    CVG   96       589     16  \n",
              "6       931      DL      2391   N959DL  JFK    TPA  139      1005     19  \n",
              "7       915      DL      2119   N927DA  LGA    MSP  167      1020      8  \n",
              "8       895      DL      2047   N6716C  LGA    ATL  109       762      7  \n",
              "9       878      AA       172   N5DMAA  EWR    MIA  149      1085     17  \n",
              "10      875      MQ      3744   N523MQ  EWR    ORD  112       719     20  \n",
              "11      856      DL      2391   N939DL  JFK    TPA  173      1005     18  \n",
              "12      852      AA       257   N3HEAA  JFK    LAS  323      2248     17  \n",
              "13      851      MQ      3944   N942MQ  JFK    BWI   41       184     18  \n",
              "14      850      DL      2007   N3762Y  JFK    PDX  313      2454     19  \n",
              "15      847      DL      1223   N375NC  EWR    SLC  290      1969     17  \n",
              "16      846      AA       172   N5EMAA  EWR    MIA  145      1085     17  \n",
              "17      834      F9       835   N203FR  LGA    DEN  233      1620      8  \n",
              "18      821      DL      1435   N900DE  LGA    TPA  174      1010     19  \n",
              "19      802      AA      2019   N571AA  LGA    STL  134       888     18  \n",
              "20      796      DL      2042   N990AT  EWR    ATL  109       746     16  \n",
              "21      784      DL      2363   N624AG  JFK    LAX  335      2475     21  \n",
              "22      783      AA      1901   N3DGAA  JFK    IAH  222      1417     17  \n",
              "23      783      AA       257   N3GJAA  JFK    LAS  313      2248     17  \n",
              "24      780      DL      1715   N335NB  LGA    MSY  160      1183     18  \n",
              "25      773      DL       575   N348NW  EWR    ATL  111       746      6  \n",
              "26      769      DL       503   N372DA  JFK    SAN  312      2446     17  \n",
              "27      767      DL      2319   N324US  LGA    MSP  136      1020     10  \n",
              "28      744      9E      3798   N8940E  JFK    CLT   85       541     19  \n",
              "29      744      DL      1485   N927DA  LGA    MCO  149       950     19  \n",
              "30      688      DL       502   N943DL  EWR    ATL   98       746      9  \n",
              "⋮      ⋮         ⋮       ⋮      ⋮       ⋮      ⋮    ⋮        ⋮        ⋮   \n",
              "336747 NA        MQ      3411   N735MQ  LGA    RDU  NA        431     16  \n",
              "336748 NA        MQ      3748   N530MQ  EWR    ORD  NA        719     15  \n",
              "336749 NA        UA        15   N67052  EWR    HNL  NA       4963     13  \n",
              "336750 NA        EV      5109   N748EV  LGA    CHS  NA        641      9  \n",
              "336751 NA        US      2183   NA      LGA    DCA  NA        214     14  \n",
              "336752 NA        WN      4720   N691WN  EWR    HOU  NA       1411     12  \n",
              "336753 NA        AA       331   N565AA  LGA    ORD  NA        733     13  \n",
              "336754 NA        EV      5306   N605QX  LGA    GSO  NA        461     19  \n",
              "336755 NA        AA       301   N584AA  LGA    ORD  NA        733      6  \n",
              "336756 NA        US      2164   NA      LGA    BOS  NA        184     21  \n",
              "336757 NA        MQ      3760   N505MQ  EWR    ORD  NA        719     13  \n",
              "336758 NA        UA       269   NA      LGA    ORD  NA        733     16  \n",
              "336759 NA        EV      5068   N133EV  EWR    DTW  NA        488      6  \n",
              "336760 NA        EV      4510   N14542  EWR    MKE  NA        725      8  \n",
              "336761 NA        EV      4412   N12175  EWR    DSM  NA       1017     10  \n",
              "336762 NA        AA       300   N488AA  EWR    DFW  NA       1372     12  \n",
              "336763 NA        EV      5563   N724EV  LGA    BTV  NA        258     18  \n",
              "336764 NA        AA         1   N320AA  JFK    LAX  NA       2475      9  \n",
              "336765 NA        US       581   NA      EWR    CLT  NA        529     16  \n",
              "336766 NA        UA       327   N463UA  EWR    PDX  NA       2434     17  \n",
              "336767 NA        EV      4536   N13988  EWR    CVG  NA        569     20  \n",
              "336768 NA        MQ      3134   N508MQ  EWR    ORD  NA        719     18  \n",
              "336769 NA        UA       331   NA      LGA    ORD  NA        733      7  \n",
              "336770 NA        WN       464   N411WN  EWR    MDW  NA        711      6  \n",
              "336771 NA        EV      5274   N740EV  LGA    BNA  NA        764     18  \n",
              "336772 NA        9E      3393   NA      JFK    DCA  NA        213     14  \n",
              "336773 NA        9E      3525   NA      LGA    SYR  NA        198     22  \n",
              "336774 NA        MQ      3461   N535MQ  LGA    BNA  NA        764     12  \n",
              "336775 NA        MQ      3572   N511MQ  LGA    CLE  NA        419     11  \n",
              "336776 NA        MQ      3531   N839MQ  LGA    RDU  NA        431      8  \n",
              "       minute time_hour          \n",
              "1       0     2013-01-09 09:00:00\n",
              "2      35     2013-06-15 19:00:00\n",
              "3      35     2013-01-10 16:00:00\n",
              "4      45     2013-09-20 18:00:00\n",
              "5       0     2013-07-22 16:00:00\n",
              "6       0     2013-04-10 19:00:00\n",
              "7      10     2013-03-17 08:00:00\n",
              "8      59     2013-07-22 07:00:00\n",
              "9       0     2013-12-05 17:00:00\n",
              "10     55     2013-05-03 20:00:00\n",
              "11     45     2013-12-14 18:00:00\n",
              "12      0     2013-05-19 17:00:00\n",
              "13     35     2013-01-01 18:00:00\n",
              "14      0     2013-06-27 19:00:00\n",
              "15     25     2013-12-19 17:00:00\n",
              "16      0     2013-12-17 17:00:00\n",
              "17     30     2013-02-10 08:00:00\n",
              "18     40     2013-04-19 19:00:00\n",
              "19     30     2013-06-27 18:00:00\n",
              "20     45     2013-11-03 16:00:00\n",
              "21      0     2013-03-18 21:00:00\n",
              "22     25     2013-04-19 17:00:00\n",
              "23      0     2013-04-19 17:00:00\n",
              "24     25     2013-06-27 18:00:00\n",
              "25     15     2013-02-24 06:00:00\n",
              "26      5     2013-06-27 17:00:00\n",
              "27     16     2013-02-19 10:00:00\n",
              "28     30     2013-02-16 19:00:00\n",
              "29     25     2013-04-19 19:00:00\n",
              "30      0     2013-10-14 09:00:00\n",
              "⋮      ⋮      ⋮                  \n",
              "336747 55     2013-09-25 16:00:00\n",
              "336748 59     2013-09-25 15:00:00\n",
              "336749 29     2013-09-26 13:00:00\n",
              "336750 15     2013-09-26 09:00:00\n",
              "336751  0     2013-09-26 14:00:00\n",
              "336752 40     2013-09-26 12:00:00\n",
              "336753 29     2013-09-27 13:00:00\n",
              "336754 45     2013-09-27 19:00:00\n",
              "336755  0     2013-09-27 06:00:00\n",
              "336756  0     2013-09-27 21:00:00\n",
              "336757 29     2013-09-27 13:00:00\n",
              "336758  0     2013-09-27 16:00:00\n",
              "336759  0     2013-09-28 06:00:00\n",
              "336760 39     2013-09-28 08:00:00\n",
              "336761 20     2013-09-28 10:00:00\n",
              "336762 25     2013-09-28 12:00:00\n",
              "336763  3     2013-09-28 18:00:00\n",
              "336764 10     2013-09-28 09:00:00\n",
              "336765 35     2013-09-28 16:00:00\n",
              "336766 11     2013-09-29 17:00:00\n",
              "336767 54     2013-09-29 20:00:00\n",
              "336768 30     2013-09-29 18:00:00\n",
              "336769  0     2013-09-29 07:00:00\n",
              "336770  0     2013-09-30 06:00:00\n",
              "336771 42     2013-09-30 18:00:00\n",
              "336772 55     2013-09-30 14:00:00\n",
              "336773  0     2013-09-30 22:00:00\n",
              "336774 10     2013-09-30 12:00:00\n",
              "336775 59     2013-09-30 11:00:00\n",
              "336776 40     2013-09-30 08:00:00"
            ],
            "text/latex": "A tibble: 336776 × 19\n\\begin{tabular}{lllllllllllllllllll}\n year & month & day & dep\\_time & sched\\_dep\\_time & dep\\_delay & arr\\_time & sched\\_arr\\_time & arr\\_delay & carrier & flight & tailnum & origin & dest & air\\_time & distance & hour & minute & time\\_hour\\\\\n <int> & <int> & <int> & <int> & <int> & <dbl> & <int> & <int> & <dbl> & <chr> & <int> & <chr> & <chr> & <chr> & <dbl> & <dbl> & <dbl> & <dbl> & <dttm>\\\\\n\\hline\n\t 2013 &  1 &  9 &  641 &  900 & 1301 & 1242 & 1530 & 1272 & HA &   51 & N384HA & JFK & HNL & 640 & 4983 &  9 &  0 & 2013-01-09 09:00:00\\\\\n\t 2013 &  6 & 15 & 1432 & 1935 & 1137 & 1607 & 2120 & 1127 & MQ & 3535 & N504MQ & JFK & CMH &  74 &  483 & 19 & 35 & 2013-06-15 19:00:00\\\\\n\t 2013 &  1 & 10 & 1121 & 1635 & 1126 & 1239 & 1810 & 1109 & MQ & 3695 & N517MQ & EWR & ORD & 111 &  719 & 16 & 35 & 2013-01-10 16:00:00\\\\\n\t 2013 &  9 & 20 & 1139 & 1845 & 1014 & 1457 & 2210 & 1007 & AA &  177 & N338AA & JFK & SFO & 354 & 2586 & 18 & 45 & 2013-09-20 18:00:00\\\\\n\t 2013 &  7 & 22 &  845 & 1600 & 1005 & 1044 & 1815 &  989 & MQ & 3075 & N665MQ & JFK & CVG &  96 &  589 & 16 &  0 & 2013-07-22 16:00:00\\\\\n\t 2013 &  4 & 10 & 1100 & 1900 &  960 & 1342 & 2211 &  931 & DL & 2391 & N959DL & JFK & TPA & 139 & 1005 & 19 &  0 & 2013-04-10 19:00:00\\\\\n\t 2013 &  3 & 17 & 2321 &  810 &  911 &  135 & 1020 &  915 & DL & 2119 & N927DA & LGA & MSP & 167 & 1020 &  8 & 10 & 2013-03-17 08:00:00\\\\\n\t 2013 &  7 & 22 & 2257 &  759 &  898 &  121 & 1026 &  895 & DL & 2047 & N6716C & LGA & ATL & 109 &  762 &  7 & 59 & 2013-07-22 07:00:00\\\\\n\t 2013 & 12 &  5 &  756 & 1700 &  896 & 1058 & 2020 &  878 & AA &  172 & N5DMAA & EWR & MIA & 149 & 1085 & 17 &  0 & 2013-12-05 17:00:00\\\\\n\t 2013 &  5 &  3 & 1133 & 2055 &  878 & 1250 & 2215 &  875 & MQ & 3744 & N523MQ & EWR & ORD & 112 &  719 & 20 & 55 & 2013-05-03 20:00:00\\\\\n\t 2013 & 12 & 14 &  830 & 1845 &  825 & 1210 & 2154 &  856 & DL & 2391 & N939DL & JFK & TPA & 173 & 1005 & 18 & 45 & 2013-12-14 18:00:00\\\\\n\t 2013 &  5 & 19 &  713 & 1700 &  853 & 1007 & 1955 &  852 & AA &  257 & N3HEAA & JFK & LAS & 323 & 2248 & 17 &  0 & 2013-05-19 17:00:00\\\\\n\t 2013 &  1 &  1 &  848 & 1835 &  853 & 1001 & 1950 &  851 & MQ & 3944 & N942MQ & JFK & BWI &  41 &  184 & 18 & 35 & 2013-01-01 18:00:00\\\\\n\t 2013 &  6 & 27 &  959 & 1900 &  899 & 1236 & 2226 &  850 & DL & 2007 & N3762Y & JFK & PDX & 313 & 2454 & 19 &  0 & 2013-06-27 19:00:00\\\\\n\t 2013 & 12 & 19 &  734 & 1725 &  849 & 1046 & 2039 &  847 & DL & 1223 & N375NC & EWR & SLC & 290 & 1969 & 17 & 25 & 2013-12-19 17:00:00\\\\\n\t 2013 & 12 & 17 &  705 & 1700 &  845 & 1026 & 2020 &  846 & AA &  172 & N5EMAA & EWR & MIA & 145 & 1085 & 17 &  0 & 2013-12-17 17:00:00\\\\\n\t 2013 &  2 & 10 & 2243 &  830 &  853 &  100 & 1106 &  834 & F9 &  835 & N203FR & LGA & DEN & 233 & 1620 &  8 & 30 & 2013-02-10 08:00:00\\\\\n\t 2013 &  4 & 19 &  912 & 1940 &  812 & 1228 & 2247 &  821 & DL & 1435 & N900DE & LGA & TPA & 174 & 1010 & 19 & 40 & 2013-04-19 19:00:00\\\\\n\t 2013 &  6 & 27 &  753 & 1830 &  803 &  937 & 2015 &  802 & AA & 2019 & N571AA & LGA & STL & 134 &  888 & 18 & 30 & 2013-06-27 18:00:00\\\\\n\t 2013 & 11 &  3 &  603 & 1645 &  798 &  829 & 1913 &  796 & DL & 2042 & N990AT & EWR & ATL & 109 &  746 & 16 & 45 & 2013-11-03 16:00:00\\\\\n\t 2013 &  3 & 18 & 1020 & 2100 &  800 & 1336 &   32 &  784 & DL & 2363 & N624AG & JFK & LAX & 335 & 2475 & 21 &  0 & 2013-03-18 21:00:00\\\\\n\t 2013 &  4 & 19 &  606 & 1725 &  761 &  923 & 2020 &  783 & AA & 1901 & N3DGAA & JFK & IAH & 222 & 1417 & 17 & 25 & 2013-04-19 17:00:00\\\\\n\t 2013 &  4 & 19 &  617 & 1700 &  797 &  858 & 1955 &  783 & AA &  257 & N3GJAA & JFK & LAS & 313 & 2248 & 17 &  0 & 2013-04-19 17:00:00\\\\\n\t 2013 &  6 & 27 &  732 & 1825 &  787 &  932 & 2032 &  780 & DL & 1715 & N335NB & LGA & MSY & 160 & 1183 & 18 & 25 & 2013-06-27 18:00:00\\\\\n\t 2013 &  2 & 24 & 1921 &  615 &  786 & 2135 &  842 &  773 & DL &  575 & N348NW & EWR & ATL & 111 &  746 &  6 & 15 & 2013-02-24 06:00:00\\\\\n\t 2013 &  6 & 27 &  615 & 1705 &  790 &  853 & 2004 &  769 & DL &  503 & N372DA & JFK & SAN & 312 & 2446 & 17 &  5 & 2013-06-27 17:00:00\\\\\n\t 2013 &  2 & 19 & 2324 & 1016 &  788 &  114 & 1227 &  767 & DL & 2319 & N324US & LGA & MSP & 136 & 1020 & 10 & 16 & 2013-02-19 10:00:00\\\\\n\t 2013 &  2 & 16 &  757 & 1930 &  747 & 1013 & 2149 &  744 & 9E & 3798 & N8940E & JFK & CLT &  85 &  541 & 19 & 30 & 2013-02-16 19:00:00\\\\\n\t 2013 &  4 & 19 &  758 & 1925 &  753 & 1049 & 2225 &  744 & DL & 1485 & N927DA & LGA & MCO & 149 &  950 & 19 & 25 & 2013-04-19 19:00:00\\\\\n\t 2013 & 10 & 14 & 2042 &  900 &  702 & 2255 & 1127 &  688 & DL &  502 & N943DL & EWR & ATL &  98 &  746 &  9 &  0 & 2013-10-14 09:00:00\\\\\n\t ⋮ & ⋮ & ⋮ & ⋮ & ⋮ & ⋮ & ⋮ & ⋮ & ⋮ & ⋮ & ⋮ & ⋮ & ⋮ & ⋮ & ⋮ & ⋮ & ⋮ & ⋮ & ⋮\\\\\n\t 2013 & 9 & 25 &   NA & 1655 &  NA &   NA & 1840 & NA & MQ & 3411 & N735MQ & LGA & RDU & NA &  431 & 16 & 55 & 2013-09-25 16:00:00\\\\\n\t 2013 & 9 & 25 &   NA & 1559 &  NA &   NA & 1719 & NA & MQ & 3748 & N530MQ & EWR & ORD & NA &  719 & 15 & 59 & 2013-09-25 15:00:00\\\\\n\t 2013 & 9 & 26 & 1331 & 1329 &   2 & 1923 & 1813 & NA & UA &   15 & N67052 & EWR & HNL & NA & 4963 & 13 & 29 & 2013-09-26 13:00:00\\\\\n\t 2013 & 9 & 26 &   NA &  915 &  NA &   NA & 1141 & NA & EV & 5109 & N748EV & LGA & CHS & NA &  641 &  9 & 15 & 2013-09-26 09:00:00\\\\\n\t 2013 & 9 & 26 &   NA & 1400 &  NA &   NA & 1512 & NA & US & 2183 & NA     & LGA & DCA & NA &  214 & 14 &  0 & 2013-09-26 14:00:00\\\\\n\t 2013 & 9 & 26 &   NA & 1240 &  NA &   NA & 1525 & NA & WN & 4720 & N691WN & EWR & HOU & NA & 1411 & 12 & 40 & 2013-09-26 12:00:00\\\\\n\t 2013 & 9 & 27 & 1332 & 1329 &   3 & 1629 & 1509 & NA & AA &  331 & N565AA & LGA & ORD & NA &  733 & 13 & 29 & 2013-09-27 13:00:00\\\\\n\t 2013 & 9 & 27 & 2253 & 1945 & 188 &   NA & 2146 & NA & EV & 5306 & N605QX & LGA & GSO & NA &  461 & 19 & 45 & 2013-09-27 19:00:00\\\\\n\t 2013 & 9 & 27 &   NA &  600 &  NA &   NA &  730 & NA & AA &  301 & N584AA & LGA & ORD & NA &  733 &  6 &  0 & 2013-09-27 06:00:00\\\\\n\t 2013 & 9 & 27 &   NA & 2100 &  NA &   NA & 2211 & NA & US & 2164 & NA     & LGA & BOS & NA &  184 & 21 &  0 & 2013-09-27 21:00:00\\\\\n\t 2013 & 9 & 27 &   NA & 1329 &  NA &   NA & 1444 & NA & MQ & 3760 & N505MQ & EWR & ORD & NA &  719 & 13 & 29 & 2013-09-27 13:00:00\\\\\n\t 2013 & 9 & 27 &   NA & 1600 &  NA &   NA & 1739 & NA & UA &  269 & NA     & LGA & ORD & NA &  733 & 16 &  0 & 2013-09-27 16:00:00\\\\\n\t 2013 & 9 & 28 &  555 &  600 &  -5 &  953 &  753 & NA & EV & 5068 & N133EV & EWR & DTW & NA &  488 &  6 &  0 & 2013-09-28 06:00:00\\\\\n\t 2013 & 9 & 28 &  847 &  839 &   8 & 1130 &  959 & NA & EV & 4510 & N14542 & EWR & MKE & NA &  725 &  8 & 39 & 2013-09-28 08:00:00\\\\\n\t 2013 & 9 & 28 & 1010 & 1020 & -10 & 1344 & 1222 & NA & EV & 4412 & N12175 & EWR & DSM & NA & 1017 & 10 & 20 & 2013-09-28 10:00:00\\\\\n\t 2013 & 9 & 28 & 1214 & 1225 & -11 & 1801 & 1510 & NA & AA &  300 & N488AA & EWR & DFW & NA & 1372 & 12 & 25 & 2013-09-28 12:00:00\\\\\n\t 2013 & 9 & 28 &   NA & 1803 &  NA &   NA & 1927 & NA & EV & 5563 & N724EV & LGA & BTV & NA &  258 & 18 &  3 & 2013-09-28 18:00:00\\\\\n\t 2013 & 9 & 28 &   NA &  910 &  NA &   NA & 1220 & NA & AA &    1 & N320AA & JFK & LAX & NA & 2475 &  9 & 10 & 2013-09-28 09:00:00\\\\\n\t 2013 & 9 & 28 &   NA & 1635 &  NA &   NA & 1827 & NA & US &  581 & NA     & EWR & CLT & NA &  529 & 16 & 35 & 2013-09-28 16:00:00\\\\\n\t 2013 & 9 & 29 & 1734 & 1711 &  23 & 2159 & 2020 & NA & UA &  327 & N463UA & EWR & PDX & NA & 2434 & 17 & 11 & 2013-09-29 17:00:00\\\\\n\t 2013 & 9 & 29 &   NA & 2054 &  NA &   NA & 2302 & NA & EV & 4536 & N13988 & EWR & CVG & NA &  569 & 20 & 54 & 2013-09-29 20:00:00\\\\\n\t 2013 & 9 & 29 &   NA & 1830 &  NA &   NA & 2010 & NA & MQ & 3134 & N508MQ & EWR & ORD & NA &  719 & 18 & 30 & 2013-09-29 18:00:00\\\\\n\t 2013 & 9 & 29 &   NA &  700 &  NA &   NA &  833 & NA & UA &  331 & NA     & LGA & ORD & NA &  733 &  7 &  0 & 2013-09-29 07:00:00\\\\\n\t 2013 & 9 & 30 &  559 &  600 &  -1 &   NA &  715 & NA & WN &  464 & N411WN & EWR & MDW & NA &  711 &  6 &  0 & 2013-09-30 06:00:00\\\\\n\t 2013 & 9 & 30 &   NA & 1842 &  NA &   NA & 2019 & NA & EV & 5274 & N740EV & LGA & BNA & NA &  764 & 18 & 42 & 2013-09-30 18:00:00\\\\\n\t 2013 & 9 & 30 &   NA & 1455 &  NA &   NA & 1634 & NA & 9E & 3393 & NA     & JFK & DCA & NA &  213 & 14 & 55 & 2013-09-30 14:00:00\\\\\n\t 2013 & 9 & 30 &   NA & 2200 &  NA &   NA & 2312 & NA & 9E & 3525 & NA     & LGA & SYR & NA &  198 & 22 &  0 & 2013-09-30 22:00:00\\\\\n\t 2013 & 9 & 30 &   NA & 1210 &  NA &   NA & 1330 & NA & MQ & 3461 & N535MQ & LGA & BNA & NA &  764 & 12 & 10 & 2013-09-30 12:00:00\\\\\n\t 2013 & 9 & 30 &   NA & 1159 &  NA &   NA & 1344 & NA & MQ & 3572 & N511MQ & LGA & CLE & NA &  419 & 11 & 59 & 2013-09-30 11:00:00\\\\\n\t 2013 & 9 & 30 &   NA &  840 &  NA &   NA & 1020 & NA & MQ & 3531 & N839MQ & LGA & RDU & NA &  431 &  8 & 40 & 2013-09-30 08:00:00\\\\\n\\end{tabular}\n",
            "text/markdown": "\nA tibble: 336776 × 19\n\n| year &lt;int&gt; | month &lt;int&gt; | day &lt;int&gt; | dep_time &lt;int&gt; | sched_dep_time &lt;int&gt; | dep_delay &lt;dbl&gt; | arr_time &lt;int&gt; | sched_arr_time &lt;int&gt; | arr_delay &lt;dbl&gt; | carrier &lt;chr&gt; | flight &lt;int&gt; | tailnum &lt;chr&gt; | origin &lt;chr&gt; | dest &lt;chr&gt; | air_time &lt;dbl&gt; | distance &lt;dbl&gt; | hour &lt;dbl&gt; | minute &lt;dbl&gt; | time_hour &lt;dttm&gt; |\n|---|---|---|---|---|---|---|---|---|---|---|---|---|---|---|---|---|---|---|\n| 2013 |  1 |  9 |  641 |  900 | 1301 | 1242 | 1530 | 1272 | HA |   51 | N384HA | JFK | HNL | 640 | 4983 |  9 |  0 | 2013-01-09 09:00:00 |\n| 2013 |  6 | 15 | 1432 | 1935 | 1137 | 1607 | 2120 | 1127 | MQ | 3535 | N504MQ | JFK | CMH |  74 |  483 | 19 | 35 | 2013-06-15 19:00:00 |\n| 2013 |  1 | 10 | 1121 | 1635 | 1126 | 1239 | 1810 | 1109 | MQ | 3695 | N517MQ | EWR | ORD | 111 |  719 | 16 | 35 | 2013-01-10 16:00:00 |\n| 2013 |  9 | 20 | 1139 | 1845 | 1014 | 1457 | 2210 | 1007 | AA |  177 | N338AA | JFK | SFO | 354 | 2586 | 18 | 45 | 2013-09-20 18:00:00 |\n| 2013 |  7 | 22 |  845 | 1600 | 1005 | 1044 | 1815 |  989 | MQ | 3075 | N665MQ | JFK | CVG |  96 |  589 | 16 |  0 | 2013-07-22 16:00:00 |\n| 2013 |  4 | 10 | 1100 | 1900 |  960 | 1342 | 2211 |  931 | DL | 2391 | N959DL | JFK | TPA | 139 | 1005 | 19 |  0 | 2013-04-10 19:00:00 |\n| 2013 |  3 | 17 | 2321 |  810 |  911 |  135 | 1020 |  915 | DL | 2119 | N927DA | LGA | MSP | 167 | 1020 |  8 | 10 | 2013-03-17 08:00:00 |\n| 2013 |  7 | 22 | 2257 |  759 |  898 |  121 | 1026 |  895 | DL | 2047 | N6716C | LGA | ATL | 109 |  762 |  7 | 59 | 2013-07-22 07:00:00 |\n| 2013 | 12 |  5 |  756 | 1700 |  896 | 1058 | 2020 |  878 | AA |  172 | N5DMAA | EWR | MIA | 149 | 1085 | 17 |  0 | 2013-12-05 17:00:00 |\n| 2013 |  5 |  3 | 1133 | 2055 |  878 | 1250 | 2215 |  875 | MQ | 3744 | N523MQ | EWR | ORD | 112 |  719 | 20 | 55 | 2013-05-03 20:00:00 |\n| 2013 | 12 | 14 |  830 | 1845 |  825 | 1210 | 2154 |  856 | DL | 2391 | N939DL | JFK | TPA | 173 | 1005 | 18 | 45 | 2013-12-14 18:00:00 |\n| 2013 |  5 | 19 |  713 | 1700 |  853 | 1007 | 1955 |  852 | AA |  257 | N3HEAA | JFK | LAS | 323 | 2248 | 17 |  0 | 2013-05-19 17:00:00 |\n| 2013 |  1 |  1 |  848 | 1835 |  853 | 1001 | 1950 |  851 | MQ | 3944 | N942MQ | JFK | BWI |  41 |  184 | 18 | 35 | 2013-01-01 18:00:00 |\n| 2013 |  6 | 27 |  959 | 1900 |  899 | 1236 | 2226 |  850 | DL | 2007 | N3762Y | JFK | PDX | 313 | 2454 | 19 |  0 | 2013-06-27 19:00:00 |\n| 2013 | 12 | 19 |  734 | 1725 |  849 | 1046 | 2039 |  847 | DL | 1223 | N375NC | EWR | SLC | 290 | 1969 | 17 | 25 | 2013-12-19 17:00:00 |\n| 2013 | 12 | 17 |  705 | 1700 |  845 | 1026 | 2020 |  846 | AA |  172 | N5EMAA | EWR | MIA | 145 | 1085 | 17 |  0 | 2013-12-17 17:00:00 |\n| 2013 |  2 | 10 | 2243 |  830 |  853 |  100 | 1106 |  834 | F9 |  835 | N203FR | LGA | DEN | 233 | 1620 |  8 | 30 | 2013-02-10 08:00:00 |\n| 2013 |  4 | 19 |  912 | 1940 |  812 | 1228 | 2247 |  821 | DL | 1435 | N900DE | LGA | TPA | 174 | 1010 | 19 | 40 | 2013-04-19 19:00:00 |\n| 2013 |  6 | 27 |  753 | 1830 |  803 |  937 | 2015 |  802 | AA | 2019 | N571AA | LGA | STL | 134 |  888 | 18 | 30 | 2013-06-27 18:00:00 |\n| 2013 | 11 |  3 |  603 | 1645 |  798 |  829 | 1913 |  796 | DL | 2042 | N990AT | EWR | ATL | 109 |  746 | 16 | 45 | 2013-11-03 16:00:00 |\n| 2013 |  3 | 18 | 1020 | 2100 |  800 | 1336 |   32 |  784 | DL | 2363 | N624AG | JFK | LAX | 335 | 2475 | 21 |  0 | 2013-03-18 21:00:00 |\n| 2013 |  4 | 19 |  606 | 1725 |  761 |  923 | 2020 |  783 | AA | 1901 | N3DGAA | JFK | IAH | 222 | 1417 | 17 | 25 | 2013-04-19 17:00:00 |\n| 2013 |  4 | 19 |  617 | 1700 |  797 |  858 | 1955 |  783 | AA |  257 | N3GJAA | JFK | LAS | 313 | 2248 | 17 |  0 | 2013-04-19 17:00:00 |\n| 2013 |  6 | 27 |  732 | 1825 |  787 |  932 | 2032 |  780 | DL | 1715 | N335NB | LGA | MSY | 160 | 1183 | 18 | 25 | 2013-06-27 18:00:00 |\n| 2013 |  2 | 24 | 1921 |  615 |  786 | 2135 |  842 |  773 | DL |  575 | N348NW | EWR | ATL | 111 |  746 |  6 | 15 | 2013-02-24 06:00:00 |\n| 2013 |  6 | 27 |  615 | 1705 |  790 |  853 | 2004 |  769 | DL |  503 | N372DA | JFK | SAN | 312 | 2446 | 17 |  5 | 2013-06-27 17:00:00 |\n| 2013 |  2 | 19 | 2324 | 1016 |  788 |  114 | 1227 |  767 | DL | 2319 | N324US | LGA | MSP | 136 | 1020 | 10 | 16 | 2013-02-19 10:00:00 |\n| 2013 |  2 | 16 |  757 | 1930 |  747 | 1013 | 2149 |  744 | 9E | 3798 | N8940E | JFK | CLT |  85 |  541 | 19 | 30 | 2013-02-16 19:00:00 |\n| 2013 |  4 | 19 |  758 | 1925 |  753 | 1049 | 2225 |  744 | DL | 1485 | N927DA | LGA | MCO | 149 |  950 | 19 | 25 | 2013-04-19 19:00:00 |\n| 2013 | 10 | 14 | 2042 |  900 |  702 | 2255 | 1127 |  688 | DL |  502 | N943DL | EWR | ATL |  98 |  746 |  9 |  0 | 2013-10-14 09:00:00 |\n| ⋮ | ⋮ | ⋮ | ⋮ | ⋮ | ⋮ | ⋮ | ⋮ | ⋮ | ⋮ | ⋮ | ⋮ | ⋮ | ⋮ | ⋮ | ⋮ | ⋮ | ⋮ | ⋮ |\n| 2013 | 9 | 25 |   NA | 1655 |  NA |   NA | 1840 | NA | MQ | 3411 | N735MQ | LGA | RDU | NA |  431 | 16 | 55 | 2013-09-25 16:00:00 |\n| 2013 | 9 | 25 |   NA | 1559 |  NA |   NA | 1719 | NA | MQ | 3748 | N530MQ | EWR | ORD | NA |  719 | 15 | 59 | 2013-09-25 15:00:00 |\n| 2013 | 9 | 26 | 1331 | 1329 |   2 | 1923 | 1813 | NA | UA |   15 | N67052 | EWR | HNL | NA | 4963 | 13 | 29 | 2013-09-26 13:00:00 |\n| 2013 | 9 | 26 |   NA |  915 |  NA |   NA | 1141 | NA | EV | 5109 | N748EV | LGA | CHS | NA |  641 |  9 | 15 | 2013-09-26 09:00:00 |\n| 2013 | 9 | 26 |   NA | 1400 |  NA |   NA | 1512 | NA | US | 2183 | NA     | LGA | DCA | NA |  214 | 14 |  0 | 2013-09-26 14:00:00 |\n| 2013 | 9 | 26 |   NA | 1240 |  NA |   NA | 1525 | NA | WN | 4720 | N691WN | EWR | HOU | NA | 1411 | 12 | 40 | 2013-09-26 12:00:00 |\n| 2013 | 9 | 27 | 1332 | 1329 |   3 | 1629 | 1509 | NA | AA |  331 | N565AA | LGA | ORD | NA |  733 | 13 | 29 | 2013-09-27 13:00:00 |\n| 2013 | 9 | 27 | 2253 | 1945 | 188 |   NA | 2146 | NA | EV | 5306 | N605QX | LGA | GSO | NA |  461 | 19 | 45 | 2013-09-27 19:00:00 |\n| 2013 | 9 | 27 |   NA |  600 |  NA |   NA |  730 | NA | AA |  301 | N584AA | LGA | ORD | NA |  733 |  6 |  0 | 2013-09-27 06:00:00 |\n| 2013 | 9 | 27 |   NA | 2100 |  NA |   NA | 2211 | NA | US | 2164 | NA     | LGA | BOS | NA |  184 | 21 |  0 | 2013-09-27 21:00:00 |\n| 2013 | 9 | 27 |   NA | 1329 |  NA |   NA | 1444 | NA | MQ | 3760 | N505MQ | EWR | ORD | NA |  719 | 13 | 29 | 2013-09-27 13:00:00 |\n| 2013 | 9 | 27 |   NA | 1600 |  NA |   NA | 1739 | NA | UA |  269 | NA     | LGA | ORD | NA |  733 | 16 |  0 | 2013-09-27 16:00:00 |\n| 2013 | 9 | 28 |  555 |  600 |  -5 |  953 |  753 | NA | EV | 5068 | N133EV | EWR | DTW | NA |  488 |  6 |  0 | 2013-09-28 06:00:00 |\n| 2013 | 9 | 28 |  847 |  839 |   8 | 1130 |  959 | NA | EV | 4510 | N14542 | EWR | MKE | NA |  725 |  8 | 39 | 2013-09-28 08:00:00 |\n| 2013 | 9 | 28 | 1010 | 1020 | -10 | 1344 | 1222 | NA | EV | 4412 | N12175 | EWR | DSM | NA | 1017 | 10 | 20 | 2013-09-28 10:00:00 |\n| 2013 | 9 | 28 | 1214 | 1225 | -11 | 1801 | 1510 | NA | AA |  300 | N488AA | EWR | DFW | NA | 1372 | 12 | 25 | 2013-09-28 12:00:00 |\n| 2013 | 9 | 28 |   NA | 1803 |  NA |   NA | 1927 | NA | EV | 5563 | N724EV | LGA | BTV | NA |  258 | 18 |  3 | 2013-09-28 18:00:00 |\n| 2013 | 9 | 28 |   NA |  910 |  NA |   NA | 1220 | NA | AA |    1 | N320AA | JFK | LAX | NA | 2475 |  9 | 10 | 2013-09-28 09:00:00 |\n| 2013 | 9 | 28 |   NA | 1635 |  NA |   NA | 1827 | NA | US |  581 | NA     | EWR | CLT | NA |  529 | 16 | 35 | 2013-09-28 16:00:00 |\n| 2013 | 9 | 29 | 1734 | 1711 |  23 | 2159 | 2020 | NA | UA |  327 | N463UA | EWR | PDX | NA | 2434 | 17 | 11 | 2013-09-29 17:00:00 |\n| 2013 | 9 | 29 |   NA | 2054 |  NA |   NA | 2302 | NA | EV | 4536 | N13988 | EWR | CVG | NA |  569 | 20 | 54 | 2013-09-29 20:00:00 |\n| 2013 | 9 | 29 |   NA | 1830 |  NA |   NA | 2010 | NA | MQ | 3134 | N508MQ | EWR | ORD | NA |  719 | 18 | 30 | 2013-09-29 18:00:00 |\n| 2013 | 9 | 29 |   NA |  700 |  NA |   NA |  833 | NA | UA |  331 | NA     | LGA | ORD | NA |  733 |  7 |  0 | 2013-09-29 07:00:00 |\n| 2013 | 9 | 30 |  559 |  600 |  -1 |   NA |  715 | NA | WN |  464 | N411WN | EWR | MDW | NA |  711 |  6 |  0 | 2013-09-30 06:00:00 |\n| 2013 | 9 | 30 |   NA | 1842 |  NA |   NA | 2019 | NA | EV | 5274 | N740EV | LGA | BNA | NA |  764 | 18 | 42 | 2013-09-30 18:00:00 |\n| 2013 | 9 | 30 |   NA | 1455 |  NA |   NA | 1634 | NA | 9E | 3393 | NA     | JFK | DCA | NA |  213 | 14 | 55 | 2013-09-30 14:00:00 |\n| 2013 | 9 | 30 |   NA | 2200 |  NA |   NA | 2312 | NA | 9E | 3525 | NA     | LGA | SYR | NA |  198 | 22 |  0 | 2013-09-30 22:00:00 |\n| 2013 | 9 | 30 |   NA | 1210 |  NA |   NA | 1330 | NA | MQ | 3461 | N535MQ | LGA | BNA | NA |  764 | 12 | 10 | 2013-09-30 12:00:00 |\n| 2013 | 9 | 30 |   NA | 1159 |  NA |   NA | 1344 | NA | MQ | 3572 | N511MQ | LGA | CLE | NA |  419 | 11 | 59 | 2013-09-30 11:00:00 |\n| 2013 | 9 | 30 |   NA |  840 |  NA |   NA | 1020 | NA | MQ | 3531 | N839MQ | LGA | RDU | NA |  431 |  8 | 40 | 2013-09-30 08:00:00 |\n\n",
            "text/html": [
              "<table class=\"dataframe\">\n",
              "<caption>A tibble: 336776 × 19</caption>\n",
              "<thead>\n",
              "\t<tr><th scope=col>year</th><th scope=col>month</th><th scope=col>day</th><th scope=col>dep_time</th><th scope=col>sched_dep_time</th><th scope=col>dep_delay</th><th scope=col>arr_time</th><th scope=col>sched_arr_time</th><th scope=col>arr_delay</th><th scope=col>carrier</th><th scope=col>flight</th><th scope=col>tailnum</th><th scope=col>origin</th><th scope=col>dest</th><th scope=col>air_time</th><th scope=col>distance</th><th scope=col>hour</th><th scope=col>minute</th><th scope=col>time_hour</th></tr>\n",
              "\t<tr><th scope=col>&lt;int&gt;</th><th scope=col>&lt;int&gt;</th><th scope=col>&lt;int&gt;</th><th scope=col>&lt;int&gt;</th><th scope=col>&lt;int&gt;</th><th scope=col>&lt;dbl&gt;</th><th scope=col>&lt;int&gt;</th><th scope=col>&lt;int&gt;</th><th scope=col>&lt;dbl&gt;</th><th scope=col>&lt;chr&gt;</th><th scope=col>&lt;int&gt;</th><th scope=col>&lt;chr&gt;</th><th scope=col>&lt;chr&gt;</th><th scope=col>&lt;chr&gt;</th><th scope=col>&lt;dbl&gt;</th><th scope=col>&lt;dbl&gt;</th><th scope=col>&lt;dbl&gt;</th><th scope=col>&lt;dbl&gt;</th><th scope=col>&lt;dttm&gt;</th></tr>\n",
              "</thead>\n",
              "<tbody>\n",
              "\t<tr><td>2013</td><td> 1</td><td> 9</td><td> 641</td><td> 900</td><td>1301</td><td>1242</td><td>1530</td><td>1272</td><td>HA</td><td>  51</td><td>N384HA</td><td>JFK</td><td>HNL</td><td>640</td><td>4983</td><td> 9</td><td> 0</td><td>2013-01-09 09:00:00</td></tr>\n",
              "\t<tr><td>2013</td><td> 6</td><td>15</td><td>1432</td><td>1935</td><td>1137</td><td>1607</td><td>2120</td><td>1127</td><td>MQ</td><td>3535</td><td>N504MQ</td><td>JFK</td><td>CMH</td><td> 74</td><td> 483</td><td>19</td><td>35</td><td>2013-06-15 19:00:00</td></tr>\n",
              "\t<tr><td>2013</td><td> 1</td><td>10</td><td>1121</td><td>1635</td><td>1126</td><td>1239</td><td>1810</td><td>1109</td><td>MQ</td><td>3695</td><td>N517MQ</td><td>EWR</td><td>ORD</td><td>111</td><td> 719</td><td>16</td><td>35</td><td>2013-01-10 16:00:00</td></tr>\n",
              "\t<tr><td>2013</td><td> 9</td><td>20</td><td>1139</td><td>1845</td><td>1014</td><td>1457</td><td>2210</td><td>1007</td><td>AA</td><td> 177</td><td>N338AA</td><td>JFK</td><td>SFO</td><td>354</td><td>2586</td><td>18</td><td>45</td><td>2013-09-20 18:00:00</td></tr>\n",
              "\t<tr><td>2013</td><td> 7</td><td>22</td><td> 845</td><td>1600</td><td>1005</td><td>1044</td><td>1815</td><td> 989</td><td>MQ</td><td>3075</td><td>N665MQ</td><td>JFK</td><td>CVG</td><td> 96</td><td> 589</td><td>16</td><td> 0</td><td>2013-07-22 16:00:00</td></tr>\n",
              "\t<tr><td>2013</td><td> 4</td><td>10</td><td>1100</td><td>1900</td><td> 960</td><td>1342</td><td>2211</td><td> 931</td><td>DL</td><td>2391</td><td>N959DL</td><td>JFK</td><td>TPA</td><td>139</td><td>1005</td><td>19</td><td> 0</td><td>2013-04-10 19:00:00</td></tr>\n",
              "\t<tr><td>2013</td><td> 3</td><td>17</td><td>2321</td><td> 810</td><td> 911</td><td> 135</td><td>1020</td><td> 915</td><td>DL</td><td>2119</td><td>N927DA</td><td>LGA</td><td>MSP</td><td>167</td><td>1020</td><td> 8</td><td>10</td><td>2013-03-17 08:00:00</td></tr>\n",
              "\t<tr><td>2013</td><td> 7</td><td>22</td><td>2257</td><td> 759</td><td> 898</td><td> 121</td><td>1026</td><td> 895</td><td>DL</td><td>2047</td><td>N6716C</td><td>LGA</td><td>ATL</td><td>109</td><td> 762</td><td> 7</td><td>59</td><td>2013-07-22 07:00:00</td></tr>\n",
              "\t<tr><td>2013</td><td>12</td><td> 5</td><td> 756</td><td>1700</td><td> 896</td><td>1058</td><td>2020</td><td> 878</td><td>AA</td><td> 172</td><td>N5DMAA</td><td>EWR</td><td>MIA</td><td>149</td><td>1085</td><td>17</td><td> 0</td><td>2013-12-05 17:00:00</td></tr>\n",
              "\t<tr><td>2013</td><td> 5</td><td> 3</td><td>1133</td><td>2055</td><td> 878</td><td>1250</td><td>2215</td><td> 875</td><td>MQ</td><td>3744</td><td>N523MQ</td><td>EWR</td><td>ORD</td><td>112</td><td> 719</td><td>20</td><td>55</td><td>2013-05-03 20:00:00</td></tr>\n",
              "\t<tr><td>2013</td><td>12</td><td>14</td><td> 830</td><td>1845</td><td> 825</td><td>1210</td><td>2154</td><td> 856</td><td>DL</td><td>2391</td><td>N939DL</td><td>JFK</td><td>TPA</td><td>173</td><td>1005</td><td>18</td><td>45</td><td>2013-12-14 18:00:00</td></tr>\n",
              "\t<tr><td>2013</td><td> 5</td><td>19</td><td> 713</td><td>1700</td><td> 853</td><td>1007</td><td>1955</td><td> 852</td><td>AA</td><td> 257</td><td>N3HEAA</td><td>JFK</td><td>LAS</td><td>323</td><td>2248</td><td>17</td><td> 0</td><td>2013-05-19 17:00:00</td></tr>\n",
              "\t<tr><td>2013</td><td> 1</td><td> 1</td><td> 848</td><td>1835</td><td> 853</td><td>1001</td><td>1950</td><td> 851</td><td>MQ</td><td>3944</td><td>N942MQ</td><td>JFK</td><td>BWI</td><td> 41</td><td> 184</td><td>18</td><td>35</td><td>2013-01-01 18:00:00</td></tr>\n",
              "\t<tr><td>2013</td><td> 6</td><td>27</td><td> 959</td><td>1900</td><td> 899</td><td>1236</td><td>2226</td><td> 850</td><td>DL</td><td>2007</td><td>N3762Y</td><td>JFK</td><td>PDX</td><td>313</td><td>2454</td><td>19</td><td> 0</td><td>2013-06-27 19:00:00</td></tr>\n",
              "\t<tr><td>2013</td><td>12</td><td>19</td><td> 734</td><td>1725</td><td> 849</td><td>1046</td><td>2039</td><td> 847</td><td>DL</td><td>1223</td><td>N375NC</td><td>EWR</td><td>SLC</td><td>290</td><td>1969</td><td>17</td><td>25</td><td>2013-12-19 17:00:00</td></tr>\n",
              "\t<tr><td>2013</td><td>12</td><td>17</td><td> 705</td><td>1700</td><td> 845</td><td>1026</td><td>2020</td><td> 846</td><td>AA</td><td> 172</td><td>N5EMAA</td><td>EWR</td><td>MIA</td><td>145</td><td>1085</td><td>17</td><td> 0</td><td>2013-12-17 17:00:00</td></tr>\n",
              "\t<tr><td>2013</td><td> 2</td><td>10</td><td>2243</td><td> 830</td><td> 853</td><td> 100</td><td>1106</td><td> 834</td><td>F9</td><td> 835</td><td>N203FR</td><td>LGA</td><td>DEN</td><td>233</td><td>1620</td><td> 8</td><td>30</td><td>2013-02-10 08:00:00</td></tr>\n",
              "\t<tr><td>2013</td><td> 4</td><td>19</td><td> 912</td><td>1940</td><td> 812</td><td>1228</td><td>2247</td><td> 821</td><td>DL</td><td>1435</td><td>N900DE</td><td>LGA</td><td>TPA</td><td>174</td><td>1010</td><td>19</td><td>40</td><td>2013-04-19 19:00:00</td></tr>\n",
              "\t<tr><td>2013</td><td> 6</td><td>27</td><td> 753</td><td>1830</td><td> 803</td><td> 937</td><td>2015</td><td> 802</td><td>AA</td><td>2019</td><td>N571AA</td><td>LGA</td><td>STL</td><td>134</td><td> 888</td><td>18</td><td>30</td><td>2013-06-27 18:00:00</td></tr>\n",
              "\t<tr><td>2013</td><td>11</td><td> 3</td><td> 603</td><td>1645</td><td> 798</td><td> 829</td><td>1913</td><td> 796</td><td>DL</td><td>2042</td><td>N990AT</td><td>EWR</td><td>ATL</td><td>109</td><td> 746</td><td>16</td><td>45</td><td>2013-11-03 16:00:00</td></tr>\n",
              "\t<tr><td>2013</td><td> 3</td><td>18</td><td>1020</td><td>2100</td><td> 800</td><td>1336</td><td>  32</td><td> 784</td><td>DL</td><td>2363</td><td>N624AG</td><td>JFK</td><td>LAX</td><td>335</td><td>2475</td><td>21</td><td> 0</td><td>2013-03-18 21:00:00</td></tr>\n",
              "\t<tr><td>2013</td><td> 4</td><td>19</td><td> 606</td><td>1725</td><td> 761</td><td> 923</td><td>2020</td><td> 783</td><td>AA</td><td>1901</td><td>N3DGAA</td><td>JFK</td><td>IAH</td><td>222</td><td>1417</td><td>17</td><td>25</td><td>2013-04-19 17:00:00</td></tr>\n",
              "\t<tr><td>2013</td><td> 4</td><td>19</td><td> 617</td><td>1700</td><td> 797</td><td> 858</td><td>1955</td><td> 783</td><td>AA</td><td> 257</td><td>N3GJAA</td><td>JFK</td><td>LAS</td><td>313</td><td>2248</td><td>17</td><td> 0</td><td>2013-04-19 17:00:00</td></tr>\n",
              "\t<tr><td>2013</td><td> 6</td><td>27</td><td> 732</td><td>1825</td><td> 787</td><td> 932</td><td>2032</td><td> 780</td><td>DL</td><td>1715</td><td>N335NB</td><td>LGA</td><td>MSY</td><td>160</td><td>1183</td><td>18</td><td>25</td><td>2013-06-27 18:00:00</td></tr>\n",
              "\t<tr><td>2013</td><td> 2</td><td>24</td><td>1921</td><td> 615</td><td> 786</td><td>2135</td><td> 842</td><td> 773</td><td>DL</td><td> 575</td><td>N348NW</td><td>EWR</td><td>ATL</td><td>111</td><td> 746</td><td> 6</td><td>15</td><td>2013-02-24 06:00:00</td></tr>\n",
              "\t<tr><td>2013</td><td> 6</td><td>27</td><td> 615</td><td>1705</td><td> 790</td><td> 853</td><td>2004</td><td> 769</td><td>DL</td><td> 503</td><td>N372DA</td><td>JFK</td><td>SAN</td><td>312</td><td>2446</td><td>17</td><td> 5</td><td>2013-06-27 17:00:00</td></tr>\n",
              "\t<tr><td>2013</td><td> 2</td><td>19</td><td>2324</td><td>1016</td><td> 788</td><td> 114</td><td>1227</td><td> 767</td><td>DL</td><td>2319</td><td>N324US</td><td>LGA</td><td>MSP</td><td>136</td><td>1020</td><td>10</td><td>16</td><td>2013-02-19 10:00:00</td></tr>\n",
              "\t<tr><td>2013</td><td> 2</td><td>16</td><td> 757</td><td>1930</td><td> 747</td><td>1013</td><td>2149</td><td> 744</td><td>9E</td><td>3798</td><td>N8940E</td><td>JFK</td><td>CLT</td><td> 85</td><td> 541</td><td>19</td><td>30</td><td>2013-02-16 19:00:00</td></tr>\n",
              "\t<tr><td>2013</td><td> 4</td><td>19</td><td> 758</td><td>1925</td><td> 753</td><td>1049</td><td>2225</td><td> 744</td><td>DL</td><td>1485</td><td>N927DA</td><td>LGA</td><td>MCO</td><td>149</td><td> 950</td><td>19</td><td>25</td><td>2013-04-19 19:00:00</td></tr>\n",
              "\t<tr><td>2013</td><td>10</td><td>14</td><td>2042</td><td> 900</td><td> 702</td><td>2255</td><td>1127</td><td> 688</td><td>DL</td><td> 502</td><td>N943DL</td><td>EWR</td><td>ATL</td><td> 98</td><td> 746</td><td> 9</td><td> 0</td><td>2013-10-14 09:00:00</td></tr>\n",
              "\t<tr><td>⋮</td><td>⋮</td><td>⋮</td><td>⋮</td><td>⋮</td><td>⋮</td><td>⋮</td><td>⋮</td><td>⋮</td><td>⋮</td><td>⋮</td><td>⋮</td><td>⋮</td><td>⋮</td><td>⋮</td><td>⋮</td><td>⋮</td><td>⋮</td><td>⋮</td></tr>\n",
              "\t<tr><td>2013</td><td>9</td><td>25</td><td>  NA</td><td>1655</td><td> NA</td><td>  NA</td><td>1840</td><td>NA</td><td>MQ</td><td>3411</td><td>N735MQ</td><td>LGA</td><td>RDU</td><td>NA</td><td> 431</td><td>16</td><td>55</td><td>2013-09-25 16:00:00</td></tr>\n",
              "\t<tr><td>2013</td><td>9</td><td>25</td><td>  NA</td><td>1559</td><td> NA</td><td>  NA</td><td>1719</td><td>NA</td><td>MQ</td><td>3748</td><td>N530MQ</td><td>EWR</td><td>ORD</td><td>NA</td><td> 719</td><td>15</td><td>59</td><td>2013-09-25 15:00:00</td></tr>\n",
              "\t<tr><td>2013</td><td>9</td><td>26</td><td>1331</td><td>1329</td><td>  2</td><td>1923</td><td>1813</td><td>NA</td><td>UA</td><td>  15</td><td>N67052</td><td>EWR</td><td>HNL</td><td>NA</td><td>4963</td><td>13</td><td>29</td><td>2013-09-26 13:00:00</td></tr>\n",
              "\t<tr><td>2013</td><td>9</td><td>26</td><td>  NA</td><td> 915</td><td> NA</td><td>  NA</td><td>1141</td><td>NA</td><td>EV</td><td>5109</td><td>N748EV</td><td>LGA</td><td>CHS</td><td>NA</td><td> 641</td><td> 9</td><td>15</td><td>2013-09-26 09:00:00</td></tr>\n",
              "\t<tr><td>2013</td><td>9</td><td>26</td><td>  NA</td><td>1400</td><td> NA</td><td>  NA</td><td>1512</td><td>NA</td><td>US</td><td>2183</td><td>NA    </td><td>LGA</td><td>DCA</td><td>NA</td><td> 214</td><td>14</td><td> 0</td><td>2013-09-26 14:00:00</td></tr>\n",
              "\t<tr><td>2013</td><td>9</td><td>26</td><td>  NA</td><td>1240</td><td> NA</td><td>  NA</td><td>1525</td><td>NA</td><td>WN</td><td>4720</td><td>N691WN</td><td>EWR</td><td>HOU</td><td>NA</td><td>1411</td><td>12</td><td>40</td><td>2013-09-26 12:00:00</td></tr>\n",
              "\t<tr><td>2013</td><td>9</td><td>27</td><td>1332</td><td>1329</td><td>  3</td><td>1629</td><td>1509</td><td>NA</td><td>AA</td><td> 331</td><td>N565AA</td><td>LGA</td><td>ORD</td><td>NA</td><td> 733</td><td>13</td><td>29</td><td>2013-09-27 13:00:00</td></tr>\n",
              "\t<tr><td>2013</td><td>9</td><td>27</td><td>2253</td><td>1945</td><td>188</td><td>  NA</td><td>2146</td><td>NA</td><td>EV</td><td>5306</td><td>N605QX</td><td>LGA</td><td>GSO</td><td>NA</td><td> 461</td><td>19</td><td>45</td><td>2013-09-27 19:00:00</td></tr>\n",
              "\t<tr><td>2013</td><td>9</td><td>27</td><td>  NA</td><td> 600</td><td> NA</td><td>  NA</td><td> 730</td><td>NA</td><td>AA</td><td> 301</td><td>N584AA</td><td>LGA</td><td>ORD</td><td>NA</td><td> 733</td><td> 6</td><td> 0</td><td>2013-09-27 06:00:00</td></tr>\n",
              "\t<tr><td>2013</td><td>9</td><td>27</td><td>  NA</td><td>2100</td><td> NA</td><td>  NA</td><td>2211</td><td>NA</td><td>US</td><td>2164</td><td>NA    </td><td>LGA</td><td>BOS</td><td>NA</td><td> 184</td><td>21</td><td> 0</td><td>2013-09-27 21:00:00</td></tr>\n",
              "\t<tr><td>2013</td><td>9</td><td>27</td><td>  NA</td><td>1329</td><td> NA</td><td>  NA</td><td>1444</td><td>NA</td><td>MQ</td><td>3760</td><td>N505MQ</td><td>EWR</td><td>ORD</td><td>NA</td><td> 719</td><td>13</td><td>29</td><td>2013-09-27 13:00:00</td></tr>\n",
              "\t<tr><td>2013</td><td>9</td><td>27</td><td>  NA</td><td>1600</td><td> NA</td><td>  NA</td><td>1739</td><td>NA</td><td>UA</td><td> 269</td><td>NA    </td><td>LGA</td><td>ORD</td><td>NA</td><td> 733</td><td>16</td><td> 0</td><td>2013-09-27 16:00:00</td></tr>\n",
              "\t<tr><td>2013</td><td>9</td><td>28</td><td> 555</td><td> 600</td><td> -5</td><td> 953</td><td> 753</td><td>NA</td><td>EV</td><td>5068</td><td>N133EV</td><td>EWR</td><td>DTW</td><td>NA</td><td> 488</td><td> 6</td><td> 0</td><td>2013-09-28 06:00:00</td></tr>\n",
              "\t<tr><td>2013</td><td>9</td><td>28</td><td> 847</td><td> 839</td><td>  8</td><td>1130</td><td> 959</td><td>NA</td><td>EV</td><td>4510</td><td>N14542</td><td>EWR</td><td>MKE</td><td>NA</td><td> 725</td><td> 8</td><td>39</td><td>2013-09-28 08:00:00</td></tr>\n",
              "\t<tr><td>2013</td><td>9</td><td>28</td><td>1010</td><td>1020</td><td>-10</td><td>1344</td><td>1222</td><td>NA</td><td>EV</td><td>4412</td><td>N12175</td><td>EWR</td><td>DSM</td><td>NA</td><td>1017</td><td>10</td><td>20</td><td>2013-09-28 10:00:00</td></tr>\n",
              "\t<tr><td>2013</td><td>9</td><td>28</td><td>1214</td><td>1225</td><td>-11</td><td>1801</td><td>1510</td><td>NA</td><td>AA</td><td> 300</td><td>N488AA</td><td>EWR</td><td>DFW</td><td>NA</td><td>1372</td><td>12</td><td>25</td><td>2013-09-28 12:00:00</td></tr>\n",
              "\t<tr><td>2013</td><td>9</td><td>28</td><td>  NA</td><td>1803</td><td> NA</td><td>  NA</td><td>1927</td><td>NA</td><td>EV</td><td>5563</td><td>N724EV</td><td>LGA</td><td>BTV</td><td>NA</td><td> 258</td><td>18</td><td> 3</td><td>2013-09-28 18:00:00</td></tr>\n",
              "\t<tr><td>2013</td><td>9</td><td>28</td><td>  NA</td><td> 910</td><td> NA</td><td>  NA</td><td>1220</td><td>NA</td><td>AA</td><td>   1</td><td>N320AA</td><td>JFK</td><td>LAX</td><td>NA</td><td>2475</td><td> 9</td><td>10</td><td>2013-09-28 09:00:00</td></tr>\n",
              "\t<tr><td>2013</td><td>9</td><td>28</td><td>  NA</td><td>1635</td><td> NA</td><td>  NA</td><td>1827</td><td>NA</td><td>US</td><td> 581</td><td>NA    </td><td>EWR</td><td>CLT</td><td>NA</td><td> 529</td><td>16</td><td>35</td><td>2013-09-28 16:00:00</td></tr>\n",
              "\t<tr><td>2013</td><td>9</td><td>29</td><td>1734</td><td>1711</td><td> 23</td><td>2159</td><td>2020</td><td>NA</td><td>UA</td><td> 327</td><td>N463UA</td><td>EWR</td><td>PDX</td><td>NA</td><td>2434</td><td>17</td><td>11</td><td>2013-09-29 17:00:00</td></tr>\n",
              "\t<tr><td>2013</td><td>9</td><td>29</td><td>  NA</td><td>2054</td><td> NA</td><td>  NA</td><td>2302</td><td>NA</td><td>EV</td><td>4536</td><td>N13988</td><td>EWR</td><td>CVG</td><td>NA</td><td> 569</td><td>20</td><td>54</td><td>2013-09-29 20:00:00</td></tr>\n",
              "\t<tr><td>2013</td><td>9</td><td>29</td><td>  NA</td><td>1830</td><td> NA</td><td>  NA</td><td>2010</td><td>NA</td><td>MQ</td><td>3134</td><td>N508MQ</td><td>EWR</td><td>ORD</td><td>NA</td><td> 719</td><td>18</td><td>30</td><td>2013-09-29 18:00:00</td></tr>\n",
              "\t<tr><td>2013</td><td>9</td><td>29</td><td>  NA</td><td> 700</td><td> NA</td><td>  NA</td><td> 833</td><td>NA</td><td>UA</td><td> 331</td><td>NA    </td><td>LGA</td><td>ORD</td><td>NA</td><td> 733</td><td> 7</td><td> 0</td><td>2013-09-29 07:00:00</td></tr>\n",
              "\t<tr><td>2013</td><td>9</td><td>30</td><td> 559</td><td> 600</td><td> -1</td><td>  NA</td><td> 715</td><td>NA</td><td>WN</td><td> 464</td><td>N411WN</td><td>EWR</td><td>MDW</td><td>NA</td><td> 711</td><td> 6</td><td> 0</td><td>2013-09-30 06:00:00</td></tr>\n",
              "\t<tr><td>2013</td><td>9</td><td>30</td><td>  NA</td><td>1842</td><td> NA</td><td>  NA</td><td>2019</td><td>NA</td><td>EV</td><td>5274</td><td>N740EV</td><td>LGA</td><td>BNA</td><td>NA</td><td> 764</td><td>18</td><td>42</td><td>2013-09-30 18:00:00</td></tr>\n",
              "\t<tr><td>2013</td><td>9</td><td>30</td><td>  NA</td><td>1455</td><td> NA</td><td>  NA</td><td>1634</td><td>NA</td><td>9E</td><td>3393</td><td>NA    </td><td>JFK</td><td>DCA</td><td>NA</td><td> 213</td><td>14</td><td>55</td><td>2013-09-30 14:00:00</td></tr>\n",
              "\t<tr><td>2013</td><td>9</td><td>30</td><td>  NA</td><td>2200</td><td> NA</td><td>  NA</td><td>2312</td><td>NA</td><td>9E</td><td>3525</td><td>NA    </td><td>LGA</td><td>SYR</td><td>NA</td><td> 198</td><td>22</td><td> 0</td><td>2013-09-30 22:00:00</td></tr>\n",
              "\t<tr><td>2013</td><td>9</td><td>30</td><td>  NA</td><td>1210</td><td> NA</td><td>  NA</td><td>1330</td><td>NA</td><td>MQ</td><td>3461</td><td>N535MQ</td><td>LGA</td><td>BNA</td><td>NA</td><td> 764</td><td>12</td><td>10</td><td>2013-09-30 12:00:00</td></tr>\n",
              "\t<tr><td>2013</td><td>9</td><td>30</td><td>  NA</td><td>1159</td><td> NA</td><td>  NA</td><td>1344</td><td>NA</td><td>MQ</td><td>3572</td><td>N511MQ</td><td>LGA</td><td>CLE</td><td>NA</td><td> 419</td><td>11</td><td>59</td><td>2013-09-30 11:00:00</td></tr>\n",
              "\t<tr><td>2013</td><td>9</td><td>30</td><td>  NA</td><td> 840</td><td> NA</td><td>  NA</td><td>1020</td><td>NA</td><td>MQ</td><td>3531</td><td>N839MQ</td><td>LGA</td><td>RDU</td><td>NA</td><td> 431</td><td> 8</td><td>40</td><td>2013-09-30 08:00:00</td></tr>\n",
              "</tbody>\n",
              "</table>\n"
            ]
          },
          "metadata": {}
        }
      ]
    },
    {
      "cell_type": "markdown",
      "metadata": {
        "id": "xsoWBh9UkVsS"
      },
      "source": [
        "### Select"
      ]
    },
    {
      "cell_type": "markdown",
      "metadata": {
        "id": "woDBDloZkYq5"
      },
      "source": [
        "Nos permite elegir un subconjunto de variables"
      ]
    },
    {
      "cell_type": "code",
      "metadata": {
        "colab": {
          "base_uri": "https://localhost:8080/"
        },
        "id": "44eogbPikLOy",
        "outputId": "1bbabae6-842b-4906-84f7-393d478bc8e7"
      },
      "source": [
        "flights_select <- select(flights, year,month,day,arr_delay)\n",
        "head(flights_select)"
      ],
      "execution_count": null,
      "outputs": [
        {
          "output_type": "display_data",
          "data": {
            "text/plain": [
              "  year month day arr_delay\n",
              "1 2013 1     1    11      \n",
              "2 2013 1     1    20      \n",
              "3 2013 1     1    33      \n",
              "4 2013 1     1   -18      \n",
              "5 2013 1     1   -25      \n",
              "6 2013 1     1    12      "
            ],
            "text/latex": "A tibble: 6 × 4\n\\begin{tabular}{llll}\n year & month & day & arr\\_delay\\\\\n <int> & <int> & <int> & <dbl>\\\\\n\\hline\n\t 2013 & 1 & 1 &  11\\\\\n\t 2013 & 1 & 1 &  20\\\\\n\t 2013 & 1 & 1 &  33\\\\\n\t 2013 & 1 & 1 & -18\\\\\n\t 2013 & 1 & 1 & -25\\\\\n\t 2013 & 1 & 1 &  12\\\\\n\\end{tabular}\n",
            "text/markdown": "\nA tibble: 6 × 4\n\n| year &lt;int&gt; | month &lt;int&gt; | day &lt;int&gt; | arr_delay &lt;dbl&gt; |\n|---|---|---|---|\n| 2013 | 1 | 1 |  11 |\n| 2013 | 1 | 1 |  20 |\n| 2013 | 1 | 1 |  33 |\n| 2013 | 1 | 1 | -18 |\n| 2013 | 1 | 1 | -25 |\n| 2013 | 1 | 1 |  12 |\n\n",
            "text/html": [
              "<table class=\"dataframe\">\n",
              "<caption>A tibble: 6 × 4</caption>\n",
              "<thead>\n",
              "\t<tr><th scope=col>year</th><th scope=col>month</th><th scope=col>day</th><th scope=col>arr_delay</th></tr>\n",
              "\t<tr><th scope=col>&lt;int&gt;</th><th scope=col>&lt;int&gt;</th><th scope=col>&lt;int&gt;</th><th scope=col>&lt;dbl&gt;</th></tr>\n",
              "</thead>\n",
              "<tbody>\n",
              "\t<tr><td>2013</td><td>1</td><td>1</td><td> 11</td></tr>\n",
              "\t<tr><td>2013</td><td>1</td><td>1</td><td> 20</td></tr>\n",
              "\t<tr><td>2013</td><td>1</td><td>1</td><td> 33</td></tr>\n",
              "\t<tr><td>2013</td><td>1</td><td>1</td><td>-18</td></tr>\n",
              "\t<tr><td>2013</td><td>1</td><td>1</td><td>-25</td></tr>\n",
              "\t<tr><td>2013</td><td>1</td><td>1</td><td> 12</td></tr>\n",
              "</tbody>\n",
              "</table>\n"
            ]
          },
          "metadata": {}
        }
      ]
    },
    {
      "cell_type": "code",
      "metadata": {
        "colab": {
          "base_uri": "https://localhost:8080/"
        },
        "id": "mGoJ8DDPkLMU",
        "outputId": "ef0b0d9f-2437-4e12-ec04-a1af0092426a"
      },
      "source": [
        "flights_select <- select(flights, c(year,month,day,arr_delay))\n",
        "head(flights_select)"
      ],
      "execution_count": null,
      "outputs": [
        {
          "output_type": "display_data",
          "data": {
            "text/plain": [
              "  year month day arr_delay\n",
              "1 2013 1     1    11      \n",
              "2 2013 1     1    20      \n",
              "3 2013 1     1    33      \n",
              "4 2013 1     1   -18      \n",
              "5 2013 1     1   -25      \n",
              "6 2013 1     1    12      "
            ],
            "text/latex": "A tibble: 6 × 4\n\\begin{tabular}{llll}\n year & month & day & arr\\_delay\\\\\n <int> & <int> & <int> & <dbl>\\\\\n\\hline\n\t 2013 & 1 & 1 &  11\\\\\n\t 2013 & 1 & 1 &  20\\\\\n\t 2013 & 1 & 1 &  33\\\\\n\t 2013 & 1 & 1 & -18\\\\\n\t 2013 & 1 & 1 & -25\\\\\n\t 2013 & 1 & 1 &  12\\\\\n\\end{tabular}\n",
            "text/markdown": "\nA tibble: 6 × 4\n\n| year &lt;int&gt; | month &lt;int&gt; | day &lt;int&gt; | arr_delay &lt;dbl&gt; |\n|---|---|---|---|\n| 2013 | 1 | 1 |  11 |\n| 2013 | 1 | 1 |  20 |\n| 2013 | 1 | 1 |  33 |\n| 2013 | 1 | 1 | -18 |\n| 2013 | 1 | 1 | -25 |\n| 2013 | 1 | 1 |  12 |\n\n",
            "text/html": [
              "<table class=\"dataframe\">\n",
              "<caption>A tibble: 6 × 4</caption>\n",
              "<thead>\n",
              "\t<tr><th scope=col>year</th><th scope=col>month</th><th scope=col>day</th><th scope=col>arr_delay</th></tr>\n",
              "\t<tr><th scope=col>&lt;int&gt;</th><th scope=col>&lt;int&gt;</th><th scope=col>&lt;int&gt;</th><th scope=col>&lt;dbl&gt;</th></tr>\n",
              "</thead>\n",
              "<tbody>\n",
              "\t<tr><td>2013</td><td>1</td><td>1</td><td> 11</td></tr>\n",
              "\t<tr><td>2013</td><td>1</td><td>1</td><td> 20</td></tr>\n",
              "\t<tr><td>2013</td><td>1</td><td>1</td><td> 33</td></tr>\n",
              "\t<tr><td>2013</td><td>1</td><td>1</td><td>-18</td></tr>\n",
              "\t<tr><td>2013</td><td>1</td><td>1</td><td>-25</td></tr>\n",
              "\t<tr><td>2013</td><td>1</td><td>1</td><td> 12</td></tr>\n",
              "</tbody>\n",
              "</table>\n"
            ]
          },
          "metadata": {}
        }
      ]
    },
    {
      "cell_type": "code",
      "metadata": {
        "colab": {
          "base_uri": "https://localhost:8080/"
        },
        "id": "l-uZDNEbkLJc",
        "outputId": "89b3f117-b8c9-423f-9189-abce9fd3e978"
      },
      "source": [
        "flights_select <- select(flights, (1:4))\n",
        "head(flights_select)"
      ],
      "execution_count": null,
      "outputs": [
        {
          "output_type": "display_data",
          "data": {
            "text/plain": [
              "  year month day dep_time\n",
              "1 2013 1     1   517     \n",
              "2 2013 1     1   533     \n",
              "3 2013 1     1   542     \n",
              "4 2013 1     1   544     \n",
              "5 2013 1     1   554     \n",
              "6 2013 1     1   554     "
            ],
            "text/latex": "A tibble: 6 × 4\n\\begin{tabular}{llll}\n year & month & day & dep\\_time\\\\\n <int> & <int> & <int> & <int>\\\\\n\\hline\n\t 2013 & 1 & 1 & 517\\\\\n\t 2013 & 1 & 1 & 533\\\\\n\t 2013 & 1 & 1 & 542\\\\\n\t 2013 & 1 & 1 & 544\\\\\n\t 2013 & 1 & 1 & 554\\\\\n\t 2013 & 1 & 1 & 554\\\\\n\\end{tabular}\n",
            "text/markdown": "\nA tibble: 6 × 4\n\n| year &lt;int&gt; | month &lt;int&gt; | day &lt;int&gt; | dep_time &lt;int&gt; |\n|---|---|---|---|\n| 2013 | 1 | 1 | 517 |\n| 2013 | 1 | 1 | 533 |\n| 2013 | 1 | 1 | 542 |\n| 2013 | 1 | 1 | 544 |\n| 2013 | 1 | 1 | 554 |\n| 2013 | 1 | 1 | 554 |\n\n",
            "text/html": [
              "<table class=\"dataframe\">\n",
              "<caption>A tibble: 6 × 4</caption>\n",
              "<thead>\n",
              "\t<tr><th scope=col>year</th><th scope=col>month</th><th scope=col>day</th><th scope=col>dep_time</th></tr>\n",
              "\t<tr><th scope=col>&lt;int&gt;</th><th scope=col>&lt;int&gt;</th><th scope=col>&lt;int&gt;</th><th scope=col>&lt;int&gt;</th></tr>\n",
              "</thead>\n",
              "<tbody>\n",
              "\t<tr><td>2013</td><td>1</td><td>1</td><td>517</td></tr>\n",
              "\t<tr><td>2013</td><td>1</td><td>1</td><td>533</td></tr>\n",
              "\t<tr><td>2013</td><td>1</td><td>1</td><td>542</td></tr>\n",
              "\t<tr><td>2013</td><td>1</td><td>1</td><td>544</td></tr>\n",
              "\t<tr><td>2013</td><td>1</td><td>1</td><td>554</td></tr>\n",
              "\t<tr><td>2013</td><td>1</td><td>1</td><td>554</td></tr>\n",
              "</tbody>\n",
              "</table>\n"
            ]
          },
          "metadata": {}
        }
      ]
    },
    {
      "cell_type": "markdown",
      "metadata": {
        "id": "WU2f5PfSk8MQ"
      },
      "source": [
        "### Mutate"
      ]
    },
    {
      "cell_type": "markdown",
      "metadata": {
        "id": "1-OCuY5pk9aA"
      },
      "source": [
        "Nos permite agregar nuevas variables"
      ]
    },
    {
      "cell_type": "code",
      "metadata": {
        "colab": {
          "base_uri": "https://localhost:8080/"
        },
        "id": "H1ei_kagk8FU",
        "outputId": "aac34cd2-851b-4b74-95f3-f35c2b9c0c35"
      },
      "source": [
        "flights_mutate <- select(flights, year:day, ends_with(\"delay\"), distance, air_time)\n",
        "head(flights_mutate)"
      ],
      "execution_count": null,
      "outputs": [
        {
          "output_type": "display_data",
          "data": {
            "text/plain": [
              "  year month day dep_delay arr_delay distance air_time\n",
              "1 2013 1     1    2         11       1400     227     \n",
              "2 2013 1     1    4         20       1416     227     \n",
              "3 2013 1     1    2         33       1089     160     \n",
              "4 2013 1     1   -1        -18       1576     183     \n",
              "5 2013 1     1   -6        -25        762     116     \n",
              "6 2013 1     1   -4         12        719     150     "
            ],
            "text/latex": "A tibble: 6 × 7\n\\begin{tabular}{lllllll}\n year & month & day & dep\\_delay & arr\\_delay & distance & air\\_time\\\\\n <int> & <int> & <int> & <dbl> & <dbl> & <dbl> & <dbl>\\\\\n\\hline\n\t 2013 & 1 & 1 &  2 &  11 & 1400 & 227\\\\\n\t 2013 & 1 & 1 &  4 &  20 & 1416 & 227\\\\\n\t 2013 & 1 & 1 &  2 &  33 & 1089 & 160\\\\\n\t 2013 & 1 & 1 & -1 & -18 & 1576 & 183\\\\\n\t 2013 & 1 & 1 & -6 & -25 &  762 & 116\\\\\n\t 2013 & 1 & 1 & -4 &  12 &  719 & 150\\\\\n\\end{tabular}\n",
            "text/markdown": "\nA tibble: 6 × 7\n\n| year &lt;int&gt; | month &lt;int&gt; | day &lt;int&gt; | dep_delay &lt;dbl&gt; | arr_delay &lt;dbl&gt; | distance &lt;dbl&gt; | air_time &lt;dbl&gt; |\n|---|---|---|---|---|---|---|\n| 2013 | 1 | 1 |  2 |  11 | 1400 | 227 |\n| 2013 | 1 | 1 |  4 |  20 | 1416 | 227 |\n| 2013 | 1 | 1 |  2 |  33 | 1089 | 160 |\n| 2013 | 1 | 1 | -1 | -18 | 1576 | 183 |\n| 2013 | 1 | 1 | -6 | -25 |  762 | 116 |\n| 2013 | 1 | 1 | -4 |  12 |  719 | 150 |\n\n",
            "text/html": [
              "<table class=\"dataframe\">\n",
              "<caption>A tibble: 6 × 7</caption>\n",
              "<thead>\n",
              "\t<tr><th scope=col>year</th><th scope=col>month</th><th scope=col>day</th><th scope=col>dep_delay</th><th scope=col>arr_delay</th><th scope=col>distance</th><th scope=col>air_time</th></tr>\n",
              "\t<tr><th scope=col>&lt;int&gt;</th><th scope=col>&lt;int&gt;</th><th scope=col>&lt;int&gt;</th><th scope=col>&lt;dbl&gt;</th><th scope=col>&lt;dbl&gt;</th><th scope=col>&lt;dbl&gt;</th><th scope=col>&lt;dbl&gt;</th></tr>\n",
              "</thead>\n",
              "<tbody>\n",
              "\t<tr><td>2013</td><td>1</td><td>1</td><td> 2</td><td> 11</td><td>1400</td><td>227</td></tr>\n",
              "\t<tr><td>2013</td><td>1</td><td>1</td><td> 4</td><td> 20</td><td>1416</td><td>227</td></tr>\n",
              "\t<tr><td>2013</td><td>1</td><td>1</td><td> 2</td><td> 33</td><td>1089</td><td>160</td></tr>\n",
              "\t<tr><td>2013</td><td>1</td><td>1</td><td>-1</td><td>-18</td><td>1576</td><td>183</td></tr>\n",
              "\t<tr><td>2013</td><td>1</td><td>1</td><td>-6</td><td>-25</td><td> 762</td><td>116</td></tr>\n",
              "\t<tr><td>2013</td><td>1</td><td>1</td><td>-4</td><td> 12</td><td> 719</td><td>150</td></tr>\n",
              "</tbody>\n",
              "</table>\n"
            ]
          },
          "metadata": {}
        }
      ]
    },
    {
      "cell_type": "code",
      "metadata": {
        "colab": {
          "base_uri": "https://localhost:8080/"
        },
        "id": "yMNWS8Etk8Cm",
        "outputId": "fed9f3b7-b629-49e5-af08-6354fbd7a726"
      },
      "source": [
        "flights_mutate <- mutate(flights_mutate, tot_delay = arr_delay + dep_delay, speed = distance / air_time * 60)\n",
        "head(flights_mutate)"
      ],
      "execution_count": null,
      "outputs": [
        {
          "output_type": "display_data",
          "data": {
            "text/plain": [
              "  year month day dep_delay arr_delay distance air_time tot_delay speed   \n",
              "1 2013 1     1    2         11       1400     227       13       370.0441\n",
              "2 2013 1     1    4         20       1416     227       24       374.2731\n",
              "3 2013 1     1    2         33       1089     160       35       408.3750\n",
              "4 2013 1     1   -1        -18       1576     183      -19       516.7213\n",
              "5 2013 1     1   -6        -25        762     116      -31       394.1379\n",
              "6 2013 1     1   -4         12        719     150        8       287.6000"
            ],
            "text/latex": "A tibble: 6 × 9\n\\begin{tabular}{lllllllll}\n year & month & day & dep\\_delay & arr\\_delay & distance & air\\_time & tot\\_delay & speed\\\\\n <int> & <int> & <int> & <dbl> & <dbl> & <dbl> & <dbl> & <dbl> & <dbl>\\\\\n\\hline\n\t 2013 & 1 & 1 &  2 &  11 & 1400 & 227 &  13 & 370.0441\\\\\n\t 2013 & 1 & 1 &  4 &  20 & 1416 & 227 &  24 & 374.2731\\\\\n\t 2013 & 1 & 1 &  2 &  33 & 1089 & 160 &  35 & 408.3750\\\\\n\t 2013 & 1 & 1 & -1 & -18 & 1576 & 183 & -19 & 516.7213\\\\\n\t 2013 & 1 & 1 & -6 & -25 &  762 & 116 & -31 & 394.1379\\\\\n\t 2013 & 1 & 1 & -4 &  12 &  719 & 150 &   8 & 287.6000\\\\\n\\end{tabular}\n",
            "text/markdown": "\nA tibble: 6 × 9\n\n| year &lt;int&gt; | month &lt;int&gt; | day &lt;int&gt; | dep_delay &lt;dbl&gt; | arr_delay &lt;dbl&gt; | distance &lt;dbl&gt; | air_time &lt;dbl&gt; | tot_delay &lt;dbl&gt; | speed &lt;dbl&gt; |\n|---|---|---|---|---|---|---|---|---|\n| 2013 | 1 | 1 |  2 |  11 | 1400 | 227 |  13 | 370.0441 |\n| 2013 | 1 | 1 |  4 |  20 | 1416 | 227 |  24 | 374.2731 |\n| 2013 | 1 | 1 |  2 |  33 | 1089 | 160 |  35 | 408.3750 |\n| 2013 | 1 | 1 | -1 | -18 | 1576 | 183 | -19 | 516.7213 |\n| 2013 | 1 | 1 | -6 | -25 |  762 | 116 | -31 | 394.1379 |\n| 2013 | 1 | 1 | -4 |  12 |  719 | 150 |   8 | 287.6000 |\n\n",
            "text/html": [
              "<table class=\"dataframe\">\n",
              "<caption>A tibble: 6 × 9</caption>\n",
              "<thead>\n",
              "\t<tr><th scope=col>year</th><th scope=col>month</th><th scope=col>day</th><th scope=col>dep_delay</th><th scope=col>arr_delay</th><th scope=col>distance</th><th scope=col>air_time</th><th scope=col>tot_delay</th><th scope=col>speed</th></tr>\n",
              "\t<tr><th scope=col>&lt;int&gt;</th><th scope=col>&lt;int&gt;</th><th scope=col>&lt;int&gt;</th><th scope=col>&lt;dbl&gt;</th><th scope=col>&lt;dbl&gt;</th><th scope=col>&lt;dbl&gt;</th><th scope=col>&lt;dbl&gt;</th><th scope=col>&lt;dbl&gt;</th><th scope=col>&lt;dbl&gt;</th></tr>\n",
              "</thead>\n",
              "<tbody>\n",
              "\t<tr><td>2013</td><td>1</td><td>1</td><td> 2</td><td> 11</td><td>1400</td><td>227</td><td> 13</td><td>370.0441</td></tr>\n",
              "\t<tr><td>2013</td><td>1</td><td>1</td><td> 4</td><td> 20</td><td>1416</td><td>227</td><td> 24</td><td>374.2731</td></tr>\n",
              "\t<tr><td>2013</td><td>1</td><td>1</td><td> 2</td><td> 33</td><td>1089</td><td>160</td><td> 35</td><td>408.3750</td></tr>\n",
              "\t<tr><td>2013</td><td>1</td><td>1</td><td>-1</td><td>-18</td><td>1576</td><td>183</td><td>-19</td><td>516.7213</td></tr>\n",
              "\t<tr><td>2013</td><td>1</td><td>1</td><td>-6</td><td>-25</td><td> 762</td><td>116</td><td>-31</td><td>394.1379</td></tr>\n",
              "\t<tr><td>2013</td><td>1</td><td>1</td><td>-4</td><td> 12</td><td> 719</td><td>150</td><td>  8</td><td>287.6000</td></tr>\n",
              "</tbody>\n",
              "</table>\n"
            ]
          },
          "metadata": {}
        }
      ]
    },
    {
      "cell_type": "markdown",
      "metadata": {
        "id": "wUsSulLimMnU"
      },
      "source": [
        "### Summarize"
      ]
    },
    {
      "cell_type": "markdown",
      "metadata": {
        "id": "nWCH6_2PmOi5"
      },
      "source": [
        "Nos permite resumir nuestros datos, se utiliza en conjunto con group_by"
      ]
    },
    {
      "cell_type": "code",
      "metadata": {
        "id": "DiIOOY2kk798"
      },
      "source": [
        "flights_summarize <- group_by(flights, year, month, day)"
      ],
      "execution_count": null,
      "outputs": []
    },
    {
      "cell_type": "markdown",
      "metadata": {
        "id": "aX3SwyTxnEvt"
      },
      "source": [
        "na.rm nos permite rápidamente sacar los datos nulos"
      ]
    },
    {
      "cell_type": "code",
      "metadata": {
        "colab": {
          "base_uri": "https://localhost:8080/"
        },
        "id": "KUIIJS6Bk77L",
        "outputId": "8b4ab5e8-57fe-4d95-90c6-56b8acf11c93"
      },
      "source": [
        "flights_summarize <- summarize(flights_summarize, delay = mean(dep_delay, na.rm = TRUE))\n",
        "head(flights_summarize)"
      ],
      "execution_count": null,
      "outputs": [
        {
          "output_type": "stream",
          "text": [
            "`summarise()` has grouped output by 'year', 'month'. You can override using the `.groups` argument.\n",
            "\n"
          ],
          "name": "stderr"
        },
        {
          "output_type": "display_data",
          "data": {
            "text/plain": [
              "  year month day delay    \n",
              "1 2013 1     1   11.548926\n",
              "2 2013 1     2   13.858824\n",
              "3 2013 1     3   10.987832\n",
              "4 2013 1     4    8.951595\n",
              "5 2013 1     5    5.732218\n",
              "6 2013 1     6    7.148014"
            ],
            "text/latex": "A grouped\\_df: 6 × 4\n\\begin{tabular}{llll}\n year & month & day & delay\\\\\n <int> & <int> & <int> & <dbl>\\\\\n\\hline\n\t 2013 & 1 & 1 & 11.548926\\\\\n\t 2013 & 1 & 2 & 13.858824\\\\\n\t 2013 & 1 & 3 & 10.987832\\\\\n\t 2013 & 1 & 4 &  8.951595\\\\\n\t 2013 & 1 & 5 &  5.732218\\\\\n\t 2013 & 1 & 6 &  7.148014\\\\\n\\end{tabular}\n",
            "text/markdown": "\nA grouped_df: 6 × 4\n\n| year &lt;int&gt; | month &lt;int&gt; | day &lt;int&gt; | delay &lt;dbl&gt; |\n|---|---|---|---|\n| 2013 | 1 | 1 | 11.548926 |\n| 2013 | 1 | 2 | 13.858824 |\n| 2013 | 1 | 3 | 10.987832 |\n| 2013 | 1 | 4 |  8.951595 |\n| 2013 | 1 | 5 |  5.732218 |\n| 2013 | 1 | 6 |  7.148014 |\n\n",
            "text/html": [
              "<table class=\"dataframe\">\n",
              "<caption>A grouped_df: 6 × 4</caption>\n",
              "<thead>\n",
              "\t<tr><th scope=col>year</th><th scope=col>month</th><th scope=col>day</th><th scope=col>delay</th></tr>\n",
              "\t<tr><th scope=col>&lt;int&gt;</th><th scope=col>&lt;int&gt;</th><th scope=col>&lt;int&gt;</th><th scope=col>&lt;dbl&gt;</th></tr>\n",
              "</thead>\n",
              "<tbody>\n",
              "\t<tr><td>2013</td><td>1</td><td>1</td><td>11.548926</td></tr>\n",
              "\t<tr><td>2013</td><td>1</td><td>2</td><td>13.858824</td></tr>\n",
              "\t<tr><td>2013</td><td>1</td><td>3</td><td>10.987832</td></tr>\n",
              "\t<tr><td>2013</td><td>1</td><td>4</td><td> 8.951595</td></tr>\n",
              "\t<tr><td>2013</td><td>1</td><td>5</td><td> 5.732218</td></tr>\n",
              "\t<tr><td>2013</td><td>1</td><td>6</td><td> 7.148014</td></tr>\n",
              "</tbody>\n",
              "</table>\n"
            ]
          },
          "metadata": {}
        }
      ]
    },
    {
      "cell_type": "code",
      "metadata": {
        "colab": {
          "base_uri": "https://localhost:8080/"
        },
        "id": "eKS4MPsZkLGu",
        "outputId": "c9c08aed-cdc8-4e9f-ecea-e39caa7df97b"
      },
      "source": [
        "flights_summarize <- group_by(flights, year, month, day) %>% summarize(flights_summarize, delay = mean(dep_delay, na.rm = TRUE))\n",
        "head(flights_summarize)"
      ],
      "execution_count": null,
      "outputs": [
        {
          "output_type": "stream",
          "text": [
            "`summarise()` has grouped output by 'year', 'month', 'day'. You can override using the `.groups` argument.\n",
            "\n"
          ],
          "name": "stderr"
        },
        {
          "output_type": "display_data",
          "data": {
            "text/plain": [
              "  year month day delay   \n",
              "1 2013 1     1   11.54893\n",
              "2 2013 1     2   11.54893\n",
              "3 2013 1     3   11.54893\n",
              "4 2013 1     4   11.54893\n",
              "5 2013 1     5   11.54893\n",
              "6 2013 1     6   11.54893"
            ],
            "text/latex": "A grouped\\_df: 6 × 4\n\\begin{tabular}{llll}\n year & month & day & delay\\\\\n <int> & <int> & <int> & <dbl>\\\\\n\\hline\n\t 2013 & 1 & 1 & 11.54893\\\\\n\t 2013 & 1 & 2 & 11.54893\\\\\n\t 2013 & 1 & 3 & 11.54893\\\\\n\t 2013 & 1 & 4 & 11.54893\\\\\n\t 2013 & 1 & 5 & 11.54893\\\\\n\t 2013 & 1 & 6 & 11.54893\\\\\n\\end{tabular}\n",
            "text/markdown": "\nA grouped_df: 6 × 4\n\n| year &lt;int&gt; | month &lt;int&gt; | day &lt;int&gt; | delay &lt;dbl&gt; |\n|---|---|---|---|\n| 2013 | 1 | 1 | 11.54893 |\n| 2013 | 1 | 2 | 11.54893 |\n| 2013 | 1 | 3 | 11.54893 |\n| 2013 | 1 | 4 | 11.54893 |\n| 2013 | 1 | 5 | 11.54893 |\n| 2013 | 1 | 6 | 11.54893 |\n\n",
            "text/html": [
              "<table class=\"dataframe\">\n",
              "<caption>A grouped_df: 6 × 4</caption>\n",
              "<thead>\n",
              "\t<tr><th scope=col>year</th><th scope=col>month</th><th scope=col>day</th><th scope=col>delay</th></tr>\n",
              "\t<tr><th scope=col>&lt;int&gt;</th><th scope=col>&lt;int&gt;</th><th scope=col>&lt;int&gt;</th><th scope=col>&lt;dbl&gt;</th></tr>\n",
              "</thead>\n",
              "<tbody>\n",
              "\t<tr><td>2013</td><td>1</td><td>1</td><td>11.54893</td></tr>\n",
              "\t<tr><td>2013</td><td>1</td><td>2</td><td>11.54893</td></tr>\n",
              "\t<tr><td>2013</td><td>1</td><td>3</td><td>11.54893</td></tr>\n",
              "\t<tr><td>2013</td><td>1</td><td>4</td><td>11.54893</td></tr>\n",
              "\t<tr><td>2013</td><td>1</td><td>5</td><td>11.54893</td></tr>\n",
              "\t<tr><td>2013</td><td>1</td><td>6</td><td>11.54893</td></tr>\n",
              "</tbody>\n",
              "</table>\n"
            ]
          },
          "metadata": {}
        }
      ]
    },
    {
      "cell_type": "markdown",
      "metadata": {
        "id": "NdhdpT2dlMkW"
      },
      "source": [
        "### Pipe"
      ]
    },
    {
      "cell_type": "markdown",
      "metadata": {
        "id": "3TOpjuy1oKQb"
      },
      "source": [
        "Es un operador que nos permite encadenar una secuencia de cálculos por decir paso 1, luego paso 2, luego paso 3, con Pipe sería paso 1 %>% paso 2 %>% paso 3"
      ]
    },
    {
      "cell_type": "markdown",
      "metadata": {
        "id": "raXfBoGp0hDo"
      },
      "source": [
        "## tidyr"
      ]
    },
    {
      "cell_type": "markdown",
      "metadata": {
        "id": "yWDMgTxdlJJz"
      },
      "source": [
        "### Gather"
      ]
    },
    {
      "cell_type": "markdown",
      "metadata": {
        "id": "1OrZLmDsnXar"
      },
      "source": [
        "Esta función nos permite crear tablas con el formato tidy data para poder analizar correctamente la información. Básicamente, transponer de columnas a filas"
      ]
    },
    {
      "cell_type": "code",
      "metadata": {
        "id": "G3E8dN660kKL",
        "colab": {
          "base_uri": "https://localhost:8080/",
          "height": 223
        },
        "outputId": "ec52bae6-9f8c-4c54-db4a-2d30fd94d473"
      },
      "source": [
        "vta_pais <- tibble(pais = c(\"Argentina\", \"Nicaragua\", \"España\", \"Perú\"), \"2020\" = c(150,200,250,300), \"2021\" = c(500,600,700,800))\n",
        "vta_pais"
      ],
      "execution_count": null,
      "outputs": [
        {
          "output_type": "display_data",
          "data": {
            "text/plain": [
              "  pais      2020 2021\n",
              "1 Argentina 150  500 \n",
              "2 Nicaragua 200  600 \n",
              "3 España    250  700 \n",
              "4 Perú      300  800 "
            ],
            "text/latex": "A tibble: 4 × 3\n\\begin{tabular}{lll}\n pais & 2020 & 2021\\\\\n <chr> & <dbl> & <dbl>\\\\\n\\hline\n\t Argentina & 150 & 500\\\\\n\t Nicaragua & 200 & 600\\\\\n\t España    & 250 & 700\\\\\n\t Perú      & 300 & 800\\\\\n\\end{tabular}\n",
            "text/markdown": "\nA tibble: 4 × 3\n\n| pais &lt;chr&gt; | 2020 &lt;dbl&gt; | 2021 &lt;dbl&gt; |\n|---|---|---|\n| Argentina | 150 | 500 |\n| Nicaragua | 200 | 600 |\n| España    | 250 | 700 |\n| Perú      | 300 | 800 |\n\n",
            "text/html": [
              "<table class=\"dataframe\">\n",
              "<caption>A tibble: 4 × 3</caption>\n",
              "<thead>\n",
              "\t<tr><th scope=col>pais</th><th scope=col>2020</th><th scope=col>2021</th></tr>\n",
              "\t<tr><th scope=col>&lt;chr&gt;</th><th scope=col>&lt;dbl&gt;</th><th scope=col>&lt;dbl&gt;</th></tr>\n",
              "</thead>\n",
              "<tbody>\n",
              "\t<tr><td>Argentina</td><td>150</td><td>500</td></tr>\n",
              "\t<tr><td>Nicaragua</td><td>200</td><td>600</td></tr>\n",
              "\t<tr><td>España   </td><td>250</td><td>700</td></tr>\n",
              "\t<tr><td>Perú     </td><td>300</td><td>800</td></tr>\n",
              "</tbody>\n",
              "</table>\n"
            ]
          },
          "metadata": {}
        }
      ]
    },
    {
      "cell_type": "code",
      "metadata": {
        "colab": {
          "base_uri": "https://localhost:8080/",
          "height": 349
        },
        "id": "gN4-54bnm6UG",
        "outputId": "d5796bea-a0c0-40f7-f1fb-ff240dfa8601"
      },
      "source": [
        "vta_pais_tidy = vta_pais %>% gather(\"2020\", \"2021\", key = \"año\", value = \"venta\")\n",
        "vta_pais_tidy"
      ],
      "execution_count": null,
      "outputs": [
        {
          "output_type": "display_data",
          "data": {
            "text/plain": [
              "  pais      año  venta\n",
              "1 Argentina 2020 150  \n",
              "2 Nicaragua 2020 200  \n",
              "3 España    2020 250  \n",
              "4 Perú      2020 300  \n",
              "5 Argentina 2021 500  \n",
              "6 Nicaragua 2021 600  \n",
              "7 España    2021 700  \n",
              "8 Perú      2021 800  "
            ],
            "text/latex": "A tibble: 8 × 3\n\\begin{tabular}{lll}\n pais & año & venta\\\\\n <chr> & <chr> & <dbl>\\\\\n\\hline\n\t Argentina & 2020 & 150\\\\\n\t Nicaragua & 2020 & 200\\\\\n\t España    & 2020 & 250\\\\\n\t Perú      & 2020 & 300\\\\\n\t Argentina & 2021 & 500\\\\\n\t Nicaragua & 2021 & 600\\\\\n\t España    & 2021 & 700\\\\\n\t Perú      & 2021 & 800\\\\\n\\end{tabular}\n",
            "text/markdown": "\nA tibble: 8 × 3\n\n| pais &lt;chr&gt; | año &lt;chr&gt; | venta &lt;dbl&gt; |\n|---|---|---|\n| Argentina | 2020 | 150 |\n| Nicaragua | 2020 | 200 |\n| España    | 2020 | 250 |\n| Perú      | 2020 | 300 |\n| Argentina | 2021 | 500 |\n| Nicaragua | 2021 | 600 |\n| España    | 2021 | 700 |\n| Perú      | 2021 | 800 |\n\n",
            "text/html": [
              "<table class=\"dataframe\">\n",
              "<caption>A tibble: 8 × 3</caption>\n",
              "<thead>\n",
              "\t<tr><th scope=col>pais</th><th scope=col>año</th><th scope=col>venta</th></tr>\n",
              "\t<tr><th scope=col>&lt;chr&gt;</th><th scope=col>&lt;chr&gt;</th><th scope=col>&lt;dbl&gt;</th></tr>\n",
              "</thead>\n",
              "<tbody>\n",
              "\t<tr><td>Argentina</td><td>2020</td><td>150</td></tr>\n",
              "\t<tr><td>Nicaragua</td><td>2020</td><td>200</td></tr>\n",
              "\t<tr><td>España   </td><td>2020</td><td>250</td></tr>\n",
              "\t<tr><td>Perú     </td><td>2020</td><td>300</td></tr>\n",
              "\t<tr><td>Argentina</td><td>2021</td><td>500</td></tr>\n",
              "\t<tr><td>Nicaragua</td><td>2021</td><td>600</td></tr>\n",
              "\t<tr><td>España   </td><td>2021</td><td>700</td></tr>\n",
              "\t<tr><td>Perú     </td><td>2021</td><td>800</td></tr>\n",
              "</tbody>\n",
              "</table>\n"
            ]
          },
          "metadata": {}
        }
      ]
    },
    {
      "cell_type": "markdown",
      "metadata": {
        "id": "vce8S-5QnhMF"
      },
      "source": [
        "### spread"
      ]
    },
    {
      "cell_type": "markdown",
      "metadata": {
        "id": "S_GpcXHvn5iI"
      },
      "source": [
        "Es lo opuesto a gather"
      ]
    },
    {
      "cell_type": "code",
      "metadata": {
        "colab": {
          "base_uri": "https://localhost:8080/",
          "height": 223
        },
        "id": "pWrnf3lJnAjF",
        "outputId": "e7659f1b-77ea-4e29-e713-e8d1bc13160a"
      },
      "source": [
        "vta_pais_spread <- spread(vta_pais_tidy, key = \"año\", value = \"venta\")\n",
        "vta_pais_spread"
      ],
      "execution_count": null,
      "outputs": [
        {
          "output_type": "display_data",
          "data": {
            "text/plain": [
              "  pais      2020 2021\n",
              "1 Argentina 150  500 \n",
              "2 España    250  700 \n",
              "3 Nicaragua 200  600 \n",
              "4 Perú      300  800 "
            ],
            "text/latex": "A tibble: 4 × 3\n\\begin{tabular}{lll}\n pais & 2020 & 2021\\\\\n <chr> & <dbl> & <dbl>\\\\\n\\hline\n\t Argentina & 150 & 500\\\\\n\t España    & 250 & 700\\\\\n\t Nicaragua & 200 & 600\\\\\n\t Perú      & 300 & 800\\\\\n\\end{tabular}\n",
            "text/markdown": "\nA tibble: 4 × 3\n\n| pais &lt;chr&gt; | 2020 &lt;dbl&gt; | 2021 &lt;dbl&gt; |\n|---|---|---|\n| Argentina | 150 | 500 |\n| España    | 250 | 700 |\n| Nicaragua | 200 | 600 |\n| Perú      | 300 | 800 |\n\n",
            "text/html": [
              "<table class=\"dataframe\">\n",
              "<caption>A tibble: 4 × 3</caption>\n",
              "<thead>\n",
              "\t<tr><th scope=col>pais</th><th scope=col>2020</th><th scope=col>2021</th></tr>\n",
              "\t<tr><th scope=col>&lt;chr&gt;</th><th scope=col>&lt;dbl&gt;</th><th scope=col>&lt;dbl&gt;</th></tr>\n",
              "</thead>\n",
              "<tbody>\n",
              "\t<tr><td>Argentina</td><td>150</td><td>500</td></tr>\n",
              "\t<tr><td>España   </td><td>250</td><td>700</td></tr>\n",
              "\t<tr><td>Nicaragua</td><td>200</td><td>600</td></tr>\n",
              "\t<tr><td>Perú     </td><td>300</td><td>800</td></tr>\n",
              "</tbody>\n",
              "</table>\n"
            ]
          },
          "metadata": {}
        }
      ]
    },
    {
      "cell_type": "markdown",
      "metadata": {
        "id": "uTU15o7Qn9zH"
      },
      "source": [
        "### Separate"
      ]
    },
    {
      "cell_type": "code",
      "metadata": {
        "colab": {
          "base_uri": "https://localhost:8080/",
          "height": 223
        },
        "id": "R0AoyoMRnAgt",
        "outputId": "0a58da20-5a3c-43fe-c19e-ca7127cc2e01"
      },
      "source": [
        "separate_tb <- tibble(loc = c(\"Mendoza/Argentina\", \"Managua/Nicaragua\", \"Barcelona/Espana\", \"Cusco/Peru\"))\n",
        "separate_tb"
      ],
      "execution_count": null,
      "outputs": [
        {
          "output_type": "display_data",
          "data": {
            "text/plain": [
              "  loc              \n",
              "1 Mendoza/Argentina\n",
              "2 Managua/Nicaragua\n",
              "3 Barcelona/Espana \n",
              "4 Cusco/Peru       "
            ],
            "text/latex": "A tibble: 4 × 1\n\\begin{tabular}{l}\n loc\\\\\n <chr>\\\\\n\\hline\n\t Mendoza/Argentina\\\\\n\t Managua/Nicaragua\\\\\n\t Barcelona/Espana \\\\\n\t Cusco/Peru       \\\\\n\\end{tabular}\n",
            "text/markdown": "\nA tibble: 4 × 1\n\n| loc &lt;chr&gt; |\n|---|\n| Mendoza/Argentina |\n| Managua/Nicaragua |\n| Barcelona/Espana  |\n| Cusco/Peru        |\n\n",
            "text/html": [
              "<table class=\"dataframe\">\n",
              "<caption>A tibble: 4 × 1</caption>\n",
              "<thead>\n",
              "\t<tr><th scope=col>loc</th></tr>\n",
              "\t<tr><th scope=col>&lt;chr&gt;</th></tr>\n",
              "</thead>\n",
              "<tbody>\n",
              "\t<tr><td>Mendoza/Argentina</td></tr>\n",
              "\t<tr><td>Managua/Nicaragua</td></tr>\n",
              "\t<tr><td>Barcelona/Espana </td></tr>\n",
              "\t<tr><td>Cusco/Peru       </td></tr>\n",
              "</tbody>\n",
              "</table>\n"
            ]
          },
          "metadata": {}
        }
      ]
    },
    {
      "cell_type": "code",
      "metadata": {
        "colab": {
          "base_uri": "https://localhost:8080/",
          "height": 223
        },
        "id": "ebCyFXv7pL2i",
        "outputId": "942651aa-768d-444f-8ac4-dedb283d24de"
      },
      "source": [
        "separate_tb <- separate_tb %>% separate(loc, into = c(\"provincia\", \"pais\"))\n",
        "separate_tb"
      ],
      "execution_count": null,
      "outputs": [
        {
          "output_type": "display_data",
          "data": {
            "text/plain": [
              "  provincia pais     \n",
              "1 Mendoza   Argentina\n",
              "2 Managua   Nicaragua\n",
              "3 Barcelona Espana   \n",
              "4 Cusco     Peru     "
            ],
            "text/latex": "A tibble: 4 × 2\n\\begin{tabular}{ll}\n provincia & pais\\\\\n <chr> & <chr>\\\\\n\\hline\n\t Mendoza   & Argentina\\\\\n\t Managua   & Nicaragua\\\\\n\t Barcelona & Espana   \\\\\n\t Cusco     & Peru     \\\\\n\\end{tabular}\n",
            "text/markdown": "\nA tibble: 4 × 2\n\n| provincia &lt;chr&gt; | pais &lt;chr&gt; |\n|---|---|\n| Mendoza   | Argentina |\n| Managua   | Nicaragua |\n| Barcelona | Espana    |\n| Cusco     | Peru      |\n\n",
            "text/html": [
              "<table class=\"dataframe\">\n",
              "<caption>A tibble: 4 × 2</caption>\n",
              "<thead>\n",
              "\t<tr><th scope=col>provincia</th><th scope=col>pais</th></tr>\n",
              "\t<tr><th scope=col>&lt;chr&gt;</th><th scope=col>&lt;chr&gt;</th></tr>\n",
              "</thead>\n",
              "<tbody>\n",
              "\t<tr><td>Mendoza  </td><td>Argentina</td></tr>\n",
              "\t<tr><td>Managua  </td><td>Nicaragua</td></tr>\n",
              "\t<tr><td>Barcelona</td><td>Espana   </td></tr>\n",
              "\t<tr><td>Cusco    </td><td>Peru     </td></tr>\n",
              "</tbody>\n",
              "</table>\n"
            ]
          },
          "metadata": {}
        }
      ]
    },
    {
      "cell_type": "markdown",
      "metadata": {
        "id": "jD9O1gNNp23W"
      },
      "source": [
        "### unite"
      ]
    },
    {
      "cell_type": "code",
      "metadata": {
        "colab": {
          "base_uri": "https://localhost:8080/",
          "height": 223
        },
        "id": "NJnIZOEypLzt",
        "outputId": "c04d9029-afee-4fe8-9e68-b0b07079d068"
      },
      "source": [
        "unite_tb <- separate_tb %>% unite(loc, provincia, pais, sep = \"-\")\n",
        "unite_tb"
      ],
      "execution_count": null,
      "outputs": [
        {
          "output_type": "display_data",
          "data": {
            "text/plain": [
              "  loc              \n",
              "1 Mendoza-Argentina\n",
              "2 Managua-Nicaragua\n",
              "3 Barcelona-Espana \n",
              "4 Cusco-Peru       "
            ],
            "text/latex": "A tibble: 4 × 1\n\\begin{tabular}{l}\n loc\\\\\n <chr>\\\\\n\\hline\n\t Mendoza-Argentina\\\\\n\t Managua-Nicaragua\\\\\n\t Barcelona-Espana \\\\\n\t Cusco-Peru       \\\\\n\\end{tabular}\n",
            "text/markdown": "\nA tibble: 4 × 1\n\n| loc &lt;chr&gt; |\n|---|\n| Mendoza-Argentina |\n| Managua-Nicaragua |\n| Barcelona-Espana  |\n| Cusco-Peru        |\n\n",
            "text/html": [
              "<table class=\"dataframe\">\n",
              "<caption>A tibble: 4 × 1</caption>\n",
              "<thead>\n",
              "\t<tr><th scope=col>loc</th></tr>\n",
              "\t<tr><th scope=col>&lt;chr&gt;</th></tr>\n",
              "</thead>\n",
              "<tbody>\n",
              "\t<tr><td>Mendoza-Argentina</td></tr>\n",
              "\t<tr><td>Managua-Nicaragua</td></tr>\n",
              "\t<tr><td>Barcelona-Espana </td></tr>\n",
              "\t<tr><td>Cusco-Peru       </td></tr>\n",
              "</tbody>\n",
              "</table>\n"
            ]
          },
          "metadata": {}
        }
      ]
    },
    {
      "cell_type": "markdown",
      "metadata": {
        "id": "Y6G4EpSBquBE"
      },
      "source": [
        "### valores faltantes"
      ]
    },
    {
      "cell_type": "code",
      "metadata": {
        "colab": {
          "base_uri": "https://localhost:8080/",
          "height": 349
        },
        "id": "e9IdU9x3p9Gw",
        "outputId": "e3eb65c2-c980-4e07-cb06-e547bb85d397"
      },
      "source": [
        "stocks <- tibble(\n",
        "  year = c(2020,2020,2020,2020,2021,2021,2021,2021),\n",
        "  qtr = c(1,2,3,4,1,2,3,4),\n",
        "  valor = c(1.05,0.78,0.99,NA,1.54,1.02,1.15,0.95)\n",
        ")\n",
        "stocks"
      ],
      "execution_count": null,
      "outputs": [
        {
          "output_type": "display_data",
          "data": {
            "text/plain": [
              "  year qtr valor\n",
              "1 2020 1   1.05 \n",
              "2 2020 2   0.78 \n",
              "3 2020 3   0.99 \n",
              "4 2020 4     NA \n",
              "5 2021 1   1.54 \n",
              "6 2021 2   1.02 \n",
              "7 2021 3   1.15 \n",
              "8 2021 4   0.95 "
            ],
            "text/latex": "A tibble: 8 × 3\n\\begin{tabular}{lll}\n year & qtr & valor\\\\\n <dbl> & <dbl> & <dbl>\\\\\n\\hline\n\t 2020 & 1 & 1.05\\\\\n\t 2020 & 2 & 0.78\\\\\n\t 2020 & 3 & 0.99\\\\\n\t 2020 & 4 &   NA\\\\\n\t 2021 & 1 & 1.54\\\\\n\t 2021 & 2 & 1.02\\\\\n\t 2021 & 3 & 1.15\\\\\n\t 2021 & 4 & 0.95\\\\\n\\end{tabular}\n",
            "text/markdown": "\nA tibble: 8 × 3\n\n| year &lt;dbl&gt; | qtr &lt;dbl&gt; | valor &lt;dbl&gt; |\n|---|---|---|\n| 2020 | 1 | 1.05 |\n| 2020 | 2 | 0.78 |\n| 2020 | 3 | 0.99 |\n| 2020 | 4 |   NA |\n| 2021 | 1 | 1.54 |\n| 2021 | 2 | 1.02 |\n| 2021 | 3 | 1.15 |\n| 2021 | 4 | 0.95 |\n\n",
            "text/html": [
              "<table class=\"dataframe\">\n",
              "<caption>A tibble: 8 × 3</caption>\n",
              "<thead>\n",
              "\t<tr><th scope=col>year</th><th scope=col>qtr</th><th scope=col>valor</th></tr>\n",
              "\t<tr><th scope=col>&lt;dbl&gt;</th><th scope=col>&lt;dbl&gt;</th><th scope=col>&lt;dbl&gt;</th></tr>\n",
              "</thead>\n",
              "<tbody>\n",
              "\t<tr><td>2020</td><td>1</td><td>1.05</td></tr>\n",
              "\t<tr><td>2020</td><td>2</td><td>0.78</td></tr>\n",
              "\t<tr><td>2020</td><td>3</td><td>0.99</td></tr>\n",
              "\t<tr><td>2020</td><td>4</td><td>  NA</td></tr>\n",
              "\t<tr><td>2021</td><td>1</td><td>1.54</td></tr>\n",
              "\t<tr><td>2021</td><td>2</td><td>1.02</td></tr>\n",
              "\t<tr><td>2021</td><td>3</td><td>1.15</td></tr>\n",
              "\t<tr><td>2021</td><td>4</td><td>0.95</td></tr>\n",
              "</tbody>\n",
              "</table>\n"
            ]
          },
          "metadata": {}
        }
      ]
    },
    {
      "cell_type": "code",
      "metadata": {
        "colab": {
          "base_uri": "https://localhost:8080/",
          "height": 318
        },
        "id": "3zpZabvXp9Eo",
        "outputId": "c050ce75-1efe-407a-eee0-655f891e3d58"
      },
      "source": [
        "stocks_drop <- stocks %>% drop_na()\n",
        "stocks_drop"
      ],
      "execution_count": null,
      "outputs": [
        {
          "output_type": "display_data",
          "data": {
            "text/plain": [
              "  year qtr valor\n",
              "1 2020 1   1.05 \n",
              "2 2020 2   0.78 \n",
              "3 2020 3   0.99 \n",
              "4 2021 1   1.54 \n",
              "5 2021 2   1.02 \n",
              "6 2021 3   1.15 \n",
              "7 2021 4   0.95 "
            ],
            "text/latex": "A tibble: 7 × 3\n\\begin{tabular}{lll}\n year & qtr & valor\\\\\n <dbl> & <dbl> & <dbl>\\\\\n\\hline\n\t 2020 & 1 & 1.05\\\\\n\t 2020 & 2 & 0.78\\\\\n\t 2020 & 3 & 0.99\\\\\n\t 2021 & 1 & 1.54\\\\\n\t 2021 & 2 & 1.02\\\\\n\t 2021 & 3 & 1.15\\\\\n\t 2021 & 4 & 0.95\\\\\n\\end{tabular}\n",
            "text/markdown": "\nA tibble: 7 × 3\n\n| year &lt;dbl&gt; | qtr &lt;dbl&gt; | valor &lt;dbl&gt; |\n|---|---|---|\n| 2020 | 1 | 1.05 |\n| 2020 | 2 | 0.78 |\n| 2020 | 3 | 0.99 |\n| 2021 | 1 | 1.54 |\n| 2021 | 2 | 1.02 |\n| 2021 | 3 | 1.15 |\n| 2021 | 4 | 0.95 |\n\n",
            "text/html": [
              "<table class=\"dataframe\">\n",
              "<caption>A tibble: 7 × 3</caption>\n",
              "<thead>\n",
              "\t<tr><th scope=col>year</th><th scope=col>qtr</th><th scope=col>valor</th></tr>\n",
              "\t<tr><th scope=col>&lt;dbl&gt;</th><th scope=col>&lt;dbl&gt;</th><th scope=col>&lt;dbl&gt;</th></tr>\n",
              "</thead>\n",
              "<tbody>\n",
              "\t<tr><td>2020</td><td>1</td><td>1.05</td></tr>\n",
              "\t<tr><td>2020</td><td>2</td><td>0.78</td></tr>\n",
              "\t<tr><td>2020</td><td>3</td><td>0.99</td></tr>\n",
              "\t<tr><td>2021</td><td>1</td><td>1.54</td></tr>\n",
              "\t<tr><td>2021</td><td>2</td><td>1.02</td></tr>\n",
              "\t<tr><td>2021</td><td>3</td><td>1.15</td></tr>\n",
              "\t<tr><td>2021</td><td>4</td><td>0.95</td></tr>\n",
              "</tbody>\n",
              "</table>\n"
            ]
          },
          "metadata": {}
        }
      ]
    },
    {
      "cell_type": "code",
      "metadata": {
        "colab": {
          "base_uri": "https://localhost:8080/",
          "height": 349
        },
        "id": "TepeWEQpr8YT",
        "outputId": "7df1a94e-76b6-4f83-b485-ff257dfb0a38"
      },
      "source": [
        "stocks_replace <- stocks\n",
        "stocks_replace$valor[is.na(stocks_replace$valor)] <- round(mean(stocks_replace$valor, na.rm = TRUE),2)\n",
        "stocks_replace"
      ],
      "execution_count": null,
      "outputs": [
        {
          "output_type": "display_data",
          "data": {
            "text/plain": [
              "  year qtr valor\n",
              "1 2020 1   1.05 \n",
              "2 2020 2   0.78 \n",
              "3 2020 3   0.99 \n",
              "4 2020 4   1.07 \n",
              "5 2021 1   1.54 \n",
              "6 2021 2   1.02 \n",
              "7 2021 3   1.15 \n",
              "8 2021 4   0.95 "
            ],
            "text/latex": "A tibble: 8 × 3\n\\begin{tabular}{lll}\n year & qtr & valor\\\\\n <dbl> & <dbl> & <dbl>\\\\\n\\hline\n\t 2020 & 1 & 1.05\\\\\n\t 2020 & 2 & 0.78\\\\\n\t 2020 & 3 & 0.99\\\\\n\t 2020 & 4 & 1.07\\\\\n\t 2021 & 1 & 1.54\\\\\n\t 2021 & 2 & 1.02\\\\\n\t 2021 & 3 & 1.15\\\\\n\t 2021 & 4 & 0.95\\\\\n\\end{tabular}\n",
            "text/markdown": "\nA tibble: 8 × 3\n\n| year &lt;dbl&gt; | qtr &lt;dbl&gt; | valor &lt;dbl&gt; |\n|---|---|---|\n| 2020 | 1 | 1.05 |\n| 2020 | 2 | 0.78 |\n| 2020 | 3 | 0.99 |\n| 2020 | 4 | 1.07 |\n| 2021 | 1 | 1.54 |\n| 2021 | 2 | 1.02 |\n| 2021 | 3 | 1.15 |\n| 2021 | 4 | 0.95 |\n\n",
            "text/html": [
              "<table class=\"dataframe\">\n",
              "<caption>A tibble: 8 × 3</caption>\n",
              "<thead>\n",
              "\t<tr><th scope=col>year</th><th scope=col>qtr</th><th scope=col>valor</th></tr>\n",
              "\t<tr><th scope=col>&lt;dbl&gt;</th><th scope=col>&lt;dbl&gt;</th><th scope=col>&lt;dbl&gt;</th></tr>\n",
              "</thead>\n",
              "<tbody>\n",
              "\t<tr><td>2020</td><td>1</td><td>1.05</td></tr>\n",
              "\t<tr><td>2020</td><td>2</td><td>0.78</td></tr>\n",
              "\t<tr><td>2020</td><td>3</td><td>0.99</td></tr>\n",
              "\t<tr><td>2020</td><td>4</td><td>1.07</td></tr>\n",
              "\t<tr><td>2021</td><td>1</td><td>1.54</td></tr>\n",
              "\t<tr><td>2021</td><td>2</td><td>1.02</td></tr>\n",
              "\t<tr><td>2021</td><td>3</td><td>1.15</td></tr>\n",
              "\t<tr><td>2021</td><td>4</td><td>0.95</td></tr>\n",
              "</tbody>\n",
              "</table>\n"
            ]
          },
          "metadata": {}
        }
      ]
    },
    {
      "cell_type": "markdown",
      "metadata": {
        "id": "ED6esunCPdmp"
      },
      "source": [
        "![UNI](https://posgrado.uni.edu.ni/wp-content/uploads/2017/02/logo_opt-2.png)"
      ]
    }
  ]
}