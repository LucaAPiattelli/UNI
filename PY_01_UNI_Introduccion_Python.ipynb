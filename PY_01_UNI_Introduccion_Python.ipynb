{
  "nbformat": 4,
  "nbformat_minor": 0,
  "metadata": {
    "colab": {
      "name": "PY_01_UNI_Introduccion_Python.ipynb",
      "provenance": [],
      "collapsed_sections": [
        "Mz_m0pooUs0U",
        "E7INqByfXrQN",
        "3XdGMKhJcIgQ",
        "0-JxANM_c_7S",
        "8BsD4XnAGUkQ",
        "ndOclZWQnG-e"
      ],
      "include_colab_link": true
    },
    "kernelspec": {
      "display_name": "Python 3",
      "name": "python3"
    }
  },
  "cells": [
    {
      "cell_type": "markdown",
      "metadata": {
        "id": "view-in-github",
        "colab_type": "text"
      },
      "source": [
        "<a href=\"https://colab.research.google.com/github/LucaAPiattelli/UNI/blob/main/PY_01_UNI_Introduccion_Python.ipynb\" target=\"_parent\"><img src=\"https://colab.research.google.com/assets/colab-badge.svg\" alt=\"Open In Colab\"/></a>"
      ]
    },
    {
      "cell_type": "markdown",
      "metadata": {
        "id": "dfLTxPGa_zwv"
      },
      "source": [
        "<center>\n",
        "\n",
        "![Captura de Pantalla 2021-08-16 a la(s) 23.25.35.png](data:image/png;base64,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)\n",
        "\n",
        "</center>"
      ]
    },
    {
      "cell_type": "markdown",
      "metadata": {
        "id": "dZCo0Sbd_7hU"
      },
      "source": [
        "<center>\n",
        "<font color=\"#091f60\">\n",
        "<h1><b>\n",
        "Dirección de Estudios de Posgrado y Educación Continua\n",
        "<h2><b>\n",
        "Analítica Avanzada con Power BI, R y Python\n",
        "\n",
        "</font>\n",
        "</center>"
      ]
    },
    {
      "cell_type": "markdown",
      "metadata": {
        "id": "ZzUv81e7AC-3"
      },
      "source": [
        "[UNI-DEPEC](https://posgrado.uni.edu.ni)"
      ]
    },
    {
      "cell_type": "markdown",
      "metadata": {
        "id": "F8HViDmzOCt0"
      },
      "source": [
        "<font color=\"#091f60\">\n",
        "<h1><b>\n",
        "Introducción a Python\n",
        "\n",
        "</font>\n"
      ]
    },
    {
      "cell_type": "markdown",
      "metadata": {
        "id": "DrscnmUQ6P2J"
      },
      "source": [
        "Python es un lenguaje de programación fácil de aprender. Cuenta con un enfoque simple pero efectivo de lo que se conoce como la programación orientada a objetos.\n",
        "\n"
      ]
    },
    {
      "cell_type": "markdown",
      "metadata": {
        "id": "p0nrT9FkAFzG"
      },
      "source": [
        "#Introducción a Python"
      ]
    },
    {
      "cell_type": "markdown",
      "metadata": {
        "id": "Mz_m0pooUs0U"
      },
      "source": [
        "## Números y operaciones matemáticas básicas"
      ]
    },
    {
      "cell_type": "markdown",
      "metadata": {
        "id": "0d7-KrK0U1p8"
      },
      "source": [
        "### Datos numéricos"
      ]
    },
    {
      "cell_type": "markdown",
      "metadata": {
        "id": "CgKYk3lYU5s5"
      },
      "source": [
        "#### Enteros y decimales"
      ]
    },
    {
      "cell_type": "markdown",
      "metadata": {
        "id": "esaaCArXU_RC"
      },
      "source": [
        "Python distingue entre números enteros y decimales. Al escribir un número decimal, el separador entre la parte entera y la parte decimal es un punto.\n"
      ]
    },
    {
      "cell_type": "code",
      "metadata": {
        "colab": {
          "base_uri": "https://localhost:8080/"
        },
        "id": "-wKiSrqkVILL",
        "outputId": "e8d83a50-3aa5-498a-9475-c91854a77204"
      },
      "source": [
        "780.6 # numero con decimal"
      ],
      "execution_count": null,
      "outputs": [
        {
          "output_type": "execute_result",
          "data": {
            "text/plain": [
              "780.6"
            ]
          },
          "metadata": {},
          "execution_count": 1
        }
      ]
    },
    {
      "cell_type": "code",
      "metadata": {
        "colab": {
          "base_uri": "https://localhost:8080/"
        },
        "id": "0xADtR67VUMB",
        "outputId": "de3e81ad-56a2-4c35-9ea2-ccbce14b9162"
      },
      "source": [
        "1050 # número entero"
      ],
      "execution_count": null,
      "outputs": [
        {
          "output_type": "execute_result",
          "data": {
            "text/plain": [
              "1050"
            ]
          },
          "metadata": {},
          "execution_count": 2
        }
      ]
    },
    {
      "cell_type": "markdown",
      "metadata": {
        "id": "EUYDagJE-bXu"
      },
      "source": [
        "### Usando Python como calculadora"
      ]
    },
    {
      "cell_type": "markdown",
      "metadata": {
        "id": "1nwNDt1UWfYR"
      },
      "source": [
        "Las cuatro operaciones básicas son la suma (+), la resta (-), la multiplicación (*) y la división (/).\n",
        "\n",
        "*Al hacer operaciones en las que intervienen números enteros y decimales, el resultado es siempre decimal.*\n",
        "\n",
        "En el caso de que el resultado no tenga parte decimal, Python escribe 0 como parte decimal para indicar que el resultado es un número decimal"
      ]
    },
    {
      "cell_type": "code",
      "metadata": {
        "colab": {
          "base_uri": "https://localhost:8080/"
        },
        "id": "MWq2jGxO-hC7",
        "outputId": "bd689c3c-6f7a-4b42-d3ec-415b3840ab77"
      },
      "source": [
        "250 + 350"
      ],
      "execution_count": null,
      "outputs": [
        {
          "output_type": "execute_result",
          "data": {
            "text/plain": [
              "600"
            ]
          },
          "metadata": {},
          "execution_count": 3
        }
      ]
    },
    {
      "cell_type": "code",
      "metadata": {
        "colab": {
          "base_uri": "https://localhost:8080/"
        },
        "id": "-5R__vGd_N_c",
        "outputId": "ba886e70-0423-4bac-dad2-0233bfd27fa6"
      },
      "source": [
        "100 - 20 * 4"
      ],
      "execution_count": null,
      "outputs": [
        {
          "output_type": "execute_result",
          "data": {
            "text/plain": [
              "20"
            ]
          },
          "metadata": {},
          "execution_count": 4
        }
      ]
    },
    {
      "cell_type": "code",
      "metadata": {
        "colab": {
          "base_uri": "https://localhost:8080/"
        },
        "id": "7s_lzf5S_eLt",
        "outputId": "f2ae841a-6dff-47e6-8052-989e621a584f"
      },
      "source": [
        "(100 - 20 * 4) / 5"
      ],
      "execution_count": null,
      "outputs": [
        {
          "output_type": "execute_result",
          "data": {
            "text/plain": [
              "4.0"
            ]
          },
          "metadata": {},
          "execution_count": 5
        }
      ]
    },
    {
      "cell_type": "markdown",
      "metadata": {
        "id": "T04M2fieAruq"
      },
      "source": [
        "En la división el tipo de dato es float (4.0) que es decimal, si se quiere un valor numerico entero (int) entonces usamos dos veces el simbolo //"
      ]
    },
    {
      "cell_type": "code",
      "metadata": {
        "colab": {
          "base_uri": "https://localhost:8080/"
        },
        "id": "xXuwDKm8A8pQ",
        "outputId": "a59a9af2-594f-41df-cbd9-62bc50b7e22d"
      },
      "source": [
        "(100 - 20 * 4) // 5"
      ],
      "execution_count": null,
      "outputs": [
        {
          "output_type": "execute_result",
          "data": {
            "text/plain": [
              "4"
            ]
          },
          "metadata": {},
          "execution_count": 6
        }
      ]
    },
    {
      "cell_type": "markdown",
      "metadata": {
        "id": "pnpvT1jBWuia"
      },
      "source": [
        "#### Potencias y raíces\n"
      ]
    },
    {
      "cell_type": "markdown",
      "metadata": {
        "id": "tk_p2SJPW6Jl"
      },
      "source": [
        "Las potencias se calculan con el operador $**$, teniendo en cuenta que $x$ $**$ $y$ $=$ $x^y$. Utilizando exponentes negativos o decimales se pueden calcular potencias inversas o raíces n-ésimas."
      ]
    },
    {
      "cell_type": "markdown",
      "metadata": {
        "id": "eedjMy-tCGei"
      },
      "source": [
        "Si se quiere calcular un valor al cuadrado, por ejemplo $5^2$, entonces...\n",
        "\n"
      ]
    },
    {
      "cell_type": "code",
      "metadata": {
        "colab": {
          "base_uri": "https://localhost:8080/"
        },
        "id": "PrVR3rNWCBRa",
        "outputId": "494948e7-247a-4c6e-f382-9660eb2a0040"
      },
      "source": [
        "5 ** 2"
      ],
      "execution_count": null,
      "outputs": [
        {
          "output_type": "execute_result",
          "data": {
            "text/plain": [
              "25"
            ]
          },
          "metadata": {},
          "execution_count": 7
        }
      ]
    },
    {
      "cell_type": "markdown",
      "metadata": {
        "id": "nd_8qIPNXYra"
      },
      "source": [
        "O si se quiere calcular la raiz de un número, por ejemplo $\\sqrt{9}$\n",
        "entonces..."
      ]
    },
    {
      "cell_type": "code",
      "metadata": {
        "colab": {
          "base_uri": "https://localhost:8080/"
        },
        "id": "XKQACxsKXhIr",
        "outputId": "57454543-9054-4aed-800e-38139b1d5b17"
      },
      "source": [
        "9 ** 0.5"
      ],
      "execution_count": null,
      "outputs": [
        {
          "output_type": "execute_result",
          "data": {
            "text/plain": [
              "3.0"
            ]
          },
          "metadata": {},
          "execution_count": 8
        }
      ]
    },
    {
      "cell_type": "markdown",
      "metadata": {
        "id": "E7INqByfXrQN"
      },
      "source": [
        "## Algunas funciones integradas"
      ]
    },
    {
      "cell_type": "markdown",
      "metadata": {
        "id": "3VfEz4CuXt2X"
      },
      "source": [
        "Aunque no se puede dar una regla válida en todas las situaciones, normalmente es conveniente redondear el resultado de un cálculo cuando se muestra, sobre todo si tiene muchos decimales, para facilitar su lectura.\n",
        "\n",
        "Lo que no se debe hacer nunca es redondear resultados intermedios que se vayan a utilizar en cálculos posteriores, porque el resultado final será diferente."
      ]
    },
    {
      "cell_type": "markdown",
      "metadata": {
        "id": "kW8x0_1BYKWd"
      },
      "source": [
        "### Redondear: round( )"
      ]
    },
    {
      "cell_type": "markdown",
      "metadata": {
        "id": "KgBHquHAYXld"
      },
      "source": [
        "La función integrada round( ) admite uno o dos argumentos numéricos. Cuando tiene dos argumentos numéricos, el segundo argumento indica la posición para evaluar el redondeo."
      ]
    },
    {
      "cell_type": "code",
      "metadata": {
        "colab": {
          "base_uri": "https://localhost:8080/"
        },
        "id": "xHH2zYDXYCfn",
        "outputId": "0d4c375f-261a-4f12-e56c-fdfaa1ab7eae"
      },
      "source": [
        "round(65.35)"
      ],
      "execution_count": null,
      "outputs": [
        {
          "output_type": "execute_result",
          "data": {
            "text/plain": [
              "65"
            ]
          },
          "metadata": {},
          "execution_count": 9
        }
      ]
    },
    {
      "cell_type": "code",
      "metadata": {
        "colab": {
          "base_uri": "https://localhost:8080/"
        },
        "id": "cfCKfFKTYlPr",
        "outputId": "3c511667-2e55-457c-f298-ec721321a2a8"
      },
      "source": [
        "round(65.78)"
      ],
      "execution_count": null,
      "outputs": [
        {
          "output_type": "execute_result",
          "data": {
            "text/plain": [
              "66"
            ]
          },
          "metadata": {},
          "execution_count": 10
        }
      ]
    },
    {
      "cell_type": "code",
      "metadata": {
        "colab": {
          "base_uri": "https://localhost:8080/"
        },
        "id": "qyCzGPj9Yuz3",
        "outputId": "f84e5e42-01f6-459b-cef9-78335a4b9474"
      },
      "source": [
        "round(78.18467, 3)"
      ],
      "execution_count": null,
      "outputs": [
        {
          "output_type": "execute_result",
          "data": {
            "text/plain": [
              "78.185"
            ]
          },
          "metadata": {},
          "execution_count": 11
        }
      ]
    },
    {
      "cell_type": "code",
      "metadata": {
        "colab": {
          "base_uri": "https://localhost:8080/"
        },
        "id": "dYNDjHv4Y66l",
        "outputId": "913ecb22-eca8-4e73-fa6b-357b030091c8"
      },
      "source": [
        "round(78.18467, 2)"
      ],
      "execution_count": null,
      "outputs": [
        {
          "output_type": "execute_result",
          "data": {
            "text/plain": [
              "78.18"
            ]
          },
          "metadata": {},
          "execution_count": 12
        }
      ]
    },
    {
      "cell_type": "markdown",
      "metadata": {
        "id": "wLyReZyxZViD"
      },
      "source": [
        "### Valor absoluto: abs( )"
      ]
    },
    {
      "cell_type": "code",
      "metadata": {
        "colab": {
          "base_uri": "https://localhost:8080/"
        },
        "id": "t_zOv9EAZvz_",
        "outputId": "45d34192-c61e-4a11-e477-47754c667ac7"
      },
      "source": [
        "abs(-1500)"
      ],
      "execution_count": null,
      "outputs": [
        {
          "output_type": "execute_result",
          "data": {
            "text/plain": [
              "1500"
            ]
          },
          "metadata": {},
          "execution_count": 13
        }
      ]
    },
    {
      "cell_type": "code",
      "metadata": {
        "colab": {
          "base_uri": "https://localhost:8080/"
        },
        "id": "SLr6yS6FZ16o",
        "outputId": "5ce39926-b64b-4494-9d64-fa625abd5e52"
      },
      "source": [
        "abs(2197)"
      ],
      "execution_count": null,
      "outputs": [
        {
          "output_type": "execute_result",
          "data": {
            "text/plain": [
              "2197"
            ]
          },
          "metadata": {},
          "execution_count": 14
        }
      ]
    },
    {
      "cell_type": "markdown",
      "metadata": {
        "id": "4MH3GgmnaC7l"
      },
      "source": [
        "### Máximo: max( )\n"
      ]
    },
    {
      "cell_type": "markdown",
      "metadata": {
        "id": "YykAtz5QaHe_"
      },
      "source": [
        "La función integrada max( ) calcula el valor máximo de un conjunto de valores (numéricos o alfabéticos). En el caso de cadenas, el valor máximo corresponde al último valor en orden alfabético, sin importar la longitud de la cadena.\n"
      ]
    },
    {
      "cell_type": "code",
      "metadata": {
        "colab": {
          "base_uri": "https://localhost:8080/"
        },
        "id": "vhwCjXefaOT8",
        "outputId": "e19f935d-c9e0-4abe-b780-4a0515af38d7"
      },
      "source": [
        "max([4, 6, -1, 9, 3.5, -12])"
      ],
      "execution_count": null,
      "outputs": [
        {
          "output_type": "execute_result",
          "data": {
            "text/plain": [
              "9"
            ]
          },
          "metadata": {},
          "execution_count": 15
        }
      ]
    },
    {
      "cell_type": "code",
      "metadata": {
        "colab": {
          "base_uri": "https://localhost:8080/"
        },
        "id": "J7HHS2Y8avxe",
        "outputId": "93730d0f-27e8-4c78-d47e-a399cc0fe457"
      },
      "source": [
        "max(\"Darío\", \"Agostina\", \"Marcelo\", \"Emiliana\", \"Veronica\")"
      ],
      "execution_count": null,
      "outputs": [
        {
          "output_type": "execute_result",
          "data": {
            "application/vnd.google.colaboratory.intrinsic+json": {
              "type": "string"
            },
            "text/plain": [
              "'Veronica'"
            ]
          },
          "metadata": {},
          "execution_count": 16
        }
      ]
    },
    {
      "cell_type": "markdown",
      "metadata": {
        "id": "6Y0y8PuBa34m"
      },
      "source": [
        "Las vocales acentuadas se consideran posteriores al resto de vocales y consonantes.\n"
      ]
    },
    {
      "cell_type": "code",
      "metadata": {
        "colab": {
          "base_uri": "https://localhost:8080/"
        },
        "id": "P_cBC8wQa6wv",
        "outputId": "13dbf689-aea7-44e7-922e-2b06ee48d38e"
      },
      "source": [
        "max(\"Darío\", \"Agostina\", \"Marcelo\", \"Emiliana\", \"Ángel\")"
      ],
      "execution_count": null,
      "outputs": [
        {
          "output_type": "execute_result",
          "data": {
            "application/vnd.google.colaboratory.intrinsic+json": {
              "type": "string"
            },
            "text/plain": [
              "'Ángel'"
            ]
          },
          "metadata": {},
          "execution_count": 17
        }
      ]
    },
    {
      "cell_type": "markdown",
      "metadata": {
        "id": "USrHNq9PbUTB"
      },
      "source": [
        "### Mínimo: min( )\n"
      ]
    },
    {
      "cell_type": "markdown",
      "metadata": {
        "id": "spcCBPegbdE5"
      },
      "source": [
        "La función integrada min( ) calcula el valor mínimo de un conjunto de valores (numéricos o alfabéticos). En el caso de cadenas, el valor mínimo corresponde al primer valor en orden alfabético, sin importar la longitud de la cadena.\n"
      ]
    },
    {
      "cell_type": "code",
      "metadata": {
        "colab": {
          "base_uri": "https://localhost:8080/"
        },
        "id": "38PHJHSIbOWN",
        "outputId": "ac11868e-cfe4-4326-aec9-3a16c218009a"
      },
      "source": [
        "min(4, 6, -1, 9, 3.5, -12)"
      ],
      "execution_count": null,
      "outputs": [
        {
          "output_type": "execute_result",
          "data": {
            "text/plain": [
              "-12"
            ]
          },
          "metadata": {},
          "execution_count": 18
        }
      ]
    },
    {
      "cell_type": "code",
      "metadata": {
        "colab": {
          "base_uri": "https://localhost:8080/"
        },
        "id": "37DK45i1bk7f",
        "outputId": "dfd9899b-4270-4ded-f0f6-7a33d3bd63fa"
      },
      "source": [
        "min(\"Darío\", \"Agostina\", \"Marcelo\", \"Emiliana\", \"Ángel\")"
      ],
      "execution_count": null,
      "outputs": [
        {
          "output_type": "execute_result",
          "data": {
            "application/vnd.google.colaboratory.intrinsic+json": {
              "type": "string"
            },
            "text/plain": [
              "'Agostina'"
            ]
          },
          "metadata": {},
          "execution_count": 19
        }
      ]
    },
    {
      "cell_type": "markdown",
      "metadata": {
        "id": "3XdGMKhJcIgQ"
      },
      "source": [
        "# Creación y asignación de variables"
      ]
    },
    {
      "cell_type": "markdown",
      "metadata": {
        "id": "RD5xMdxNcVCN"
      },
      "source": [
        "El concepto de \"variable\" proviene de las Matemáticas. En Matemáticas, una variable es un símbolo que forma parte de una expresión o de una fórmula.\n",
        "\n",
        "Normalmente las variables se representan mediante letras del alfabeto latino ( $x, y, z, n, i, j,$ etc.). Dependiendo del contexto, las variables significan cosas distintas."
      ]
    },
    {
      "cell_type": "markdown",
      "metadata": {
        "id": "GEkp6MemceHb"
      },
      "source": [
        "En Python las variables son \"etiquetas\" que permiten hacer referencia a los datos (que se guardan en unas \"cajas\" llamadas objetos).\n",
        "\n",
        "Python es un lenguaje de programación orientado a objetos y su modelo de datos también está basado en objetos. Para cada dato que aparece en un script, Python crea un objeto que lo contiene. \n",
        "\n",
        "**Cada objeto tiene:**\n",
        "\n",
        "- Un identificador único (un número entero, distinto para cada objeto). El identificador permite a Python referirse al objeto sin ambigüedades.\n",
        "- Un tipo de datos (entero, decimal, cadena de caracteres, etc.). El tipo de datos permite saber a Python qué operaciones pueden hacerse con el dato.\n",
        "- Un valor (el propio dato).\n",
        "\n",
        "Así, las variables en Python no guardan los datos, sino que son simples nombres para poder hacer referencia a esos objetos. "
      ]
    },
    {
      "cell_type": "markdown",
      "metadata": {
        "id": "FaKMi3YdcoBZ"
      },
      "source": [
        "**Los nombres de variables no pueden incluir espacios en blanco.**"
      ]
    },
    {
      "cell_type": "markdown",
      "metadata": {
        "id": "aFDMU-W_5qMZ"
      },
      "source": [
        "## Variables numericas"
      ]
    },
    {
      "cell_type": "code",
      "metadata": {
        "colab": {
          "base_uri": "https://localhost:8080/"
        },
        "id": "37w4eaId6qg7",
        "outputId": "1e25d549-11b3-4d5c-93b3-3d15db32ebb5"
      },
      "source": [
        "num1 = 10\n",
        "num2 = 175.5\n",
        "num1 + num2"
      ],
      "execution_count": null,
      "outputs": [
        {
          "output_type": "execute_result",
          "data": {
            "text/plain": [
              "185.5"
            ]
          },
          "metadata": {},
          "execution_count": 20
        }
      ]
    },
    {
      "cell_type": "code",
      "metadata": {
        "colab": {
          "base_uri": "https://localhost:8080/"
        },
        "id": "4RjW2Iy07GrO",
        "outputId": "46d4c647-776e-45ae-b0c4-8bab2152d06e"
      },
      "source": [
        "num1 * num2"
      ],
      "execution_count": null,
      "outputs": [
        {
          "output_type": "execute_result",
          "data": {
            "text/plain": [
              "1755.0"
            ]
          },
          "metadata": {},
          "execution_count": 21
        }
      ]
    },
    {
      "cell_type": "code",
      "metadata": {
        "colab": {
          "base_uri": "https://localhost:8080/"
        },
        "id": "0kmEqgiH7L3N",
        "outputId": "10e9bd1f-ac03-474c-db1b-8d31b07518cb"
      },
      "source": [
        "num2 / num1"
      ],
      "execution_count": null,
      "outputs": [
        {
          "output_type": "execute_result",
          "data": {
            "text/plain": [
              "17.55"
            ]
          },
          "metadata": {},
          "execution_count": 22
        }
      ]
    },
    {
      "cell_type": "code",
      "metadata": {
        "colab": {
          "base_uri": "https://localhost:8080/"
        },
        "id": "VFfHt38E-3e0",
        "outputId": "c7889b65-639b-462a-ac70-4750bf11e725"
      },
      "source": [
        "num2 - num1"
      ],
      "execution_count": null,
      "outputs": [
        {
          "output_type": "execute_result",
          "data": {
            "text/plain": [
              "165.5"
            ]
          },
          "metadata": {},
          "execution_count": 23
        }
      ]
    },
    {
      "cell_type": "code",
      "metadata": {
        "colab": {
          "base_uri": "https://localhost:8080/"
        },
        "id": "otanYWJW_Gc7",
        "outputId": "a6788990-8b70-47c6-c9b4-3315054a508a"
      },
      "source": [
        "num3 = num1 + num2\n",
        "num3"
      ],
      "execution_count": null,
      "outputs": [
        {
          "output_type": "execute_result",
          "data": {
            "text/plain": [
              "185.5"
            ]
          },
          "metadata": {},
          "execution_count": 24
        }
      ]
    },
    {
      "cell_type": "markdown",
      "metadata": {
        "id": "0-JxANM_c_7S"
      },
      "source": [
        "# Tipos de datos"
      ]
    },
    {
      "cell_type": "markdown",
      "metadata": {
        "id": "N0uYisHldIcR"
      },
      "source": [
        "## Tuplas"
      ]
    },
    {
      "cell_type": "markdown",
      "metadata": {
        "id": "ACMkTSQLdKKc"
      },
      "source": [
        "En Python, una tupla es un conjunto ordenado de elementos del mismo o diferente tipo. Las tuplas se representan escribiendo los elementos entre paréntesis y separados por comas."
      ]
    },
    {
      "cell_type": "code",
      "metadata": {
        "colab": {
          "base_uri": "https://localhost:8080/"
        },
        "id": "IV1RTtGcdYKV",
        "outputId": "7e5a11f2-16d1-4556-a305-7614b8d31a7a"
      },
      "source": [
        "(1, \"a\", 3.14)"
      ],
      "execution_count": null,
      "outputs": [
        {
          "output_type": "execute_result",
          "data": {
            "text/plain": [
              "(1, 'a', 3.14)"
            ]
          },
          "metadata": {},
          "execution_count": 25
        }
      ]
    },
    {
      "cell_type": "markdown",
      "metadata": {
        "id": "3EKfvN7RddFy"
      },
      "source": [
        "En realidad no es necesario escribir los paréntesis para indicar que se trata de una tupla, basta con escribir las comas, pero Python escribe siempre los paréntesis:"
      ]
    },
    {
      "cell_type": "code",
      "metadata": {
        "colab": {
          "base_uri": "https://localhost:8080/"
        },
        "id": "eP5F3boddexa",
        "outputId": "33590153-240b-448f-946a-1192e6f29c2b"
      },
      "source": [
        "5, \"b\", 6.28"
      ],
      "execution_count": null,
      "outputs": [
        {
          "output_type": "execute_result",
          "data": {
            "text/plain": [
              "(5, 'b', 6.28)"
            ]
          },
          "metadata": {},
          "execution_count": 26
        }
      ]
    },
    {
      "cell_type": "markdown",
      "metadata": {
        "id": "fOlpnv9OdraH"
      },
      "source": [
        "La función len( ) devuelve el número de elementos de una tupla:"
      ]
    },
    {
      "cell_type": "code",
      "metadata": {
        "colab": {
          "base_uri": "https://localhost:8080/"
        },
        "id": "VYPcPv3Fdqc9",
        "outputId": "68ddd3e3-0b11-4a6d-c8f1-9fcbda6004d2"
      },
      "source": [
        "len((1, \"a\", 3.14, 7, \"b\", 90.87))"
      ],
      "execution_count": null,
      "outputs": [
        {
          "output_type": "execute_result",
          "data": {
            "text/plain": [
              "6"
            ]
          },
          "metadata": {},
          "execution_count": 27
        }
      ]
    },
    {
      "cell_type": "code",
      "metadata": {
        "colab": {
          "base_uri": "https://localhost:8080/"
        },
        "id": "KnNhwmCGd2c6",
        "outputId": "cba77fda-e215-4204-9e79-610506ca1bc3"
      },
      "source": [
        "a = (1, \"b\", \"c\", 3.14, 6.28, \"d\", \"e\")\n",
        "len(a)"
      ],
      "execution_count": null,
      "outputs": [
        {
          "output_type": "execute_result",
          "data": {
            "text/plain": [
              "7"
            ]
          },
          "metadata": {},
          "execution_count": 28
        }
      ]
    },
    {
      "cell_type": "markdown",
      "metadata": {
        "id": "Rg3jGFue_7My"
      },
      "source": [
        "## Listas"
      ]
    },
    {
      "cell_type": "markdown",
      "metadata": {
        "id": "uGjbJrsoeK0s"
      },
      "source": [
        "Las listas son conjuntos ordenados de elementos (números, cadenas, listas, etc). \n",
        "Las listas se delimitan por corchetes [ ] y los elementos se separan por comas."
      ]
    },
    {
      "cell_type": "markdown",
      "metadata": {
        "id": "FJG2bBBQLB9R"
      },
      "source": [
        "### Listas numericas"
      ]
    },
    {
      "cell_type": "code",
      "metadata": {
        "colab": {
          "base_uri": "https://localhost:8080/"
        },
        "id": "gv1WXLCZLPkI",
        "outputId": "9338dd59-0c0e-44a8-83d5-8abbd66a0ead"
      },
      "source": [
        "pares = [2, 4, 6, 8, 10]\n",
        "pares"
      ],
      "execution_count": null,
      "outputs": [
        {
          "output_type": "execute_result",
          "data": {
            "text/plain": [
              "[2, 4, 6, 8, 10]"
            ]
          },
          "metadata": {},
          "execution_count": 29
        }
      ]
    },
    {
      "cell_type": "code",
      "metadata": {
        "colab": {
          "base_uri": "https://localhost:8080/"
        },
        "id": "6MncjNczLaBD",
        "outputId": "9b049d3b-63d2-4c37-bdc7-87b79232daa3"
      },
      "source": [
        "impares = [1, 3, 5, 7, 9]\n",
        "impares"
      ],
      "execution_count": null,
      "outputs": [
        {
          "output_type": "execute_result",
          "data": {
            "text/plain": [
              "[1, 3, 5, 7, 9]"
            ]
          },
          "metadata": {},
          "execution_count": 30
        }
      ]
    },
    {
      "cell_type": "markdown",
      "metadata": {
        "id": "69uNpMgNLoaI"
      },
      "source": [
        "El primer par y el último par"
      ]
    },
    {
      "cell_type": "code",
      "metadata": {
        "colab": {
          "base_uri": "https://localhost:8080/"
        },
        "id": "iCp5L0gDLr8z",
        "outputId": "c43d8aeb-4483-422b-f99d-dbc6c9844fa2"
      },
      "source": [
        "pares[0]"
      ],
      "execution_count": null,
      "outputs": [
        {
          "output_type": "execute_result",
          "data": {
            "text/plain": [
              "2"
            ]
          },
          "metadata": {},
          "execution_count": 31
        }
      ]
    },
    {
      "cell_type": "code",
      "metadata": {
        "colab": {
          "base_uri": "https://localhost:8080/"
        },
        "id": "y4amlsONLvaL",
        "outputId": "da9084e9-3163-435c-a11f-caa32f70f9c4"
      },
      "source": [
        "pares[-1]"
      ],
      "execution_count": null,
      "outputs": [
        {
          "output_type": "execute_result",
          "data": {
            "text/plain": [
              "10"
            ]
          },
          "metadata": {},
          "execution_count": 32
        }
      ]
    },
    {
      "cell_type": "markdown",
      "metadata": {
        "id": "Cod4Y7uSMTsn"
      },
      "source": [
        "Concatenando con 5 elementos mas"
      ]
    },
    {
      "cell_type": "code",
      "metadata": {
        "colab": {
          "base_uri": "https://localhost:8080/"
        },
        "id": "Sh26dQvQMZRy",
        "outputId": "3f865527-c30a-4c0f-e74a-57136c54ad39"
      },
      "source": [
        "pares + [12, 14, 16, 18, 20]"
      ],
      "execution_count": null,
      "outputs": [
        {
          "output_type": "execute_result",
          "data": {
            "text/plain": [
              "[2, 4, 6, 8, 10, 12, 14, 16, 18, 20]"
            ]
          },
          "metadata": {},
          "execution_count": 33
        }
      ]
    },
    {
      "cell_type": "code",
      "metadata": {
        "colab": {
          "base_uri": "https://localhost:8080/"
        },
        "id": "Wk0F5skCM1l3",
        "outputId": "e54100ea-665c-4ee6-f76a-954c78c81efb"
      },
      "source": [
        "pares"
      ],
      "execution_count": null,
      "outputs": [
        {
          "output_type": "execute_result",
          "data": {
            "text/plain": [
              "[2, 4, 6, 8, 10]"
            ]
          },
          "metadata": {},
          "execution_count": 34
        }
      ]
    },
    {
      "cell_type": "code",
      "metadata": {
        "id": "OIJ-I7mOM-8g"
      },
      "source": [
        "pares = pares + [12, 14, 16, 18, 21]"
      ],
      "execution_count": null,
      "outputs": []
    },
    {
      "cell_type": "code",
      "metadata": {
        "colab": {
          "base_uri": "https://localhost:8080/"
        },
        "id": "UttlRvMLNCA_",
        "outputId": "5f68f453-aa6c-4064-ac44-52081728cca3"
      },
      "source": [
        "pares"
      ],
      "execution_count": null,
      "outputs": [
        {
          "output_type": "execute_result",
          "data": {
            "text/plain": [
              "[2, 4, 6, 8, 10, 12, 14, 16, 18, 21]"
            ]
          },
          "metadata": {},
          "execution_count": 36
        }
      ]
    },
    {
      "cell_type": "markdown",
      "metadata": {
        "id": "8BsD4XnAGUkQ"
      },
      "source": [
        "## Diccionarios"
      ]
    },
    {
      "cell_type": "code",
      "metadata": {
        "colab": {
          "base_uri": "https://localhost:8080/"
        },
        "id": "w6cub_jhHdHD",
        "outputId": "9783b11a-343c-4b9b-f789-dec44ad54ca0"
      },
      "source": [
        "diccionario1 = {\"Modulo\": \"Modulo 1\", \"Tema\": \"Introducción y Fundamentos\"}\n",
        "print(diccionario1)"
      ],
      "execution_count": null,
      "outputs": [
        {
          "output_type": "stream",
          "text": [
            "{'Modulo': 'Modulo 1', 'Tema': 'Introducción y Fundamentos'}\n"
          ],
          "name": "stdout"
        }
      ]
    },
    {
      "cell_type": "markdown",
      "metadata": {
        "id": "wMegIAxOH-Hl"
      },
      "source": [
        "Para acceder a un valor específico, debe proporcionar el nombre de clave correspondiente. \n",
        "\n",
        "Por ejemplo, si se desea obtener el valor Introduccion a Python, entonces:"
      ]
    },
    {
      "cell_type": "code",
      "metadata": {
        "colab": {
          "base_uri": "https://localhost:8080/"
        },
        "id": "J3PmLLRuIPYb",
        "outputId": "32ef9339-1c5a-4642-bc3e-bef2264ee9e7"
      },
      "source": [
        "diccionario1[\"Tema\"]"
      ],
      "execution_count": null,
      "outputs": [
        {
          "output_type": "execute_result",
          "data": {
            "application/vnd.google.colaboratory.intrinsic+json": {
              "type": "string"
            },
            "text/plain": [
              "'Introducción y Fundamentos'"
            ]
          },
          "metadata": {},
          "execution_count": 38
        }
      ]
    },
    {
      "cell_type": "markdown",
      "metadata": {
        "id": "PXqe2BJWIklH"
      },
      "source": [
        "Cada par clave del valor de un diccionario debe ser único."
      ]
    },
    {
      "cell_type": "markdown",
      "metadata": {
        "id": "u6w4MX8iIwhX"
      },
      "source": [
        "Python proporciona un método para acceder a todos los nombres de las claves de un diccionario. \n",
        "\n",
        "El metodo .keys(), que se utiliza como se muestra a continuación:"
      ]
    },
    {
      "cell_type": "code",
      "metadata": {
        "colab": {
          "base_uri": "https://localhost:8080/"
        },
        "id": "wHgZtJ_jI9_F",
        "outputId": "4283b8ff-f656-486f-e6d3-e689af4c0595"
      },
      "source": [
        "diccionario1.keys()"
      ],
      "execution_count": null,
      "outputs": [
        {
          "output_type": "execute_result",
          "data": {
            "text/plain": [
              "dict_keys(['Modulo', 'Tema'])"
            ]
          },
          "metadata": {},
          "execution_count": 39
        }
      ]
    },
    {
      "cell_type": "markdown",
      "metadata": {
        "id": "zJg1gKNiJzhm"
      },
      "source": [
        "Se puede agregar un nuevo elemento en un diccionario proporcionando el nombre de clave como este:"
      ]
    },
    {
      "cell_type": "code",
      "metadata": {
        "colab": {
          "base_uri": "https://localhost:8080/"
        },
        "id": "Ges4aqXwJ3bD",
        "outputId": "62adea92-a8bb-4c56-da1b-c91ffe476760"
      },
      "source": [
        "diccionario1[\"Profesores\"] = \"Piattelli - Ortega\"\n",
        "print(diccionario1)"
      ],
      "execution_count": null,
      "outputs": [
        {
          "output_type": "stream",
          "text": [
            "{'Modulo': 'Modulo 1', 'Tema': 'Introducción y Fundamentos', 'Profesores': 'Piattelli - Ortega'}\n"
          ],
          "name": "stdout"
        }
      ]
    },
    {
      "cell_type": "markdown",
      "metadata": {
        "id": "YdQbwoTzKKKN"
      },
      "source": [
        "Se puede eliminar un elemento de un diccionario con el comando del:"
      ]
    },
    {
      "cell_type": "code",
      "metadata": {
        "colab": {
          "base_uri": "https://localhost:8080/"
        },
        "id": "xjclJwwSKP8z",
        "outputId": "e85055fa-add3-4c33-e5a7-88ca9e2563ce"
      },
      "source": [
        "del diccionario1[\"Profesores\"]\n",
        "print(diccionario1)"
      ],
      "execution_count": null,
      "outputs": [
        {
          "output_type": "stream",
          "text": [
            "{'Modulo': 'Modulo 1', 'Tema': 'Introducción y Fundamentos'}\n"
          ],
          "name": "stdout"
        }
      ]
    },
    {
      "cell_type": "markdown",
      "metadata": {
        "id": "ndOclZWQnG-e"
      },
      "source": [
        "## Rangos"
      ]
    },
    {
      "cell_type": "markdown",
      "metadata": {
        "id": "76AQk4monItQ"
      },
      "source": [
        "La función range( ) es una lista inmutable de números enteros en sucesión aritmética.\n",
        "\n",
        "- Inmutable significa que, a diferencia de las listas, los range no se pueden modificar.\n",
        "- Una sucesión artimética es una sucesión en la que la diferencia entre dos términos consecutivos es siempre la misma.\n",
        "\n",
        "range() se crea llamando al tipo de datos con uno, dos o tres argumentos numéricos.\n",
        "\n",
        "***Nota: En Python 2, range( ) se consideraba una función, pero en Python 3 no se considera una función, sino un tipo de datos, aunque se utiliza como si fuera una función.***"
      ]
    },
    {
      "cell_type": "markdown",
      "metadata": {
        "id": "bfTY1flVnayc"
      },
      "source": [
        "Creando un rango con 15 elementos..."
      ]
    },
    {
      "cell_type": "code",
      "metadata": {
        "colab": {
          "base_uri": "https://localhost:8080/"
        },
        "id": "3lLYudPEnSRf",
        "outputId": "ec03cacc-35f2-441d-dbe5-8acb41a692d7"
      },
      "source": [
        "x = range(15)\n",
        "x"
      ],
      "execution_count": null,
      "outputs": [
        {
          "output_type": "execute_result",
          "data": {
            "text/plain": [
              "range(0, 15)"
            ]
          },
          "metadata": {},
          "execution_count": 42
        }
      ]
    },
    {
      "cell_type": "markdown",
      "metadata": {
        "id": "v_-eEZ1dnnD7"
      },
      "source": [
        "Visualizando los elementos del rango creado en el objeto $x$..."
      ]
    },
    {
      "cell_type": "code",
      "metadata": {
        "colab": {
          "base_uri": "https://localhost:8080/"
        },
        "id": "NT5IvwCDnrcc",
        "outputId": "600715d7-1ac7-4587-f2b0-818073c0d498"
      },
      "source": [
        "list(x)"
      ],
      "execution_count": null,
      "outputs": [
        {
          "output_type": "execute_result",
          "data": {
            "text/plain": [
              "[0, 1, 2, 3, 4, 5, 6, 7, 8, 9, 10, 11, 12, 13, 14]"
            ]
          },
          "metadata": {},
          "execution_count": 43
        }
      ]
    },
    {
      "cell_type": "markdown",
      "metadata": {
        "id": "0pndrIsony6h"
      },
      "source": [
        "El tipo range con dos argumentos se escribe range($m$, $n$) y crea una lista inmutable de enteros consecutivos que empieza en $m$ y acaba en $n - 1$.\n"
      ]
    },
    {
      "cell_type": "code",
      "metadata": {
        "colab": {
          "base_uri": "https://localhost:8080/"
        },
        "id": "px2ut3fyn1Sb",
        "outputId": "c0082624-5f14-4f91-e6a0-a17e7da87eed"
      },
      "source": [
        "y = range(5, 11)\n",
        "y"
      ],
      "execution_count": null,
      "outputs": [
        {
          "output_type": "execute_result",
          "data": {
            "text/plain": [
              "range(5, 11)"
            ]
          },
          "metadata": {},
          "execution_count": 44
        }
      ]
    },
    {
      "cell_type": "code",
      "metadata": {
        "colab": {
          "base_uri": "https://localhost:8080/"
        },
        "id": "-1zhaiiKoANv",
        "outputId": "88676711-6a5d-4986-cd29-3784e23defe7"
      },
      "source": [
        "list(y)"
      ],
      "execution_count": null,
      "outputs": [
        {
          "output_type": "execute_result",
          "data": {
            "text/plain": [
              "[5, 6, 7, 8, 9, 10]"
            ]
          },
          "metadata": {},
          "execution_count": 45
        }
      ]
    },
    {
      "cell_type": "markdown",
      "metadata": {
        "id": "aJ_0WUzJoNYD"
      },
      "source": [
        "Range() con tres argumentos se escribe range($m$, $n$, $p$) y crea una lista inmutable de enteros que empieza en $m$ y acaba justo antes de superar o igualar a $n$, aumentando los valores de $p$ en $p$. \n",
        "\n",
        "Si $p$ es negativo, los valores van disminuyendo de $p$ en $p$."
      ]
    },
    {
      "cell_type": "code",
      "metadata": {
        "colab": {
          "base_uri": "https://localhost:8080/"
        },
        "id": "pqO5Fk7foRW9",
        "outputId": "5e0acfcd-967f-452c-d49b-e28e3e8744da"
      },
      "source": [
        "list(range(10,20,2))"
      ],
      "execution_count": null,
      "outputs": [
        {
          "output_type": "execute_result",
          "data": {
            "text/plain": [
              "[10, 12, 14, 16, 18]"
            ]
          },
          "metadata": {},
          "execution_count": 46
        }
      ]
    },
    {
      "cell_type": "code",
      "metadata": {
        "colab": {
          "base_uri": "https://localhost:8080/"
        },
        "id": "0KSpE5ZAoWTJ",
        "outputId": "daf08a32-7f0b-4718-8bd0-1f7b6a850b5f"
      },
      "source": [
        "list(range(20,10,-2))"
      ],
      "execution_count": null,
      "outputs": [
        {
          "output_type": "execute_result",
          "data": {
            "text/plain": [
              "[20, 18, 16, 14, 12]"
            ]
          },
          "metadata": {},
          "execution_count": 47
        }
      ]
    },
    {
      "cell_type": "markdown",
      "metadata": {
        "id": "QZe4H2WlosAZ"
      },
      "source": [
        "En resumen, los tres argumentos del tipo range($m$, $n$, $p$) son:\n",
        "\n",
        "- $m$: el valor inicial\n",
        "- $n$: el valor final (que no se alcanza nunca)\n",
        "- $p$: el paso (la cantidad que se avanza cada vez).\n",
        "\n",
        "Si se escriben sólo dos argumentos, Python le asigna a $p$ el valor 1. Es decir range($m$, $n$) es lo mismo que range($m$, $n$, 1)\n",
        "\n",
        "Si se escribe sólo un argumento, Python, le asigna a $m$ el valor 0 y a $p$ el valor 1. Es decir range($n$) es lo mismo que range(0, $n$, 1)"
      ]
    },
    {
      "cell_type": "markdown",
      "metadata": {
        "id": "bRtB_BeYGTCt"
      },
      "source": [
        "![UNI](https://posgrado.uni.edu.ni/wp-content/uploads/2017/02/logo_opt-2.png)"
      ]
    }
  ]
}